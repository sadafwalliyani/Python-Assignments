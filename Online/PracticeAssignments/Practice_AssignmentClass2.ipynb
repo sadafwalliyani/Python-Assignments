{
 "cells": [
  {
   "cell_type": "markdown",
   "metadata": {},
   "source": [
    "# Topic: print()"
   ]
  },
  {
   "cell_type": "markdown",
   "metadata": {},
   "source": [
    "1) Using the python print function print any string value, integer value, boolean value, float value in single print command"
   ]
  },
  {
   "cell_type": "code",
   "execution_count": null,
   "metadata": {},
   "outputs": [],
   "source": [
    "# type your code here"
   ]
  },
  {
   "cell_type": "code",
   "execution_count": 20,
   "metadata": {},
   "outputs": [
    {
     "name": "stdout",
     "output_type": "stream",
     "text": [
      "My Name Is Sadaf\n",
      "4\n",
      "Fail\n",
      "80.0\n"
     ]
    }
   ],
   "source": [
    "#string Value\n",
    "print(\"My Name Is Sadaf\")\n",
    "#integer Value\n",
    "print(2+2)\n",
    "#boolean Value\n",
    "var=80\n",
    "if var>100:\n",
    "    print(\"Pass\")\n",
    "else:\n",
    "    print(\"Fail\")\n",
    "\n",
    "#float Value\n",
    "print(float(var))"
   ]
  },
  {
   "cell_type": "markdown",
   "metadata": {},
   "source": [
    "2) Using the python print function print hyphon(-) separated any string value, integer value, boolean value, float value in single print command"
   ]
  },
  {
   "cell_type": "code",
   "execution_count": 26,
   "metadata": {},
   "outputs": [
    {
     "name": "stdout",
     "output_type": "stream",
     "text": [
      "Date-Birth - 123 - True - 3.14\n"
     ]
    }
   ],
   "source": [
    "# type your code here\n",
    "print(\"Date-Birth\" + \" - \" + str(123) + \" - \" + str(True) + \" - \" + str(3.14))"
   ]
  },
  {
   "cell_type": "markdown",
   "metadata": {},
   "source": [
    "3) Using the python print function print any string value, integer value, boolean value, float value in separate print command.\n",
    "But every value must be space separated and in single line "
   ]
  },
  {
   "cell_type": "code",
   "execution_count": 38,
   "metadata": {},
   "outputs": [],
   "source": [
    "import re\n",
    "from unicodedata import name\n",
    "import pandas as pd"
   ]
  },
  {
   "cell_type": "code",
   "execution_count": 54,
   "metadata": {},
   "outputs": [
    {
     "name": "stdout",
     "output_type": "stream",
     "text": [
      "[]\n"
     ]
    }
   ],
   "source": [
    "# type your code here\n",
    "data=(\"\"\"11:41:06 From Ahmad Mudassar PIAIC113830 To Everyone : PIAIC113830\n",
    "11:41:07 From Junaid Ali Bhatti To Everyone : PIAIC174125\n",
    "11:41:08 From HuzaifaTahir PIAIC-60925 To Everyone : PIAIC60925\n",
    "11:41:10 From Salman Nayyer To Everyone : PIAIC180996\n",
    "11:41:11 From Muhammad Furqan(PIAIC183270) To Everyone : PIAIC183270\n",
    "11:41:11 From Aisha Siddiqua To Everyone : PIAIC181221\n",
    "11:41:12 From vivo 1901 To Everyone : PIAIC74287\n",
    "11:41:12 From Humera Naz To Everyone : PIAIC173431\n",
    "11:41:13 From Ali Azam-PIAIC66597 To Everyone : PIAIC66597\n",
    "11:41:13 From Salma Asif To Everyone : PIAIC176945\n",
    "11:41:15 From 02. M Awais Mushtaq Sec A To Everyone : PIAIC183887\n",
    "11:41:16 From Irtiza Khan [PIAIC 171375] To Everyone : PIAIC171375\n",
    "11:41:17 From Kabeer Rajput To Everyone : PIAIC133488\n",
    "11:41:17 From Muhammad Farhan Ahsan PIAIC-168894 To Everyone : PIAIC168894\n",
    "11:41:18 From Usman Noor PIAIC-188401 To Everyone : PIAIC188401\n",
    "11:41:19 From Moattar Khanum (PIAIC170982) To Everyone : PIAIC170982\n",
    "11:41:19 From MUHAMMAD USMAN MANZOOR To Everyone : PIAIC\n",
    "Muhammad Usman Manzoor\"\"\")\n",
    "a=re.findall('PIAIC\\d{1,7}',r)\n",
    "print(a)"
   ]
  },
  {
   "cell_type": "markdown",
   "metadata": {},
   "source": [
    "4) Can a python print function take no value to print???"
   ]
  },
  {
   "cell_type": "code",
   "execution_count": null,
   "metadata": {},
   "outputs": [],
   "source": [
    "# type your answer here\n"
   ]
  },
  {
   "cell_type": "markdown",
   "metadata": {},
   "source": [
    "# TOPIC :Variables in Python Operators"
   ]
  },
  {
   "cell_type": "markdown",
   "metadata": {},
   "source": [
    "5) One of my friends name is Mr. Ahmed. He is 30 years old.  He is a lawer by profession. He has done his bachelors in law in the year 2005. He is working with a reputable law firm 'The Himalya Associates' in Karachi since 2015.\n",
    "He is a handsome lawer with height of 5.10 feets and weight 70600g. His monthly income is Rs. 200k PKR.\n",
    "\n",
    "Note: Create variables from above text and also assign values from the text.  "
   ]
  },
  {
   "cell_type": "code",
   "execution_count": null,
   "metadata": {},
   "outputs": [],
   "source": [
    "#type your code here\n"
   ]
  },
  {
   "cell_type": "markdown",
   "metadata": {},
   "source": [
    "6)How many years has been to Mr. Ahmed after his bachelors degree? Create a variable that hold current year value and then subtract it from his passout year"
   ]
  },
  {
   "cell_type": "code",
   "execution_count": null,
   "metadata": {},
   "outputs": [],
   "source": [
    "#type your code here \n"
   ]
  },
  {
   "cell_type": "markdown",
   "metadata": {},
   "source": [
    "7) How many years has Mr. Ahmed been working with law firm 'The Himalya Associates'. Create necesary variables and print the correct number of years in working in the firm"
   ]
  },
  {
   "cell_type": "code",
   "execution_count": null,
   "metadata": {},
   "outputs": [],
   "source": [
    "#type your code here \n"
   ]
  },
  {
   "cell_type": "markdown",
   "metadata": {},
   "source": [
    "8)Convert the monthly income of Mr. Ahmed in dollars.  Create necesary variables and print the income in dollars."
   ]
  },
  {
   "cell_type": "code",
   "execution_count": null,
   "metadata": {},
   "outputs": [],
   "source": [
    "#type your code here \n"
   ]
  },
  {
   "cell_type": "markdown",
   "metadata": {},
   "source": [
    "9) Check if the income in dollars is a float or integer value. if it is float, re-write the code so that income gets converted in integer. print the income in integer type value"
   ]
  },
  {
   "cell_type": "code",
   "execution_count": null,
   "metadata": {},
   "outputs": [],
   "source": [
    "#type your code here \n"
   ]
  },
  {
   "cell_type": "raw",
   "metadata": {},
   "source": [
    "10) Print the type of Mr. Ahmed's weight. Convert the weight of Mr. Ahmed in kg so that weight must be a integer value. "
   ]
  },
  {
   "cell_type": "code",
   "execution_count": null,
   "metadata": {},
   "outputs": [],
   "source": [
    "#type your code here \n"
   ]
  },
  {
   "cell_type": "raw",
   "metadata": {},
   "source": [
    "11) print the year of birth of Mr. Ahmed."
   ]
  },
  {
   "cell_type": "code",
   "execution_count": null,
   "metadata": {},
   "outputs": [],
   "source": [
    "#type your code here\n"
   ]
  },
  {
   "cell_type": "markdown",
   "metadata": {},
   "source": [
    "12) Can Rs. 100 be divided equally among 6 students? \n",
    "HINT: % operator"
   ]
  },
  {
   "cell_type": "code",
   "execution_count": null,
   "metadata": {},
   "outputs": [],
   "source": [
    "#type your code here \n"
   ]
  },
  {
   "cell_type": "code",
   "execution_count": null,
   "metadata": {},
   "outputs": [],
   "source": []
  }
 ],
 "metadata": {
  "kernelspec": {
   "display_name": "Python 3 (ipykernel)",
   "language": "python",
   "name": "python3"
  },
  "language_info": {
   "codemirror_mode": {
    "name": "ipython",
    "version": 3
   },
   "file_extension": ".py",
   "mimetype": "text/x-python",
   "name": "python",
   "nbconvert_exporter": "python",
   "pygments_lexer": "ipython3",
   "version": "3.9.13"
  }
 },
 "nbformat": 4,
 "nbformat_minor": 2
}
