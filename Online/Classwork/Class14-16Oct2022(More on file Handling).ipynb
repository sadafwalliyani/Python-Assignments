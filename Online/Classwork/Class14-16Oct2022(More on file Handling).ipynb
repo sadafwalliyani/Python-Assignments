{
 "cells": [
  {
   "cell_type": "code",
   "execution_count": 3,
   "id": "9df63854",
   "metadata": {},
   "outputs": [
    {
     "name": "stdout",
     "output_type": "stream",
     "text": [
      "Q: What is your name?\n",
      "A: My name is Nasir Hussain.\n",
      "\n",
      "Q: Where are you from ?\n",
      "A: I am from Pakistan.\n",
      "\n",
      "Q: What do you do?\n",
      "A: I do nothing.\n",
      "\n",
      "Q: Your city in Pakistan?\n",
      "A: I am from Karachi, Pakistan. \n"
     ]
    }
   ],
   "source": [
    "f = open(\"Questions.txt\", 'r')\n",
    "print(f.read())\n",
    "f.close()"
   ]
  },
  {
   "cell_type": "code",
   "execution_count": 5,
   "id": "aa6e21cd",
   "metadata": {},
   "outputs": [],
   "source": [
    "f = open(\"Questions.txt\", 'r')\n",
    "lst_lines = f.readlines()"
   ]
  },
  {
   "cell_type": "code",
   "execution_count": 7,
   "id": "138b757c",
   "metadata": {},
   "outputs": [
    {
     "name": "stdout",
     "output_type": "stream",
     "text": [
      "Q: What is your name?\n",
      "\n",
      "A: My name is Nasir Hussain.\n",
      "\n",
      "\n",
      "\n",
      "Q: Where are you from ?\n",
      "\n",
      "A: I am from Pakistan.\n",
      "\n",
      "\n",
      "\n",
      "Q: What do you do?\n",
      "\n",
      "A: I do nothing.\n",
      "\n",
      "\n",
      "\n",
      "Q: Your city in Pakistan?\n",
      "\n",
      "A: I am from Karachi, Pakistan. \n"
     ]
    }
   ],
   "source": [
    "for line in lst_lines:\n",
    "    print(line)"
   ]
  },
  {
   "cell_type": "code",
   "execution_count": 8,
   "id": "0eeea906",
   "metadata": {},
   "outputs": [],
   "source": [
    "f = open(\"Questions.txt\", 'r')\n",
    "lst_lines = f.readline()"
   ]
  },
  {
   "cell_type": "code",
   "execution_count": 10,
   "id": "418341f1",
   "metadata": {},
   "outputs": [
    {
     "name": "stdout",
     "output_type": "stream",
     "text": [
      "Q: What is your name?\n",
      "\n"
     ]
    }
   ],
   "source": [
    "print(lst_lines)"
   ]
  },
  {
   "cell_type": "code",
   "execution_count": 14,
   "id": "74250c24",
   "metadata": {},
   "outputs": [],
   "source": [
    "with open(\"Greet.txt\",\"w\") as file:\n",
    "    file.write(\"Hello Welcome to codeworld\")\n",
    "    "
   ]
  },
  {
   "cell_type": "code",
   "execution_count": 16,
   "id": "606d30f3",
   "metadata": {},
   "outputs": [
    {
     "name": "stdout",
     "output_type": "stream",
     "text": [
      "Hello Welcome to codeworld\n"
     ]
    }
   ],
   "source": [
    "with open(\"Greet.txt\",\"r\") as file:\n",
    "    cont = file.read()\n",
    "    print(cont)"
   ]
  },
  {
   "cell_type": "code",
   "execution_count": 17,
   "id": "d51915e5",
   "metadata": {},
   "outputs": [
    {
     "ename": "FileNotFoundError",
     "evalue": "[Errno 2] No such file or directory: 'Hello.txt'",
     "output_type": "error",
     "traceback": [
      "\u001b[1;31m---------------------------------------\u001b[0m",
      "\u001b[1;31mFileNotFoundError\u001b[0mTraceback (most recent call last)",
      "\u001b[1;32m<ipython-input-17-6063ccfad690>\u001b[0m in \u001b[0;36m<module>\u001b[1;34m\u001b[0m\n\u001b[1;32m----> 1\u001b[1;33m \u001b[1;32mwith\u001b[0m \u001b[0mopen\u001b[0m\u001b[1;33m(\u001b[0m\u001b[1;34m\"Hello.txt\"\u001b[0m\u001b[1;33m,\u001b[0m \u001b[1;34m'r+'\u001b[0m\u001b[1;33m)\u001b[0m \u001b[1;32mas\u001b[0m \u001b[0mfile\u001b[0m\u001b[1;33m:\u001b[0m\u001b[1;33m\u001b[0m\u001b[1;33m\u001b[0m\u001b[0m\n\u001b[0m\u001b[0;32m      2\u001b[0m     \u001b[0mfile\u001b[0m\u001b[1;33m.\u001b[0m\u001b[0mwrite\u001b[0m\u001b[1;33m(\u001b[0m\u001b[1;34m\"This is my first line in hello file\"\u001b[0m\u001b[1;33m)\u001b[0m\u001b[1;33m\u001b[0m\u001b[1;33m\u001b[0m\u001b[0m\n\u001b[0;32m      3\u001b[0m     \u001b[0mprint\u001b[0m\u001b[1;33m(\u001b[0m\u001b[0mfile\u001b[0m\u001b[1;33m.\u001b[0m\u001b[0mread\u001b[0m\u001b[1;33m(\u001b[0m\u001b[1;33m)\u001b[0m\u001b[1;33m)\u001b[0m\u001b[1;33m\u001b[0m\u001b[1;33m\u001b[0m\u001b[0m\n",
      "\u001b[1;31mFileNotFoundError\u001b[0m: [Errno 2] No such file or directory: 'Hello.txt'"
     ]
    }
   ],
   "source": [
    "with open(\"Hello.txt\", 'r+') as file:\n",
    "    file.write(\"This is my first line in hello file\")\n",
    "    print(file.read()) "
   ]
  },
  {
   "cell_type": "code",
   "execution_count": 19,
   "id": "13b0b662",
   "metadata": {},
   "outputs": [
    {
     "name": "stdout",
     "output_type": "stream",
     "text": [
      "This is my first line in hello file\n"
     ]
    }
   ],
   "source": [
    "with open(\"Hello.txt\", 'w+') as file:\n",
    "    file.write(\"This is my first line in hello file\")\n",
    "    file.seek(0)\n",
    "    print(file.read()) "
   ]
  },
  {
   "cell_type": "code",
   "execution_count": 20,
   "id": "84eff4c8",
   "metadata": {},
   "outputs": [
    {
     "name": "stdout",
     "output_type": "stream",
     "text": [
      "This is my second line in hello file\n"
     ]
    }
   ],
   "source": [
    "with open(\"Hello.txt\", 'w+') as file:\n",
    "    file.write(\"This is my second line in hello file\")\n",
    "    file.seek(0)\n",
    "    print(file.read()) "
   ]
  },
  {
   "cell_type": "code",
   "execution_count": 26,
   "id": "c90782ea",
   "metadata": {},
   "outputs": [],
   "source": [
    "with open(\"Hello1.txt\", 'a') as file:\n",
    "    file.write(\"This is my 2nd line in hello file.\")\n",
    "    file.write(\"This is my third in hello file.\")\n",
    "    file.write(\"This is my fourth line in hello file.\")\n",
    "    file.write(\"This is my fifth line in hello file.\")"
   ]
  },
  {
   "cell_type": "code",
   "execution_count": 29,
   "id": "b72cd2c8",
   "metadata": {},
   "outputs": [
    {
     "name": "stdout",
     "output_type": "stream",
     "text": [
      "This is my 2nd line in hello file\n",
      "This is my third in hello file\n",
      "This is my fourth line in hello file\n",
      "This is my fifth line in hello file\n",
      "\n"
     ]
    }
   ],
   "source": [
    "with open(\"Hello1.txt\",\"r+\") as f:\n",
    "    lst_lines = f.read().split('.')\n",
    "    for line in lst_lines:\n",
    "        print(line)"
   ]
  },
  {
   "cell_type": "code",
   "execution_count": 79,
   "id": "2ee7733f",
   "metadata": {},
   "outputs": [
    {
     "name": "stdout",
     "output_type": "stream",
     "text": [
      "<class 'str'>\n"
     ]
    }
   ],
   "source": [
    "with open(\"Hello3.txt\", 'w+') as file:\n",
    "    file.write(\"{'name':'Nasir', 'roll':1,'course':'AI'}\")\n",
    "    file.seek(0)\n",
    "    cont = file.read()\n",
    "    print(type(cont))"
   ]
  },
  {
   "cell_type": "code",
   "execution_count": 44,
   "id": "7f6f5235",
   "metadata": {},
   "outputs": [],
   "source": [
    "with open(\"Hello3.txt\", 'r+') as file:\n",
    "    for line in file.readlines():\n",
    "        with open(\"new1.txt\", \"a\") as nf:\n",
    "            nf.write(line)\n",
    "            \n",
    "    "
   ]
  },
  {
   "cell_type": "code",
   "execution_count": 43,
   "id": "315394f2",
   "metadata": {},
   "outputs": [
    {
     "name": "stdout",
     "output_type": "stream",
     "text": [
      "This is my fifth line in hello file.\n",
      "This is my 2nd line in hello file.\n",
      "This is my third in hello file.\n",
      "This is my fourth line in hello file.\n",
      "This is my fifth line in hello file.\n",
      "\n"
     ]
    }
   ],
   "source": [
    "with open('new.txt', \"r\") as nf:\n",
    "    print(nf.read())"
   ]
  },
  {
   "cell_type": "code",
   "execution_count": 45,
   "id": "737f1513",
   "metadata": {},
   "outputs": [],
   "source": [
    "import csv"
   ]
  },
  {
   "cell_type": "code",
   "execution_count": 49,
   "id": "56e84d76",
   "metadata": {},
   "outputs": [
    {
     "name": "stdout",
     "output_type": "stream",
     "text": [
      "['PlayerName', ' Sports', ' Record']\n",
      "['BaberAzam', 'Cricket', ' No1ODIPlayer']\n",
      "['FakharZaman', 'Cricket', 'No1t20Player']\n",
      "['Massy', 'Footbal', ' MostGoals']\n",
      "['Jahangir Khan', 'Squash', 'MostWins']\n"
     ]
    }
   ],
   "source": [
    "with open(\"records.csv\",\"r\") as f:\n",
    "    \n",
    "    for record in csv.reader(f):\n",
    "        print(record)"
   ]
  },
  {
   "cell_type": "code",
   "execution_count": 55,
   "id": "3180e35e",
   "metadata": {},
   "outputs": [],
   "source": [
    "with open (\"records.csv\",\"a\") as f:\n",
    "    data_handler = csv.writer(f, delimiter=\" \")\n",
    "    data_handler.writerow('\\n')\n",
    "    data_handler.writerow(['Nasir', 'Cricket', \"100\"])\n",
    "    data_handler.writerow('\\n')\n",
    "    data_handler.writerow(['Nasir', 'Cricket', \"100\"])\n",
    "    \n",
    "    \n",
    "    "
   ]
  },
  {
   "cell_type": "code",
   "execution_count": 57,
   "id": "09af0804",
   "metadata": {},
   "outputs": [],
   "source": [
    "import json \n",
    "#Java Script Object Notable\n",
    "\n",
    "object = {\"1\":\"nasir\"}"
   ]
  },
  {
   "cell_type": "code",
   "execution_count": 69,
   "id": "303da0c4",
   "metadata": {},
   "outputs": [],
   "source": [
    "# dictionary Comprehension\n",
    "\n",
    "record1 = {'name':\"Nasir\", 'roll':1,'course':'AI'}\n"
   ]
  },
  {
   "cell_type": "code",
   "execution_count": 71,
   "id": "3177bb5a",
   "metadata": {},
   "outputs": [],
   "source": [
    "with open('record1.json', 'w') as handle:\n",
    "    json.dump(record1,handle)"
   ]
  },
  {
   "cell_type": "code",
   "execution_count": 85,
   "id": "1dbd0575",
   "metadata": {},
   "outputs": [
    {
     "name": "stdout",
     "output_type": "stream",
     "text": [
      "<class 'dict'>\n",
      "1\n"
     ]
    }
   ],
   "source": [
    "with open('record1.json', 'r') as file:\n",
    "    cont = json.load(file)\n",
    "    print(type(cont))\n",
    "    \n",
    "    print(cont['roll'])"
   ]
  },
  {
   "cell_type": "code",
   "execution_count": null,
   "id": "4e237734",
   "metadata": {},
   "outputs": [],
   "source": [
    "namaz break till 2:15"
   ]
  }
 ],
 "metadata": {
  "kernelspec": {
   "display_name": "Python 3",
   "language": "python",
   "name": "python3"
  },
  "language_info": {
   "codemirror_mode": {
    "name": "ipython",
    "version": 3
   },
   "file_extension": ".py",
   "mimetype": "text/x-python",
   "name": "python",
   "nbconvert_exporter": "python",
   "pygments_lexer": "ipython3",
   "version": "3.7.4"
  }
 },
 "nbformat": 4,
 "nbformat_minor": 5
}
