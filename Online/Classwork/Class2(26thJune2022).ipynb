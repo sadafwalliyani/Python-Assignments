{
 "cells": [
  {
   "cell_type": "raw",
   "id": "d5480c85",
   "metadata": {},
   "source": [
    "# Cell execute shift+enter   >> executes current cell and adds a new cell below\n",
    "               ctrl+enter    >>> it only executes the current cell "
   ]
  },
  {
   "cell_type": "markdown",
   "id": "d0b52a05",
   "metadata": {},
   "source": [
    "# Introduction to Programming in Python"
   ]
  },
  {
   "cell_type": "markdown",
   "id": "0976853f",
   "metadata": {},
   "source": [
    "Topic: \n",
    "    - Why python? \n",
    "    - Interpreter \n",
    "    - Compiler \n",
    "    - Print function\n",
    "    - Variables\n",
    "    - Naming Conventions\n",
    "    - Operator"
   ]
  },
  {
   "cell_type": "markdown",
   "id": "f368c797",
   "metadata": {},
   "source": [
    "Mode of translation: \n",
    "    Python is interpreter based \n",
    "    "
   ]
  },
  {
   "cell_type": "markdown",
   "id": "48d2ffaf",
   "metadata": {},
   "source": [
    "# Print Function\n",
    "  - print function print the given value/values on the console"
   ]
  },
  {
   "cell_type": "code",
   "execution_count": 1,
   "id": "c6e21f5c",
   "metadata": {},
   "outputs": [
    {
     "name": "stdout",
     "output_type": "stream",
     "text": [
      "100\n"
     ]
    }
   ],
   "source": [
    "print(100)"
   ]
  },
  {
   "cell_type": "code",
   "execution_count": 2,
   "id": "be76fcc3",
   "metadata": {},
   "outputs": [
    {
     "name": "stdout",
     "output_type": "stream",
     "text": [
      "23\n"
     ]
    }
   ],
   "source": [
    "print(23)"
   ]
  },
  {
   "cell_type": "code",
   "execution_count": 3,
   "id": "db360db4",
   "metadata": {},
   "outputs": [
    {
     "name": "stdout",
     "output_type": "stream",
     "text": [
      "34\n"
     ]
    }
   ],
   "source": [
    "print(34)"
   ]
  },
  {
   "cell_type": "code",
   "execution_count": 4,
   "id": "4cea73c1",
   "metadata": {},
   "outputs": [
    {
     "name": "stdout",
     "output_type": "stream",
     "text": [
      "hello python\n"
     ]
    }
   ],
   "source": [
    "print(\"hello python\")"
   ]
  },
  {
   "cell_type": "markdown",
   "id": "e1240e66",
   "metadata": {},
   "source": [
    "# Type of values\n",
    "      Numeric Values:\n",
    "          - whole numbers (Integers) python>>> (int)\n",
    "             Example: 2,3,4789,890,1000, -3, -6 \n",
    "          - Decimal numnbers (Decimals) python>>> (float)\n",
    "             Example: 2.3 , 45.0\n",
    "     Alphabets: \n",
    "         - char/words/sentence/paragraph (String)  python (str)\n",
    "            Example: \"Hello World\"\n",
    "                     \"1000\"\n",
    "                     'Hello'\n",
    "                     '100'\n",
    "                     \n",
    "                     ''' Hello'''\n",
    "                     '''100'''\n",
    "     Boolean Values: \n",
    "            true /false python ( True / False) python( bool)\n",
    "            \n",
    "         "
   ]
  },
  {
   "cell_type": "code",
   "execution_count": 5,
   "id": "d6bcb6d8",
   "metadata": {},
   "outputs": [
    {
     "name": "stdout",
     "output_type": "stream",
     "text": [
      "500\n"
     ]
    }
   ],
   "source": [
    "print(500)"
   ]
  },
  {
   "cell_type": "code",
   "execution_count": 6,
   "id": "8255023b",
   "metadata": {},
   "outputs": [
    {
     "name": "stdout",
     "output_type": "stream",
     "text": [
      "56.9\n"
     ]
    }
   ],
   "source": [
    "print(56.9)"
   ]
  },
  {
   "cell_type": "code",
   "execution_count": 7,
   "id": "d486be51",
   "metadata": {},
   "outputs": [
    {
     "name": "stdout",
     "output_type": "stream",
     "text": [
      "Hello World\n"
     ]
    }
   ],
   "source": [
    "print(\"Hello World\")"
   ]
  },
  {
   "cell_type": "code",
   "execution_count": 10,
   "id": "52ace74c",
   "metadata": {},
   "outputs": [
    {
     "name": "stdout",
     "output_type": "stream",
     "text": [
      "You are pythonaires\n"
     ]
    }
   ],
   "source": [
    "print('You are pythonaires')"
   ]
  },
  {
   "cell_type": "code",
   "execution_count": 11,
   "id": "7320ec07",
   "metadata": {},
   "outputs": [
    {
     "name": "stdout",
     "output_type": "stream",
     "text": [
      "Hello python\n"
     ]
    }
   ],
   "source": [
    "print('''Hello python''')"
   ]
  },
  {
   "cell_type": "code",
   "execution_count": 8,
   "id": "88dd6c34",
   "metadata": {},
   "outputs": [
    {
     "name": "stdout",
     "output_type": "stream",
     "text": [
      "True\n"
     ]
    }
   ],
   "source": [
    "print(True)"
   ]
  },
  {
   "cell_type": "code",
   "execution_count": 9,
   "id": "42be9bac",
   "metadata": {},
   "outputs": [
    {
     "name": "stdout",
     "output_type": "stream",
     "text": [
      "False\n"
     ]
    }
   ],
   "source": [
    "print(False)"
   ]
  },
  {
   "cell_type": "code",
   "execution_count": 12,
   "id": "279c4aa6",
   "metadata": {},
   "outputs": [
    {
     "name": "stdout",
     "output_type": "stream",
     "text": [
      "12345\n"
     ]
    }
   ],
   "source": [
    "print(\"12345\")"
   ]
  },
  {
   "cell_type": "code",
   "execution_count": 13,
   "id": "21376d10",
   "metadata": {},
   "outputs": [
    {
     "data": {
      "text/plain": [
       "int"
      ]
     },
     "execution_count": 13,
     "metadata": {},
     "output_type": "execute_result"
    }
   ],
   "source": [
    "type(67)"
   ]
  },
  {
   "cell_type": "code",
   "execution_count": 14,
   "id": "2847c2cd",
   "metadata": {},
   "outputs": [
    {
     "data": {
      "text/plain": [
       "float"
      ]
     },
     "execution_count": 14,
     "metadata": {},
     "output_type": "execute_result"
    }
   ],
   "source": [
    "type(4.5)"
   ]
  },
  {
   "cell_type": "code",
   "execution_count": 15,
   "id": "3e9c1c78",
   "metadata": {},
   "outputs": [
    {
     "data": {
      "text/plain": [
       "str"
      ]
     },
     "execution_count": 15,
     "metadata": {},
     "output_type": "execute_result"
    }
   ],
   "source": [
    "type(\"Pakistan\")"
   ]
  },
  {
   "cell_type": "code",
   "execution_count": 16,
   "id": "b5e215d1",
   "metadata": {},
   "outputs": [
    {
     "data": {
      "text/plain": [
       "bool"
      ]
     },
     "execution_count": 16,
     "metadata": {},
     "output_type": "execute_result"
    }
   ],
   "source": [
    "type(True)"
   ]
  },
  {
   "cell_type": "code",
   "execution_count": 17,
   "id": "5f85145d",
   "metadata": {},
   "outputs": [
    {
     "name": "stdout",
     "output_type": "stream",
     "text": [
      "Nasir Mohsin\n"
     ]
    }
   ],
   "source": [
    "print(\"Nasir\", \"Mohsin\")"
   ]
  },
  {
   "cell_type": "code",
   "execution_count": 19,
   "id": "19c28881",
   "metadata": {},
   "outputs": [
    {
     "name": "stdout",
     "output_type": "stream",
     "text": [
      "12 PIAIC True 90.1\n"
     ]
    }
   ],
   "source": [
    "print(12,\"PIAIC\", True , 90.1)"
   ]
  },
  {
   "cell_type": "code",
   "execution_count": 21,
   "id": "25d99f24",
   "metadata": {},
   "outputs": [
    {
     "name": "stdout",
     "output_type": "stream",
     "text": [
      "12        PIAIC        True        90.1\n"
     ]
    }
   ],
   "source": [
    "print(12,\"PIAIC\", True , 90.1,sep=\"        \")"
   ]
  },
  {
   "cell_type": "markdown",
   "id": "d5c97545",
   "metadata": {},
   "source": [
    "# Escape Characters in python\n",
    " https://www.w3schools.com/python/gloss_python_escape_characters.asp"
   ]
  },
  {
   "cell_type": "code",
   "execution_count": 28,
   "id": "604a6f12",
   "metadata": {},
   "outputs": [
    {
     "name": "stdout",
     "output_type": "stream",
     "text": [
      "I \n",
      "am student\n",
      "of Python.\n",
      "I am learning python\tin PIAIC\n"
     ]
    }
   ],
   "source": [
    "print(\"I \\nam student\\nof Python.\\nI am learning python\\tin PIAIC\")"
   ]
  },
  {
   "cell_type": "code",
   "execution_count": 33,
   "id": "ce339c67",
   "metadata": {},
   "outputs": [
    {
     "name": "stdout",
     "output_type": "stream",
     "text": [
      "I am student of PythonI am learning python in PIAICI am student of Python\n"
     ]
    }
   ],
   "source": [
    "print(\"I am student of Python\",end=\"\")\n",
    "print(\"I am learning python in PIAIC\",end=\"\")\n",
    "print(\"I am student of Python\")"
   ]
  },
  {
   "cell_type": "markdown",
   "id": "490dcd80",
   "metadata": {},
   "source": [
    "# Variables in Python\n",
    "   - variables also called identfiers\n",
    "   - variables are containers/reservoirs to store values"
   ]
  },
  {
   "cell_type": "code",
   "execution_count": 36,
   "id": "77fba9dd",
   "metadata": {},
   "outputs": [],
   "source": [
    "marks =  90\n",
    "# marks >>> variable name/ identifer\n",
    "# '='   >>> assignment operator\n",
    "#  90    >>> an integer value\n",
    "\n",
    "#  A integer value 90 is assigned to a variable marks"
   ]
  },
  {
   "cell_type": "code",
   "execution_count": 37,
   "id": "0f004d76",
   "metadata": {},
   "outputs": [
    {
     "name": "stdout",
     "output_type": "stream",
     "text": [
      "90\n"
     ]
    }
   ],
   "source": [
    "print(marks)"
   ]
  },
  {
   "cell_type": "code",
   "execution_count": 38,
   "id": "007c791a",
   "metadata": {},
   "outputs": [
    {
     "data": {
      "text/plain": [
       "140713642077360"
      ]
     },
     "execution_count": 38,
     "metadata": {},
     "output_type": "execute_result"
    }
   ],
   "source": [
    "# Address\n",
    "id(marks)"
   ]
  },
  {
   "cell_type": "code",
   "execution_count": 39,
   "id": "8ea6cf3e",
   "metadata": {},
   "outputs": [
    {
     "data": {
      "text/plain": [
       "int"
      ]
     },
     "execution_count": 39,
     "metadata": {},
     "output_type": "execute_result"
    }
   ],
   "source": [
    "type(marks)"
   ]
  },
  {
   "cell_type": "code",
   "execution_count": 40,
   "id": "90982b26",
   "metadata": {},
   "outputs": [],
   "source": [
    "name = \"Mohsin\""
   ]
  },
  {
   "cell_type": "code",
   "execution_count": 41,
   "id": "8cea9522",
   "metadata": {},
   "outputs": [
    {
     "name": "stdout",
     "output_type": "stream",
     "text": [
      "Mohsin\n"
     ]
    }
   ],
   "source": [
    "print(name)"
   ]
  },
  {
   "cell_type": "code",
   "execution_count": 42,
   "id": "9f8089b2",
   "metadata": {},
   "outputs": [
    {
     "data": {
      "text/plain": [
       "100"
      ]
     },
     "execution_count": 42,
     "metadata": {},
     "output_type": "execute_result"
    }
   ],
   "source": [
    "marks + 10 "
   ]
  },
  {
   "cell_type": "code",
   "execution_count": 43,
   "id": "fbb35914",
   "metadata": {},
   "outputs": [
    {
     "data": {
      "text/plain": [
       "80"
      ]
     },
     "execution_count": 43,
     "metadata": {},
     "output_type": "execute_result"
    }
   ],
   "source": [
    "marks-10"
   ]
  },
  {
   "cell_type": "code",
   "execution_count": 44,
   "id": "6bfe1aac",
   "metadata": {},
   "outputs": [
    {
     "data": {
      "text/plain": [
       "90"
      ]
     },
     "execution_count": 44,
     "metadata": {},
     "output_type": "execute_result"
    }
   ],
   "source": [
    "marks"
   ]
  },
  {
   "cell_type": "code",
   "execution_count": 45,
   "id": "2acc077b",
   "metadata": {},
   "outputs": [],
   "source": [
    "marks=marks+100"
   ]
  },
  {
   "cell_type": "code",
   "execution_count": 46,
   "id": "b9efd8a6",
   "metadata": {},
   "outputs": [],
   "source": [
    "per = 78.6"
   ]
  },
  {
   "cell_type": "code",
   "execution_count": 47,
   "id": "260ff4b1",
   "metadata": {},
   "outputs": [
    {
     "data": {
      "text/plain": [
       "268.6"
      ]
     },
     "execution_count": 47,
     "metadata": {},
     "output_type": "execute_result"
    }
   ],
   "source": [
    "per + marks"
   ]
  },
  {
   "cell_type": "code",
   "execution_count": 48,
   "id": "db962d00",
   "metadata": {},
   "outputs": [
    {
     "data": {
      "text/plain": [
       "37"
      ]
     },
     "execution_count": 48,
     "metadata": {},
     "output_type": "execute_result"
    }
   ],
   "source": [
    "34 + 3"
   ]
  },
  {
   "cell_type": "code",
   "execution_count": 49,
   "id": "58b389c0",
   "metadata": {},
   "outputs": [],
   "source": [
    "isPaid = True"
   ]
  },
  {
   "cell_type": "code",
   "execution_count": 50,
   "id": "3cdb73f1",
   "metadata": {},
   "outputs": [
    {
     "data": {
      "text/plain": [
       "bool"
      ]
     },
     "execution_count": 50,
     "metadata": {},
     "output_type": "execute_result"
    }
   ],
   "source": [
    "type(isPaid)"
   ]
  },
  {
   "attachments": {},
   "cell_type": "markdown",
   "id": "b0d8f942",
   "metadata": {},
   "source": [
    "# Variable Naming Conventions\n",
    " - logically be a true represenation of your value\n",
    " - illegal:\n",
    "       -any word that is used by python like , for, while , else, class,True ,False >>>>>reserved words/keywords!\n",
    "       \n",
    "       - variable name will not begin with a number\n",
    "            1ststudent \n",
    "            12 = \"number\"\n",
    "       -special characters can not be used in variable names:\n",
    "            name2@\n",
    "            friends-name\n",
    "            -n*ame\n",
    "       "
   ]
  },
  {
   "attachments": {
    "Screenshot%20%28131%29.png": {
     "image/png": "[encoded data removed]"
    }
   },
   "cell_type": "markdown",
   "id": "0c3ac182",
   "metadata": {},
   "source": [
    "![Screenshot%20%28131%29.png](attachment:Screenshot%20%28131%29.png)"
   ]
  },
  {
   "cell_type": "markdown",
   "id": "a1a236d7",
   "metadata": {},
   "source": [
    "emp_name  = \"kamran Khan\""
   ]
  },
  {
   "cell_type": "code",
   "execution_count": 54,
   "id": "703e3e41",
   "metadata": {},
   "outputs": [],
   "source": [
    "total_marks = 100"
   ]
  },
  {
   "cell_type": "code",
   "execution_count": 57,
   "id": "25dd99af",
   "metadata": {},
   "outputs": [],
   "source": [
    "first_book_title = \"Python\""
   ]
  },
  {
   "cell_type": "code",
   "execution_count": 58,
   "id": "15cfa7f2",
   "metadata": {},
   "outputs": [],
   "source": [
    "firstBookTitle = \"Ai\""
   ]
  },
  {
   "cell_type": "markdown",
   "id": "722bfbb8",
   "metadata": {},
   "source": [
    "# Operators\n",
    "    - (+) addition\n",
    "    - (+) concatenation\n",
    "    - (-) subtract\n",
    "    - (*) multiply\n",
    "    - (/) divide  (Flaot division)\n",
    "    - (//) divide (Integer Division)\n",
    "    - (%) modulus (Remainder in a divsion)\n",
    "    - > Greater than\n",
    "    - < Less than\n",
    "    - <= Greater than equal \n",
    "    - >= Less than equal \n",
    "    - == Equal to \n",
    "    - != Not equal to \n",
    "    "
   ]
  },
  {
   "cell_type": "code",
   "execution_count": 59,
   "id": "29b04d8a",
   "metadata": {},
   "outputs": [
    {
     "data": {
      "text/plain": [
       "7"
      ]
     },
     "execution_count": 59,
     "metadata": {},
     "output_type": "execute_result"
    }
   ],
   "source": [
    "3+ 4"
   ]
  },
  {
   "cell_type": "code",
   "execution_count": 60,
   "id": "c3b00fb1",
   "metadata": {},
   "outputs": [
    {
     "data": {
      "text/plain": [
       "'Nasirhussain'"
      ]
     },
     "execution_count": 60,
     "metadata": {},
     "output_type": "execute_result"
    }
   ],
   "source": [
    "\"Nasir\" + \"hussain\""
   ]
  },
  {
   "cell_type": "code",
   "execution_count": 61,
   "id": "4830b4c4",
   "metadata": {},
   "outputs": [
    {
     "data": {
      "text/plain": [
       "5"
      ]
     },
     "execution_count": 61,
     "metadata": {},
     "output_type": "execute_result"
    }
   ],
   "source": [
    "10-5"
   ]
  },
  {
   "cell_type": "code",
   "execution_count": 62,
   "id": "9bd29973",
   "metadata": {},
   "outputs": [
    {
     "data": {
      "text/plain": [
       "60"
      ]
     },
     "execution_count": 62,
     "metadata": {},
     "output_type": "execute_result"
    }
   ],
   "source": [
    "20*3"
   ]
  },
  {
   "cell_type": "code",
   "execution_count": 63,
   "id": "4709fa02",
   "metadata": {},
   "outputs": [
    {
     "data": {
      "text/plain": [
       "1.0"
      ]
     },
     "execution_count": 63,
     "metadata": {},
     "output_type": "execute_result"
    }
   ],
   "source": [
    "10/10 # result is a float value"
   ]
  },
  {
   "cell_type": "code",
   "execution_count": 64,
   "id": "7c00abac",
   "metadata": {},
   "outputs": [
    {
     "data": {
      "text/plain": [
       "3.3333333333333335"
      ]
     },
     "execution_count": 64,
     "metadata": {},
     "output_type": "execute_result"
    }
   ],
   "source": [
    "10/3"
   ]
  },
  {
   "cell_type": "code",
   "execution_count": 65,
   "id": "bd4843da",
   "metadata": {},
   "outputs": [
    {
     "data": {
      "text/plain": [
       "3"
      ]
     },
     "execution_count": 65,
     "metadata": {},
     "output_type": "execute_result"
    }
   ],
   "source": [
    "10//3 # integer division"
   ]
  },
  {
   "cell_type": "code",
   "execution_count": 67,
   "id": "9bca6022",
   "metadata": {},
   "outputs": [
    {
     "data": {
      "text/plain": [
       "3"
      ]
     },
     "execution_count": 67,
     "metadata": {},
     "output_type": "execute_result"
    }
   ],
   "source": [
    "15 % 4"
   ]
  },
  {
   "cell_type": "code",
   "execution_count": 69,
   "id": "820ac52c",
   "metadata": {},
   "outputs": [
    {
     "data": {
      "text/plain": [
       "True"
      ]
     },
     "execution_count": 69,
     "metadata": {},
     "output_type": "execute_result"
    }
   ],
   "source": [
    "20 % 2 == 0"
   ]
  },
  {
   "cell_type": "code",
   "execution_count": 70,
   "id": "cb5f45b6",
   "metadata": {},
   "outputs": [
    {
     "data": {
      "text/plain": [
       "False"
      ]
     },
     "execution_count": 70,
     "metadata": {},
     "output_type": "execute_result"
    }
   ],
   "source": [
    "12>13"
   ]
  },
  {
   "cell_type": "code",
   "execution_count": 71,
   "id": "c1858131",
   "metadata": {},
   "outputs": [
    {
     "data": {
      "text/plain": [
       "True"
      ]
     },
     "execution_count": 71,
     "metadata": {},
     "output_type": "execute_result"
    }
   ],
   "source": [
    "12<13"
   ]
  },
  {
   "cell_type": "code",
   "execution_count": 73,
   "id": "db8bf1f8",
   "metadata": {},
   "outputs": [
    {
     "data": {
      "text/plain": [
       "True"
      ]
     },
     "execution_count": 73,
     "metadata": {},
     "output_type": "execute_result"
    }
   ],
   "source": [
    "12<=13"
   ]
  },
  {
   "cell_type": "code",
   "execution_count": 74,
   "id": "81b0f69a",
   "metadata": {},
   "outputs": [
    {
     "data": {
      "text/plain": [
       "False"
      ]
     },
     "execution_count": 74,
     "metadata": {},
     "output_type": "execute_result"
    }
   ],
   "source": [
    "12!=12"
   ]
  },
  {
   "cell_type": "code",
   "execution_count": 75,
   "id": "2cc4d354",
   "metadata": {},
   "outputs": [
    {
     "data": {
      "text/plain": [
       "False"
      ]
     },
     "execution_count": 75,
     "metadata": {},
     "output_type": "execute_result"
    }
   ],
   "source": [
    "12==13"
   ]
  },
  {
   "cell_type": "code",
   "execution_count": 76,
   "id": "26a5bd04",
   "metadata": {},
   "outputs": [],
   "source": [
    "a=10"
   ]
  },
  {
   "cell_type": "code",
   "execution_count": 82,
   "id": "c61340cf",
   "metadata": {},
   "outputs": [
    {
     "data": {
      "text/plain": [
       "'Nasir'"
      ]
     },
     "execution_count": 82,
     "metadata": {},
     "output_type": "execute_result"
    }
   ],
   "source": [
    "b = 100\n",
    "name  = \"Nasir\"\n",
    "name"
   ]
  },
  {
   "cell_type": "code",
   "execution_count": 83,
   "id": "332c117b",
   "metadata": {},
   "outputs": [
    {
     "name": "stdout",
     "output_type": "stream",
     "text": [
      "Nasir\n"
     ]
    }
   ],
   "source": [
    "print(name)"
   ]
  },
  {
   "cell_type": "code",
   "execution_count": null,
   "id": "c987d1ab",
   "metadata": {},
   "outputs": [],
   "source": []
  }
 ],
 "metadata": {
  "kernelspec": {
   "display_name": "Python 3",
   "language": "python",
   "name": "python3"
  },
  "language_info": {
   "codemirror_mode": {
    "name": "ipython",
    "version": 3
   },
   "file_extension": ".py",
   "mimetype": "text/x-python",
   "name": "python",
   "nbconvert_exporter": "python",
   "pygments_lexer": "ipython3",
   "version": "3.7.4"
  }
 },
 "nbformat": 4,
 "nbformat_minor": 5
}
