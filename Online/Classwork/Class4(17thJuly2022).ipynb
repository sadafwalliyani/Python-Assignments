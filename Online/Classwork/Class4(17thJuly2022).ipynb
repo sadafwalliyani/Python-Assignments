{
 "cells": [
  {
   "cell_type": "markdown",
   "id": "f1a49b4d",
   "metadata": {},
   "source": [
    "# If Clause /Statement"
   ]
  },
  {
   "cell_type": "code",
   "execution_count": 3,
   "id": "2933e8d6",
   "metadata": {},
   "outputs": [
    {
     "name": "stdout",
     "output_type": "stream",
     "text": [
      "Enter age18\n",
      "Young\n",
      "Young\n",
      "Young\n",
      "Young\n",
      "Young\n",
      "I m out of if block now\n"
     ]
    }
   ],
   "source": [
    "age = int(input('Enter age'))  \n",
    "\n",
    "if age >= 18:# Statement / Clause must be true to run block\n",
    "    print(\"Young1\")\n",
    "    print(\"Young2\")\n",
    "    print(\"Young3\")\n",
    "    print(\"Young4\")\n",
    "    print(\"Young5\")\n",
    "\n",
    "print(\"I m out of if block now\") "
   ]
  },
  {
   "cell_type": "code",
   "execution_count": 25,
   "id": "49efb50a",
   "metadata": {},
   "outputs": [
    {
     "ename": "SyntaxError",
     "evalue": "invalid syntax (<ipython-input-25-e592bffea9ce>, line 5)",
     "output_type": "error",
     "traceback": [
      "\u001b[1;36m  File \u001b[1;32m\"<ipython-input-25-e592bffea9ce>\"\u001b[1;36m, line \u001b[1;32m5\u001b[0m\n\u001b[1;33m    else:\u001b[0m\n\u001b[1;37m       ^\u001b[0m\n\u001b[1;31mSyntaxError\u001b[0m\u001b[1;31m:\u001b[0m invalid syntax\n"
     ]
    }
   ],
   "source": [
    "tomato_price = int(input(\"Tamater kia hisab hen\"))\n",
    "if tomato_price < 50:\n",
    "    print(\"Give me 5kg.\")\n",
    "\n",
    "else:\n",
    "    print(\"2KG\")\n",
    "    \n",
    "# else will only be excecuted iff the if statement goes wrong"
   ]
  },
  {
   "cell_type": "markdown",
   "id": "dd9ed2a4",
   "metadata": {},
   "source": [
    "# NESTED IF CLAUSES "
   ]
  },
  {
   "cell_type": "code",
   "execution_count": 6,
   "id": "7efbcebf",
   "metadata": {},
   "outputs": [],
   "source": [
    "#brand\n",
    "#color\n",
    "#size\n",
    "#price\n",
    "##yes/no##"
   ]
  },
  {
   "cell_type": "code",
   "execution_count": 10,
   "id": "d5572276",
   "metadata": {},
   "outputs": [
    {
     "name": "stdout",
     "output_type": "stream",
     "text": [
      "Enter brandsdfdfdf\n",
      "Shirt colorred\n",
      "Shirt sizew\n",
      "Enter price1\n"
     ]
    }
   ],
   "source": [
    "brand_name = input(\"Enter brand\")\n",
    "shirt_color = input(\"Shirt color\")\n",
    "shirt_size = input(\"Shirt size\")\n",
    "shirt_price = int(input(\"Enter price\"))\n",
    "\n",
    "if brand_name == \"polo\":\n",
    "    if shirt_color == \"red\":\n",
    "        if shirt_size == \"M\":\n",
    "            if shirt_price < 1500:\n",
    "                print(\"Pack karo\")"
   ]
  },
  {
   "cell_type": "markdown",
   "id": "ee700dd9",
   "metadata": {},
   "source": [
    "Redefined the above code"
   ]
  },
  {
   "cell_type": "code",
   "execution_count": 14,
   "id": "85deece0",
   "metadata": {},
   "outputs": [
    {
     "name": "stdout",
     "output_type": "stream",
     "text": [
      "Enter brandpolo\n",
      "Shirt colorred\n",
      "Shirt sizeM\n",
      "Enter price2000\n"
     ]
    }
   ],
   "source": [
    "brand_name = input(\"Enter brand\")\n",
    "if brand_name == \"polo\":\n",
    "    shirt_color = input(\"Shirt color\")\n",
    "    if shirt_color == \"red\":\n",
    "        shirt_size = input(\"Shirt size\")\n",
    "        if shirt_size == \"M\":\n",
    "            shirt_price = int(input(\"Enter price\"))\n",
    "            if shirt_price < 1500:\n",
    "                print(\"Pack karo\")"
   ]
  },
  {
   "cell_type": "markdown",
   "id": "1b0461ba",
   "metadata": {},
   "source": [
    "# Nested if with else\n",
    "   - In nested if's every clause must be true to reach target answer\n",
    "   - If any of the if clause fails it will move to respective else block."
   ]
  },
  {
   "cell_type": "code",
   "execution_count": 24,
   "id": "4208606a",
   "metadata": {},
   "outputs": [
    {
     "name": "stdout",
     "output_type": "stream",
     "text": [
      "Enter brandpolo\n",
      "Shirt colorred\n",
      "Shirt sizeM\n",
      "Enter price1400\n",
      "\n",
      "         ABC Shopping Centre\n",
      "         ___________________\n",
      "         \n",
      "         Item Brand  : polo\n",
      "         Item Color  : red\n",
      "         Item Size   : M\n",
      "         Item price  : 1400\n",
      "         \n",
      "         Thank your for shopping with us\n",
      "         ________________________________\n",
      "\n"
     ]
    }
   ],
   "source": [
    "shopping_cart = None\n",
    "brand_name = input(\"Enter brand\")\n",
    "if brand_name == \"polo\":\n",
    "    shirt_color = input(\"Shirt color\")\n",
    "    if shirt_color == \"red\":\n",
    "        shirt_size = input(\"Shirt size\")\n",
    "        if shirt_size == \"M\":\n",
    "            shirt_price = int(input(\"Enter price\"))\n",
    "            if shirt_price < 1500:\n",
    "                shopping_cart = f'{brand_name},{shirt_color},{shirt_size},{shirt_price}'\n",
    "            else:\n",
    "                \n",
    "                shopping_cart = \"Out of my budget\"\n",
    "        else:\n",
    "            shopping_cart = \"Size not available\"\n",
    "        \n",
    "    else:\n",
    "        shopping_cart = \"Color not available\"\n",
    "else:\n",
    "    shopping_cart = \"Brand not avaiable\"\n",
    "print(f\"\"\"\n",
    "         ABC Shopping Centre\n",
    "         ___________________\n",
    "         \n",
    "         Item Brand  : {brand_name}\n",
    "         Item Color  : {shirt_color}\n",
    "         Item Size   : {shirt_size}\n",
    "         Item price  : {shirt_price}\n",
    "         \n",
    "         Thank your for shopping with us\n",
    "         ________________________________\n",
    "\"\"\")"
   ]
  },
  {
   "cell_type": "markdown",
   "id": "05211abd",
   "metadata": {},
   "source": [
    "# Multiple if Clauses"
   ]
  },
  {
   "cell_type": "code",
   "execution_count": 27,
   "id": "8d180470",
   "metadata": {},
   "outputs": [
    {
     "name": "stdout",
     "output_type": "stream",
     "text": [
      "Python marks90\n",
      "Java marks89\n",
      "C marks90\n",
      "JS marks90\n",
      "Php marks98\n",
      "\n",
      "      Result Card\n",
      "      __________\n",
      "      \n",
      "      Obtained Marks: 457\n",
      "      Percentage    :91.4\n",
      "      Grade         :A*\n",
      "      \n",
      "      \n"
     ]
    }
   ],
   "source": [
    "#if else elif \n",
    "python = int(input(\"Python marks\"))\n",
    "java = int(input(\"Java marks\"))\n",
    "c = int(input(\"C marks\"))\n",
    "js = int(input(\"JS marks\"))\n",
    "php = int(input(\"Php marks\"))\n",
    "grade = None\n",
    "\n",
    "total_obt = python + java + c + js + php\n",
    "percentage = total_obt /500 *100\n",
    "\n",
    "if percentage >=90:\n",
    "    grade = \"A*\"    \n",
    "elif percentage >=80:\n",
    "    grade = \"A\"    \n",
    "elif percentage >=70:\n",
    "    grade = \"B\"    \n",
    "elif percentage >=60:\n",
    "    grade = \"C\"\n",
    "elif percentage >=50:\n",
    "    grade = \"D\"\n",
    "else:\n",
    "    grade = \"U\"   \n",
    "\n",
    "print(f\"\"\"\n",
    "      Result Card\n",
    "      __________\n",
    "      \n",
    "      Obtained Marks: {total_obt}\n",
    "      Percentage    : {percentage}\n",
    "      Grade         : {grade}\n",
    "      \n",
    "      \"\"\")"
   ]
  },
  {
   "cell_type": "code",
   "execution_count": null,
   "id": "be975e56",
   "metadata": {},
   "outputs": [],
   "source": [
    "\n",
    "####Testing not recommended###\n",
    "if percentage >=90:\n",
    "    grade = \"A*\"    \n",
    "else:\n",
    "    if percentage >=80:\n",
    "        grade = \"A\"    \n",
    "    else:\n",
    "        if percentage >=70:\n",
    "            grade = \"B\"    \n",
    "        else:\n",
    "            if percentage >=60:\n",
    "                grade = \"C\"\n",
    "            else:\n",
    "                if percentage >=50:\n",
    "                    grade = \"D\"\n",
    "                else:\n",
    "                    grade = \"U\"   "
   ]
  },
  {
   "cell_type": "raw",
   "id": "718e76ca",
   "metadata": {},
   "source": [
    "Nested if clauses >>>>>>>>>> and operator\n",
    "Multiple if clauses >>>>>>>> or operator"
   ]
  },
  {
   "cell_type": "code",
   "execution_count": 31,
   "id": "57048434",
   "metadata": {},
   "outputs": [
    {
     "name": "stdout",
     "output_type": "stream",
     "text": [
      "Enter your user idnasir\n",
      "Enter your passwordabcd\n",
      "User id or password is wrong\n"
     ]
    }
   ],
   "source": [
    "#user login \n",
    "user_id = \"nasirh\"\n",
    "password = 'abcd1234'\n",
    "\n",
    "uid = input(\"Enter your user id\")\n",
    "pwd = input(\"Enter your password\")\n",
    "\n",
    "if ((uid==user_id) and (pwd==password)):\n",
    "    print(\"Your are welcome to my class\")\n",
    "else:\n",
    "    print(\"User id or password is wrong\")"
   ]
  },
  {
   "cell_type": "code",
   "execution_count": 38,
   "id": "1a23e2bf",
   "metadata": {},
   "outputs": [
    {
     "name": "stdout",
     "output_type": "stream",
     "text": [
      "do you have CNIC NO\n",
      "do you have passportNO\n",
      "You can not have a driving license\n"
     ]
    }
   ],
   "source": [
    "hasCNIC = input(\"do you have CNIC \").lower()\n",
    "hasPassport = input(\"do you have passport\").lower()\n",
    "\n",
    "if hasCNIC=='yes' or hasPassport==\"yes\":\n",
    "    print(\"you can have a driving license\")\n",
    "else: \n",
    "    \n",
    "    print(\"You can not have a driving license\")\n",
    "    "
   ]
  },
  {
   "cell_type": "code",
   "execution_count": 40,
   "id": "5222c0ad",
   "metadata": {},
   "outputs": [],
   "source": [
    "a = 10 # assigment"
   ]
  },
  {
   "cell_type": "code",
   "execution_count": 41,
   "id": "cc589219",
   "metadata": {},
   "outputs": [
    {
     "data": {
      "text/plain": [
       "True"
      ]
     },
     "execution_count": 41,
     "metadata": {},
     "output_type": "execute_result"
    }
   ],
   "source": [
    "a == 10  # equalto"
   ]
  },
  {
   "cell_type": "code",
   "execution_count": null,
   "id": "b8b865ab",
   "metadata": {},
   "outputs": [],
   "source": []
  }
 ],
 "metadata": {
  "kernelspec": {
   "display_name": "Python 3",
   "language": "python",
   "name": "python3"
  },
  "language_info": {
   "codemirror_mode": {
    "name": "ipython",
    "version": 3
   },
   "file_extension": ".py",
   "mimetype": "text/x-python",
   "name": "python",
   "nbconvert_exporter": "python",
   "pygments_lexer": "ipython3",
   "version": "3.7.4"
  }
 },
 "nbformat": 4,
 "nbformat_minor": 5
}
