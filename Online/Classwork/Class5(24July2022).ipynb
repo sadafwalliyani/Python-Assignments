{
 "cells": [
  {
   "cell_type": "markdown",
   "id": "4542680a",
   "metadata": {},
   "source": [
    "# Python Data Structures \n",
    " Data types: int, str, float, bool\n",
    " \n",
    " Data Structures:\n",
    "    - List\n",
    "    - Tuple\n",
    "    - Set\n",
    "    - Dictionary"
   ]
  },
  {
   "cell_type": "markdown",
   "id": "b4660edf",
   "metadata": {},
   "source": [
    "# Python List "
   ]
  },
  {
   "cell_type": "code",
   "execution_count": 2,
   "id": "4fc2b5a9",
   "metadata": {},
   "outputs": [],
   "source": [
    "# creating a list with some values\n",
    "friends = ['Hassan', 'Kashif', 'Rehan']"
   ]
  },
  {
   "cell_type": "code",
   "execution_count": 3,
   "id": "309eedc1",
   "metadata": {},
   "outputs": [
    {
     "data": {
      "text/plain": [
       "['Hassan', 'Kashif', 'Rehan']"
      ]
     },
     "execution_count": 3,
     "metadata": {},
     "output_type": "execute_result"
    }
   ],
   "source": [
    "friends"
   ]
  },
  {
   "cell_type": "code",
   "execution_count": 4,
   "id": "8d94bf27",
   "metadata": {},
   "outputs": [],
   "source": [
    "# creating an empty list \n",
    "empty_list = []"
   ]
  },
  {
   "cell_type": "code",
   "execution_count": 5,
   "id": "031693fa",
   "metadata": {},
   "outputs": [
    {
     "data": {
      "text/plain": [
       "[]"
      ]
     },
     "execution_count": 5,
     "metadata": {},
     "output_type": "execute_result"
    }
   ],
   "source": [
    "empty_list"
   ]
  },
  {
   "cell_type": "code",
   "execution_count": 15,
   "id": "ff457af4",
   "metadata": {},
   "outputs": [
    {
     "name": "stdout",
     "output_type": "stream",
     "text": [
      "<class 'list'>\n"
     ]
    }
   ],
   "source": [
    "print(type(friends))"
   ]
  },
  {
   "cell_type": "code",
   "execution_count": 7,
   "id": "1abb3527",
   "metadata": {},
   "outputs": [
    {
     "data": {
      "text/plain": [
       "list"
      ]
     },
     "execution_count": 7,
     "metadata": {},
     "output_type": "execute_result"
    }
   ],
   "source": [
    "type(empty_list)"
   ]
  },
  {
   "cell_type": "code",
   "execution_count": 8,
   "id": "429b7d90",
   "metadata": {},
   "outputs": [
    {
     "data": {
      "text/plain": [
       "3"
      ]
     },
     "execution_count": 8,
     "metadata": {},
     "output_type": "execute_result"
    }
   ],
   "source": [
    "len(friends)"
   ]
  },
  {
   "cell_type": "code",
   "execution_count": 9,
   "id": "4867059b",
   "metadata": {},
   "outputs": [
    {
     "data": {
      "text/plain": [
       "0"
      ]
     },
     "execution_count": 9,
     "metadata": {},
     "output_type": "execute_result"
    }
   ],
   "source": [
    "len(empty_list)"
   ]
  },
  {
   "cell_type": "code",
   "execution_count": 10,
   "id": "1ff9b8ff",
   "metadata": {},
   "outputs": [
    {
     "data": {
      "text/plain": [
       "['Hassan', 'Kashif', 'Rehan']"
      ]
     },
     "execution_count": 10,
     "metadata": {},
     "output_type": "execute_result"
    }
   ],
   "source": [
    "friends"
   ]
  },
  {
   "cell_type": "markdown",
   "id": "e3a25aa1",
   "metadata": {},
   "source": [
    "#### Indexing \n",
    " - Every python entity that is iterable must have indeces\n",
    " \n",
    "   Ex: \"PAKISTAN\" >>> POSITION/index of P >>>0, A>>>1, N>>>7\n"
   ]
  },
  {
   "cell_type": "code",
   "execution_count": 11,
   "id": "04eed068",
   "metadata": {},
   "outputs": [],
   "source": [
    "#Right to left negative indexing from -1 to onwards\n",
    "#index      -3         -2         -1    \n",
    "friends = ['Hassan', 'Kashif', 'Rehan']\n",
    "#index       0         1          2\n",
    "#left to right positive indexing from 0 to onwards "
   ]
  },
  {
   "cell_type": "code",
   "execution_count": 12,
   "id": "0c3a93f5",
   "metadata": {},
   "outputs": [
    {
     "data": {
      "text/plain": [
       "'Kashif'"
      ]
     },
     "execution_count": 12,
     "metadata": {},
     "output_type": "execute_result"
    }
   ],
   "source": [
    "#Retrieving data from list via index \n",
    "friends[1]"
   ]
  },
  {
   "cell_type": "code",
   "execution_count": 13,
   "id": "f5cf9300",
   "metadata": {},
   "outputs": [
    {
     "data": {
      "text/plain": [
       "'Kashif'"
      ]
     },
     "execution_count": 13,
     "metadata": {},
     "output_type": "execute_result"
    }
   ],
   "source": [
    "friends[-2]"
   ]
  },
  {
   "cell_type": "code",
   "execution_count": 14,
   "id": "8cf1ab39",
   "metadata": {},
   "outputs": [
    {
     "data": {
      "text/plain": [
       "'Rehan'"
      ]
     },
     "execution_count": 14,
     "metadata": {},
     "output_type": "execute_result"
    }
   ],
   "source": [
    "friends[-1]"
   ]
  },
  {
   "cell_type": "markdown",
   "id": "038025b3",
   "metadata": {},
   "source": [
    "#### Adding new members to my existing list \n",
    "  - adding members to last of the list  >>>>>append()\n",
    "  - adding members on any position or index in the list>>>insert()"
   ]
  },
  {
   "cell_type": "code",
   "execution_count": 16,
   "id": "18b394c9",
   "metadata": {},
   "outputs": [
    {
     "data": {
      "text/plain": [
       "['Hassan', 'Kashif', 'Rehan']"
      ]
     },
     "execution_count": 16,
     "metadata": {},
     "output_type": "execute_result"
    }
   ],
   "source": [
    "#append() put the new mwmber in last\n",
    "friends"
   ]
  },
  {
   "cell_type": "code",
   "execution_count": 23,
   "id": "7341e782",
   "metadata": {},
   "outputs": [
    {
     "data": {
      "text/plain": [
       "['Hassan', 'Kashif', 'Rehan', 'Yahya', 'Umair', 'Umair', 'Umair', 'Ali', 'Ali']"
      ]
     },
     "execution_count": 23,
     "metadata": {},
     "output_type": "execute_result"
    }
   ],
   "source": [
    "friends.append(\"Ali\")\n",
    "friends"
   ]
  },
  {
   "cell_type": "code",
   "execution_count": 22,
   "id": "6aff8a11",
   "metadata": {},
   "outputs": [
    {
     "data": {
      "text/plain": [
       "['Hassan', 'Kashif', 'Rehan', 'Yahya', 'Umair', 'Umair', 'Umair', 'Ali']"
      ]
     },
     "execution_count": 22,
     "metadata": {},
     "output_type": "execute_result"
    }
   ],
   "source": [
    "friends.insert(3,\"Yahya\")\n",
    "friends"
   ]
  },
  {
   "cell_type": "code",
   "execution_count": 24,
   "id": "b7379969",
   "metadata": {},
   "outputs": [],
   "source": [
    "friends.insert(100, \"nasir\")"
   ]
  },
  {
   "cell_type": "code",
   "execution_count": 25,
   "id": "93b8f75f",
   "metadata": {},
   "outputs": [
    {
     "data": {
      "text/plain": [
       "['Hassan',\n",
       " 'Kashif',\n",
       " 'Rehan',\n",
       " 'Yahya',\n",
       " 'Umair',\n",
       " 'Umair',\n",
       " 'Umair',\n",
       " 'Ali',\n",
       " 'Ali',\n",
       " 'nasir']"
      ]
     },
     "execution_count": 25,
     "metadata": {},
     "output_type": "execute_result"
    }
   ],
   "source": [
    "friends"
   ]
  },
  {
   "cell_type": "markdown",
   "id": "2786b1b4",
   "metadata": {},
   "source": [
    "## Removing members from existing list\n",
    "  - del commmand\n",
    "  - remove function\n",
    "  - pop function\n",
    "  "
   ]
  },
  {
   "cell_type": "code",
   "execution_count": 26,
   "id": "59f5498c",
   "metadata": {},
   "outputs": [],
   "source": [
    "#Note: we can have multiple data types in a list together\n",
    "miscList = [\"PIAIC\", 100, 23.6, True,[100,200]]      "
   ]
  },
  {
   "cell_type": "code",
   "execution_count": 27,
   "id": "08968b94",
   "metadata": {},
   "outputs": [
    {
     "data": {
      "text/plain": [
       "['Hassan', 'Kashif', 'Rehan', 'Yahya', 'Umair', 'Umair', 'Umair', 'Ali', 'Ali']"
      ]
     },
     "execution_count": 27,
     "metadata": {},
     "output_type": "execute_result"
    }
   ],
   "source": [
    "del friends[-1]\n",
    "friends"
   ]
  },
  {
   "cell_type": "code",
   "execution_count": 28,
   "id": "d1927bad",
   "metadata": {},
   "outputs": [
    {
     "data": {
      "text/plain": [
       "['Hassan', 'Kashif', 'Rehan', 'Yahya', 'Umair', 'Umair', 'Umair', 'Ali']"
      ]
     },
     "execution_count": 28,
     "metadata": {},
     "output_type": "execute_result"
    }
   ],
   "source": [
    "del friends[-1]\n",
    "friends"
   ]
  },
  {
   "cell_type": "code",
   "execution_count": 29,
   "id": "6c3cbcf4",
   "metadata": {},
   "outputs": [
    {
     "data": {
      "text/plain": [
       "['Hassan', 'Kashif', 'Rehan', 'Yahya', 'Umair', 'Umair', 'Umair']"
      ]
     },
     "execution_count": 29,
     "metadata": {},
     "output_type": "execute_result"
    }
   ],
   "source": [
    "del friends[-1]\n",
    "friends"
   ]
  },
  {
   "cell_type": "code",
   "execution_count": 30,
   "id": "c251ac14",
   "metadata": {},
   "outputs": [
    {
     "data": {
      "text/plain": [
       "['Hassan', 'Kashif', 'Rehan', 'Yahya', 'Umair', 'Umair']"
      ]
     },
     "execution_count": 30,
     "metadata": {},
     "output_type": "execute_result"
    }
   ],
   "source": [
    "del friends[-1]\n",
    "friends"
   ]
  },
  {
   "cell_type": "code",
   "execution_count": 31,
   "id": "76ade663",
   "metadata": {},
   "outputs": [
    {
     "data": {
      "text/plain": [
       "['Hassan', 'Kashif', 'Rehan', 'Yahya', 'Umair']"
      ]
     },
     "execution_count": 31,
     "metadata": {},
     "output_type": "execute_result"
    }
   ],
   "source": [
    "del friends[-1]\n",
    "friends"
   ]
  },
  {
   "cell_type": "raw",
   "id": "5f1b8ba0",
   "metadata": {},
   "source": [
    "Note: del removes the member permanently via index \n",
    "      remove() removes the member permanently via value"
   ]
  },
  {
   "cell_type": "code",
   "execution_count": 32,
   "id": "19eb715a",
   "metadata": {},
   "outputs": [],
   "source": [
    "friends.remove('Umair')"
   ]
  },
  {
   "cell_type": "code",
   "execution_count": 33,
   "id": "85ccef24",
   "metadata": {},
   "outputs": [
    {
     "data": {
      "text/plain": [
       "['Hassan', 'Kashif', 'Rehan', 'Yahya']"
      ]
     },
     "execution_count": 33,
     "metadata": {},
     "output_type": "execute_result"
    }
   ],
   "source": [
    "friends"
   ]
  },
  {
   "cell_type": "code",
   "execution_count": 34,
   "id": "37f85f1a",
   "metadata": {},
   "outputs": [
    {
     "data": {
      "text/plain": [
       "['Hassan', 'Alia', 'Kashif', 'Umer', 'Alia', 'Umer', 'Rehan', 'Yahya']"
      ]
     },
     "execution_count": 34,
     "metadata": {},
     "output_type": "execute_result"
    }
   ],
   "source": [
    "#adding duplicate members in the list\n",
    "friends.insert(2,\"Umer\")\n",
    "friends.insert(1,\"Alia\")\n",
    "friends.insert(3,\"Umer\")\n",
    "friends.insert(4,\"Alia\")\n",
    "friends"
   ]
  },
  {
   "cell_type": "code",
   "execution_count": 39,
   "id": "fc71ceb6",
   "metadata": {},
   "outputs": [],
   "source": [
    "friends.remove(\"Alia\")"
   ]
  },
  {
   "cell_type": "code",
   "execution_count": 36,
   "id": "14f44fd4",
   "metadata": {},
   "outputs": [
    {
     "data": {
      "text/plain": [
       "['Hassan', 'Kashif', 'Umer', 'Alia', 'Umer', 'Rehan', 'Yahya']"
      ]
     },
     "execution_count": 36,
     "metadata": {},
     "output_type": "execute_result"
    }
   ],
   "source": [
    "friends"
   ]
  },
  {
   "cell_type": "code",
   "execution_count": 37,
   "id": "90e22339",
   "metadata": {},
   "outputs": [
    {
     "ename": "ValueError",
     "evalue": "list.remove(x): x not in list",
     "output_type": "error",
     "traceback": [
      "\u001b[1;31m---------------------------------------\u001b[0m",
      "\u001b[1;31mValueError\u001b[0mTraceback (most recent call last)",
      "\u001b[1;32m<ipython-input-37-4c3209d5ee73>\u001b[0m in \u001b[0;36m<module>\u001b[1;34m\u001b[0m\n\u001b[1;32m----> 1\u001b[1;33m \u001b[0mfriends\u001b[0m\u001b[1;33m.\u001b[0m\u001b[0mremove\u001b[0m\u001b[1;33m(\u001b[0m\u001b[1;34m'umer'\u001b[0m\u001b[1;33m)\u001b[0m\u001b[1;33m\u001b[0m\u001b[1;33m\u001b[0m\u001b[0m\n\u001b[0m",
      "\u001b[1;31mValueError\u001b[0m: list.remove(x): x not in list"
     ]
    }
   ],
   "source": [
    "friends.remove('umer')"
   ]
  },
  {
   "cell_type": "markdown",
   "id": "60830e86",
   "metadata": {},
   "source": [
    "Pop() removes a members permanently but it returns the removed\n",
    "\n",
    "so that you can utilize it later if u need it.\n",
    "\n",
    "By defauly pop() removes value from end of the list \n",
    "But if you supply index like: \n",
    "\n",
    "pop(3) it will remove the same index value"
   ]
  },
  {
   "cell_type": "code",
   "execution_count": 38,
   "id": "a77540d2",
   "metadata": {},
   "outputs": [
    {
     "data": {
      "text/plain": [
       "['Hassan', 'Kashif', 'Umer', 'Alia', 'Umer', 'Rehan', 'Yahya']"
      ]
     },
     "execution_count": 38,
     "metadata": {},
     "output_type": "execute_result"
    }
   ],
   "source": [
    "friends"
   ]
  },
  {
   "cell_type": "code",
   "execution_count": 40,
   "id": "d2c4d799",
   "metadata": {},
   "outputs": [
    {
     "data": {
      "text/plain": [
       "'Yahya'"
      ]
     },
     "execution_count": 40,
     "metadata": {},
     "output_type": "execute_result"
    }
   ],
   "source": [
    "friends.pop()"
   ]
  },
  {
   "cell_type": "code",
   "execution_count": 41,
   "id": "94b65b0b",
   "metadata": {},
   "outputs": [],
   "source": [
    "popped_value = friends.pop()"
   ]
  },
  {
   "cell_type": "code",
   "execution_count": 42,
   "id": "fa4faf20",
   "metadata": {},
   "outputs": [
    {
     "data": {
      "text/plain": [
       "'Rehan'"
      ]
     },
     "execution_count": 42,
     "metadata": {},
     "output_type": "execute_result"
    }
   ],
   "source": [
    "popped_value + \"Khan \""
   ]
  },
  {
   "cell_type": "code",
   "execution_count": 43,
   "id": "ef1c592d",
   "metadata": {},
   "outputs": [],
   "source": [
    "index3value = friends.pop(3)"
   ]
  },
  {
   "cell_type": "code",
   "execution_count": 44,
   "id": "0b6a4e63",
   "metadata": {},
   "outputs": [
    {
     "data": {
      "text/plain": [
       "'Umer'"
      ]
     },
     "execution_count": 44,
     "metadata": {},
     "output_type": "execute_result"
    }
   ],
   "source": [
    "index3value"
   ]
  },
  {
   "cell_type": "code",
   "execution_count": 45,
   "id": "f63bfa1a",
   "metadata": {},
   "outputs": [
    {
     "data": {
      "text/plain": [
       "['Hassan', 'Kashif', 'Umer']"
      ]
     },
     "execution_count": 45,
     "metadata": {},
     "output_type": "execute_result"
    }
   ],
   "source": [
    "friends"
   ]
  },
  {
   "cell_type": "code",
   "execution_count": null,
   "id": "d1699ff2",
   "metadata": {},
   "outputs": [],
   "source": [
    "#friends.clear()"
   ]
  },
  {
   "cell_type": "markdown",
   "id": "03c56356",
   "metadata": {},
   "source": [
    "# Copying a list \n",
    "  - direct assignment >>> blist  = alist\n",
    "  - copy()\n",
    "  - [ : ]\n",
    "    "
   ]
  },
  {
   "cell_type": "code",
   "execution_count": 46,
   "id": "e9ee2313",
   "metadata": {},
   "outputs": [],
   "source": [
    "alist = [11,22,33,44,55]"
   ]
  },
  {
   "cell_type": "code",
   "execution_count": 47,
   "id": "b9cbf4b0",
   "metadata": {},
   "outputs": [],
   "source": [
    "blist  = alist \n",
    "# this type of making copy is: pass by refernce"
   ]
  },
  {
   "cell_type": "code",
   "execution_count": 48,
   "id": "55877124",
   "metadata": {},
   "outputs": [
    {
     "data": {
      "text/plain": [
       "[11, 22, 33, 44, 55]"
      ]
     },
     "execution_count": 48,
     "metadata": {},
     "output_type": "execute_result"
    }
   ],
   "source": [
    "blist"
   ]
  },
  {
   "cell_type": "code",
   "execution_count": 49,
   "id": "1575f8bd",
   "metadata": {},
   "outputs": [
    {
     "data": {
      "text/plain": [
       "[11, 22, 33, 44, 55, 66]"
      ]
     },
     "execution_count": 49,
     "metadata": {},
     "output_type": "execute_result"
    }
   ],
   "source": [
    "alist.append(66)\n",
    "alist"
   ]
  },
  {
   "cell_type": "code",
   "execution_count": 50,
   "id": "ab45056a",
   "metadata": {},
   "outputs": [
    {
     "data": {
      "text/plain": [
       "[11, 22, 33, 44, 55, 66]"
      ]
     },
     "execution_count": 50,
     "metadata": {},
     "output_type": "execute_result"
    }
   ],
   "source": [
    "blist"
   ]
  },
  {
   "cell_type": "code",
   "execution_count": 51,
   "id": "a6232a4e",
   "metadata": {},
   "outputs": [
    {
     "data": {
      "text/plain": [
       "[11, 22, 33, 44, 55, 66]"
      ]
     },
     "execution_count": 51,
     "metadata": {},
     "output_type": "execute_result"
    }
   ],
   "source": [
    "clist = alist.copy()\n",
    "clist"
   ]
  },
  {
   "cell_type": "code",
   "execution_count": 52,
   "id": "7f333ca5",
   "metadata": {},
   "outputs": [],
   "source": [
    "clist.clear()"
   ]
  },
  {
   "cell_type": "code",
   "execution_count": 53,
   "id": "fe81f90e",
   "metadata": {},
   "outputs": [
    {
     "data": {
      "text/plain": [
       "[]"
      ]
     },
     "execution_count": 53,
     "metadata": {},
     "output_type": "execute_result"
    }
   ],
   "source": [
    "clist"
   ]
  },
  {
   "cell_type": "code",
   "execution_count": 54,
   "id": "d9019b65",
   "metadata": {},
   "outputs": [
    {
     "data": {
      "text/plain": [
       "[11, 22, 33, 44, 55, 66]"
      ]
     },
     "execution_count": 54,
     "metadata": {},
     "output_type": "execute_result"
    }
   ],
   "source": [
    "alist"
   ]
  },
  {
   "cell_type": "code",
   "execution_count": 55,
   "id": "1e02e6fa",
   "metadata": {},
   "outputs": [
    {
     "name": "stdout",
     "output_type": "stream",
     "text": [
      "['Hassan', 'Kashif', 'Umer']\n"
     ]
    }
   ],
   "source": [
    "print(friends)\n"
   ]
  },
  {
   "cell_type": "code",
   "execution_count": 56,
   "id": "aec4fd90",
   "metadata": {},
   "outputs": [
    {
     "data": {
      "text/plain": [
       "1"
      ]
     },
     "execution_count": 56,
     "metadata": {},
     "output_type": "execute_result"
    }
   ],
   "source": [
    "friends.count(\"Umer\")"
   ]
  },
  {
   "cell_type": "code",
   "execution_count": 57,
   "id": "ee09f755",
   "metadata": {},
   "outputs": [
    {
     "data": {
      "text/plain": [
       "0"
      ]
     },
     "execution_count": 57,
     "metadata": {},
     "output_type": "execute_result"
    }
   ],
   "source": [
    "friends.count(\"Umair\")"
   ]
  },
  {
   "cell_type": "code",
   "execution_count": 58,
   "id": "0aa7b12a",
   "metadata": {},
   "outputs": [
    {
     "data": {
      "text/plain": [
       "2"
      ]
     },
     "execution_count": 58,
     "metadata": {},
     "output_type": "execute_result"
    }
   ],
   "source": [
    "friends.index('Umer')"
   ]
  },
  {
   "cell_type": "code",
   "execution_count": 59,
   "id": "20c48bbd",
   "metadata": {},
   "outputs": [
    {
     "ename": "ValueError",
     "evalue": "'Umerr' is not in list",
     "output_type": "error",
     "traceback": [
      "\u001b[1;31m---------------------------------------\u001b[0m",
      "\u001b[1;31mValueError\u001b[0mTraceback (most recent call last)",
      "\u001b[1;32m<ipython-input-59-700739d73574>\u001b[0m in \u001b[0;36m<module>\u001b[1;34m\u001b[0m\n\u001b[1;32m----> 1\u001b[1;33m \u001b[0mfriends\u001b[0m\u001b[1;33m.\u001b[0m\u001b[0mindex\u001b[0m\u001b[1;33m(\u001b[0m\u001b[1;34m'Umerr'\u001b[0m\u001b[1;33m)\u001b[0m\u001b[1;33m\u001b[0m\u001b[1;33m\u001b[0m\u001b[0m\n\u001b[0m",
      "\u001b[1;31mValueError\u001b[0m: 'Umerr' is not in list"
     ]
    }
   ],
   "source": [
    "friends.index('Umerr')"
   ]
  },
  {
   "cell_type": "code",
   "execution_count": 60,
   "id": "3dbc0cda",
   "metadata": {},
   "outputs": [],
   "source": [
    "friends.reverse()"
   ]
  },
  {
   "cell_type": "code",
   "execution_count": 61,
   "id": "484b6d98",
   "metadata": {},
   "outputs": [
    {
     "data": {
      "text/plain": [
       "['Umer', 'Kashif', 'Hassan']"
      ]
     },
     "execution_count": 61,
     "metadata": {},
     "output_type": "execute_result"
    }
   ],
   "source": [
    "friends"
   ]
  },
  {
   "cell_type": "code",
   "execution_count": 62,
   "id": "2de2a371",
   "metadata": {},
   "outputs": [],
   "source": [
    "friends.reverse()"
   ]
  },
  {
   "cell_type": "code",
   "execution_count": 63,
   "id": "652322fa",
   "metadata": {},
   "outputs": [
    {
     "data": {
      "text/plain": [
       "['Hassan', 'Kashif', 'Umer']"
      ]
     },
     "execution_count": 63,
     "metadata": {},
     "output_type": "execute_result"
    }
   ],
   "source": [
    "friends"
   ]
  },
  {
   "cell_type": "code",
   "execution_count": 64,
   "id": "8c528a11",
   "metadata": {},
   "outputs": [],
   "source": [
    "friends.sort()"
   ]
  },
  {
   "cell_type": "code",
   "execution_count": 65,
   "id": "b7479dbd",
   "metadata": {},
   "outputs": [
    {
     "data": {
      "text/plain": [
       "['Hassan', 'Kashif', 'Umer']"
      ]
     },
     "execution_count": 65,
     "metadata": {},
     "output_type": "execute_result"
    }
   ],
   "source": [
    "friends"
   ]
  },
  {
   "cell_type": "code",
   "execution_count": 66,
   "id": "3c2bbeba",
   "metadata": {},
   "outputs": [
    {
     "data": {
      "text/plain": [
       "[11, 22, 33, 44, 55, 66]"
      ]
     },
     "execution_count": 66,
     "metadata": {},
     "output_type": "execute_result"
    }
   ],
   "source": [
    "alist"
   ]
  },
  {
   "cell_type": "code",
   "execution_count": 67,
   "id": "4ce5da52",
   "metadata": {},
   "outputs": [
    {
     "data": {
      "text/plain": [
       "[11, 22, 33, 44, 55, 66, 22.6, 44.5]"
      ]
     },
     "execution_count": 67,
     "metadata": {},
     "output_type": "execute_result"
    }
   ],
   "source": [
    "alist.append(22.6)\n",
    "alist.append(44.5)\n",
    "alist"
   ]
  },
  {
   "cell_type": "code",
   "execution_count": 70,
   "id": "cf222f70",
   "metadata": {},
   "outputs": [],
   "source": [
    "alist.sort(reverse=True)"
   ]
  },
  {
   "cell_type": "code",
   "execution_count": 71,
   "id": "76f72b7c",
   "metadata": {},
   "outputs": [
    {
     "data": {
      "text/plain": [
       "[66, 55, 44.5, 44, 33, 22.6, 22, 11]"
      ]
     },
     "execution_count": 71,
     "metadata": {},
     "output_type": "execute_result"
    }
   ],
   "source": [
    "alist"
   ]
  },
  {
   "cell_type": "code",
   "execution_count": 72,
   "id": "1e8e4711",
   "metadata": {},
   "outputs": [
    {
     "data": {
      "text/plain": [
       "['PIAIC', 100, 23.6, True, [100, 200]]"
      ]
     },
     "execution_count": 72,
     "metadata": {},
     "output_type": "execute_result"
    }
   ],
   "source": [
    "miscList"
   ]
  },
  {
   "cell_type": "code",
   "execution_count": 73,
   "id": "98a19aba",
   "metadata": {},
   "outputs": [
    {
     "ename": "TypeError",
     "evalue": "'<' not supported between instances of 'int' and 'str'",
     "output_type": "error",
     "traceback": [
      "\u001b[1;31m---------------------------------------\u001b[0m",
      "\u001b[1;31mTypeError\u001b[0mTraceback (most recent call last)",
      "\u001b[1;32m<ipython-input-73-cb9db56aeb62>\u001b[0m in \u001b[0;36m<module>\u001b[1;34m\u001b[0m\n\u001b[1;32m----> 1\u001b[1;33m \u001b[0mmiscList\u001b[0m\u001b[1;33m.\u001b[0m\u001b[0msort\u001b[0m\u001b[1;33m(\u001b[0m\u001b[1;33m)\u001b[0m\u001b[1;33m\u001b[0m\u001b[1;33m\u001b[0m\u001b[0m\n\u001b[0m",
      "\u001b[1;31mTypeError\u001b[0m: '<' not supported between instances of 'int' and 'str'"
     ]
    }
   ],
   "source": [
    "miscList.sort()"
   ]
  },
  {
   "cell_type": "code",
   "execution_count": 75,
   "id": "a12b883b",
   "metadata": {},
   "outputs": [],
   "source": [
    "a = ['b','c','A' ]"
   ]
  },
  {
   "cell_type": "code",
   "execution_count": 76,
   "id": "95bfa7e9",
   "metadata": {},
   "outputs": [],
   "source": [
    "a.sort()"
   ]
  },
  {
   "cell_type": "code",
   "execution_count": 77,
   "id": "90be5790",
   "metadata": {},
   "outputs": [
    {
     "data": {
      "text/plain": [
       "['A', 'b', 'c']"
      ]
     },
     "execution_count": 77,
     "metadata": {},
     "output_type": "execute_result"
    }
   ],
   "source": [
    "a"
   ]
  },
  {
   "cell_type": "code",
   "execution_count": 78,
   "id": "358542d5",
   "metadata": {},
   "outputs": [
    {
     "data": {
      "text/plain": [
       "65"
      ]
     },
     "execution_count": 78,
     "metadata": {},
     "output_type": "execute_result"
    }
   ],
   "source": [
    "ord(\"A\")"
   ]
  },
  {
   "cell_type": "code",
   "execution_count": 79,
   "id": "34363f7c",
   "metadata": {},
   "outputs": [
    {
     "data": {
      "text/plain": [
       "'Y'"
      ]
     },
     "execution_count": 79,
     "metadata": {},
     "output_type": "execute_result"
    }
   ],
   "source": [
    "chr(89)"
   ]
  },
  {
   "cell_type": "code",
   "execution_count": 81,
   "id": "de13c643",
   "metadata": {},
   "outputs": [],
   "source": [
    "friends.append(\"Hassan\")"
   ]
  },
  {
   "cell_type": "code",
   "execution_count": 82,
   "id": "7ccf4ddb",
   "metadata": {},
   "outputs": [
    {
     "data": {
      "text/plain": [
       "['Hassan', 'Kashif', 'Umer', 'Hassan']"
      ]
     },
     "execution_count": 82,
     "metadata": {},
     "output_type": "execute_result"
    }
   ],
   "source": [
    "friends"
   ]
  },
  {
   "cell_type": "code",
   "execution_count": 84,
   "id": "e4114c87",
   "metadata": {},
   "outputs": [
    {
     "data": {
      "text/plain": [
       "3"
      ]
     },
     "execution_count": 84,
     "metadata": {},
     "output_type": "execute_result"
    }
   ],
   "source": [
    "friends.index(\"Hassan\",1)"
   ]
  },
  {
   "cell_type": "markdown",
   "id": "a5ba3a8d",
   "metadata": {},
   "source": [
    "# Extend / Append"
   ]
  },
  {
   "cell_type": "code",
   "execution_count": 85,
   "id": "e1dc6110",
   "metadata": {},
   "outputs": [
    {
     "data": {
      "text/plain": [
       "['Hassan', 'Kashif', 'Umer', 'Hassan']"
      ]
     },
     "execution_count": 85,
     "metadata": {},
     "output_type": "execute_result"
    }
   ],
   "source": [
    "friends"
   ]
  },
  {
   "cell_type": "code",
   "execution_count": 86,
   "id": "cfba63a4",
   "metadata": {},
   "outputs": [
    {
     "data": {
      "text/plain": [
       "['Hassan', 'Kashif', 'Umer', 'Hassan', ['goggle', 'Fb', 'AWS']]"
      ]
     },
     "execution_count": 86,
     "metadata": {},
     "output_type": "execute_result"
    }
   ],
   "source": [
    "friends.append([\"goggle\",\"Fb\",\"AWS\"])\n",
    "friends"
   ]
  },
  {
   "cell_type": "code",
   "execution_count": 87,
   "id": "cd4cbf43",
   "metadata": {},
   "outputs": [
    {
     "data": {
      "text/plain": [
       "['Hassan',\n",
       " 'Kashif',\n",
       " 'Umer',\n",
       " 'Hassan',\n",
       " ['goggle', 'Fb', 'AWS'],\n",
       " 'goggle',\n",
       " 'Fb',\n",
       " 'AWS']"
      ]
     },
     "execution_count": 87,
     "metadata": {},
     "output_type": "execute_result"
    }
   ],
   "source": [
    "friends.extend([\"goggle\",\"Fb\",\"AWS\"])\n",
    "friends"
   ]
  },
  {
   "cell_type": "code",
   "execution_count": 88,
   "id": "4d84e870",
   "metadata": {},
   "outputs": [],
   "source": [
    "friends.append(\"Pakistan\")\n",
    "friends.extend(\"Pakistan\")"
   ]
  },
  {
   "cell_type": "code",
   "execution_count": 89,
   "id": "d623e6c9",
   "metadata": {},
   "outputs": [
    {
     "data": {
      "text/plain": [
       "['Hassan',\n",
       " 'Kashif',\n",
       " 'Umer',\n",
       " 'Hassan',\n",
       " ['goggle', 'Fb', 'AWS'],\n",
       " 'goggle',\n",
       " 'Fb',\n",
       " 'AWS',\n",
       " 'Pakistan',\n",
       " 'P',\n",
       " 'a',\n",
       " 'k',\n",
       " 'i',\n",
       " 's',\n",
       " 't',\n",
       " 'a',\n",
       " 'n']"
      ]
     },
     "execution_count": 89,
     "metadata": {},
     "output_type": "execute_result"
    }
   ],
   "source": [
    "friends"
   ]
  },
  {
   "cell_type": "code",
   "execution_count": 91,
   "id": "f21a328c",
   "metadata": {},
   "outputs": [],
   "source": [
    "friends.extend('5555555')"
   ]
  },
  {
   "cell_type": "code",
   "execution_count": 92,
   "id": "e6bf4408",
   "metadata": {},
   "outputs": [
    {
     "data": {
      "text/plain": [
       "['Hassan',\n",
       " 'Kashif',\n",
       " 'Umer',\n",
       " 'Hassan',\n",
       " ['goggle', 'Fb', 'AWS'],\n",
       " 'goggle',\n",
       " 'Fb',\n",
       " 'AWS',\n",
       " 'Pakistan',\n",
       " 'P',\n",
       " 'a',\n",
       " 'k',\n",
       " 'i',\n",
       " 's',\n",
       " 't',\n",
       " 'a',\n",
       " 'n',\n",
       " '5',\n",
       " '5',\n",
       " '5',\n",
       " '5',\n",
       " '5',\n",
       " '5',\n",
       " '5']"
      ]
     },
     "execution_count": 92,
     "metadata": {},
     "output_type": "execute_result"
    }
   ],
   "source": [
    "friends"
   ]
  },
  {
   "cell_type": "markdown",
   "id": "0742c92a",
   "metadata": {},
   "source": [
    "### Update or replace value"
   ]
  },
  {
   "cell_type": "code",
   "execution_count": 93,
   "id": "bfe94dc0",
   "metadata": {},
   "outputs": [
    {
     "data": {
      "text/plain": [
       "['Hassan',\n",
       " 'Kashif',\n",
       " 'Umer',\n",
       " 'Hassan',\n",
       " ['goggle', 'Fb', 'AWS'],\n",
       " 'goggle',\n",
       " 'Fb',\n",
       " 'AWS',\n",
       " 'Pakistan',\n",
       " 'P',\n",
       " 'a',\n",
       " 'k',\n",
       " 'i',\n",
       " 's',\n",
       " 't',\n",
       " 'a',\n",
       " 'n',\n",
       " '5',\n",
       " '5',\n",
       " '5',\n",
       " '5',\n",
       " '5',\n",
       " '5',\n",
       " '5']"
      ]
     },
     "execution_count": 93,
     "metadata": {},
     "output_type": "execute_result"
    }
   ],
   "source": [
    "friends"
   ]
  },
  {
   "cell_type": "code",
   "execution_count": 94,
   "id": "0150cdc7",
   "metadata": {},
   "outputs": [],
   "source": [
    "friends[0]= \"Jawed\""
   ]
  },
  {
   "cell_type": "code",
   "execution_count": 95,
   "id": "4851e994",
   "metadata": {},
   "outputs": [
    {
     "data": {
      "text/plain": [
       "['Jawed',\n",
       " 'Kashif',\n",
       " 'Umer',\n",
       " 'Hassan',\n",
       " ['goggle', 'Fb', 'AWS'],\n",
       " 'goggle',\n",
       " 'Fb',\n",
       " 'AWS',\n",
       " 'Pakistan',\n",
       " 'P',\n",
       " 'a',\n",
       " 'k',\n",
       " 'i',\n",
       " 's',\n",
       " 't',\n",
       " 'a',\n",
       " 'n',\n",
       " '5',\n",
       " '5',\n",
       " '5',\n",
       " '5',\n",
       " '5',\n",
       " '5',\n",
       " '5']"
      ]
     },
     "execution_count": 95,
     "metadata": {},
     "output_type": "execute_result"
    }
   ],
   "source": [
    "friends"
   ]
  },
  {
   "cell_type": "markdown",
   "id": "453070a5",
   "metadata": {},
   "source": [
    "# Slicing A list"
   ]
  },
  {
   "cell_type": "code",
   "execution_count": 97,
   "id": "7538cc52",
   "metadata": {},
   "outputs": [],
   "source": [
    "alist.sort(reverse=False)"
   ]
  },
  {
   "cell_type": "code",
   "execution_count": 98,
   "id": "78e2eb5f",
   "metadata": {},
   "outputs": [
    {
     "data": {
      "text/plain": [
       "[11, 22, 22.6, 33, 44, 44.5, 55, 66]"
      ]
     },
     "execution_count": 98,
     "metadata": {},
     "output_type": "execute_result"
    }
   ],
   "source": [
    "alist"
   ]
  },
  {
   "cell_type": "raw",
   "id": "b4ac009a",
   "metadata": {},
   "source": [
    "Slice basically copies and return the part of list "
   ]
  },
  {
   "cell_type": "code",
   "execution_count": 99,
   "id": "11a2301b",
   "metadata": {},
   "outputs": [
    {
     "data": {
      "text/plain": [
       "22.6"
      ]
     },
     "execution_count": 99,
     "metadata": {},
     "output_type": "execute_result"
    }
   ],
   "source": [
    "#indexing\n",
    "alist[2]"
   ]
  },
  {
   "cell_type": "code",
   "execution_count": 101,
   "id": "ad4edd9b",
   "metadata": {},
   "outputs": [],
   "source": [
    "#alist[start:end-1]\n",
    "sliced = alist[1:5]"
   ]
  },
  {
   "cell_type": "code",
   "execution_count": 102,
   "id": "7f714074",
   "metadata": {},
   "outputs": [
    {
     "data": {
      "text/plain": [
       "[22, 22.6, 33, 44]"
      ]
     },
     "execution_count": 102,
     "metadata": {},
     "output_type": "execute_result"
    }
   ],
   "source": [
    "sliced"
   ]
  },
  {
   "cell_type": "code",
   "execution_count": 103,
   "id": "5c18adf0",
   "metadata": {},
   "outputs": [
    {
     "data": {
      "text/plain": [
       "[44.5, 55, 66]"
      ]
     },
     "execution_count": 103,
     "metadata": {},
     "output_type": "execute_result"
    }
   ],
   "source": [
    "alist[5:8]"
   ]
  },
  {
   "cell_type": "code",
   "execution_count": 104,
   "id": "c9f30d61",
   "metadata": {},
   "outputs": [
    {
     "data": {
      "text/plain": [
       "[44.5, 55, 66]"
      ]
     },
     "execution_count": 104,
     "metadata": {},
     "output_type": "execute_result"
    }
   ],
   "source": [
    "alist[-3:]"
   ]
  },
  {
   "cell_type": "code",
   "execution_count": 105,
   "id": "1173e076",
   "metadata": {},
   "outputs": [
    {
     "data": {
      "text/plain": [
       "[11, 22, 22.6, 33, 44, 44.5, 55, 66]"
      ]
     },
     "execution_count": 105,
     "metadata": {},
     "output_type": "execute_result"
    }
   ],
   "source": [
    "alist[0:8]"
   ]
  },
  {
   "cell_type": "code",
   "execution_count": 106,
   "id": "d8560303",
   "metadata": {},
   "outputs": [],
   "source": [
    "clist = alist[:]"
   ]
  },
  {
   "cell_type": "code",
   "execution_count": 107,
   "id": "80880e5a",
   "metadata": {},
   "outputs": [
    {
     "data": {
      "text/plain": [
       "[11, 22, 22.6, 33, 44, 44.5, 55, 66]"
      ]
     },
     "execution_count": 107,
     "metadata": {},
     "output_type": "execute_result"
    }
   ],
   "source": [
    "clist"
   ]
  },
  {
   "cell_type": "code",
   "execution_count": 108,
   "id": "7b2e61cc",
   "metadata": {},
   "outputs": [
    {
     "data": {
      "text/plain": [
       "[44, 44.5, 55, 66]"
      ]
     },
     "execution_count": 108,
     "metadata": {},
     "output_type": "execute_result"
    }
   ],
   "source": [
    "alist[4:]"
   ]
  },
  {
   "cell_type": "code",
   "execution_count": 109,
   "id": "1671b618",
   "metadata": {},
   "outputs": [
    {
     "data": {
      "text/plain": [
       "[11, 22, 22.6, 33]"
      ]
     },
     "execution_count": 109,
     "metadata": {},
     "output_type": "execute_result"
    }
   ],
   "source": [
    "alist[:4]"
   ]
  },
  {
   "cell_type": "code",
   "execution_count": 110,
   "id": "0f344f29",
   "metadata": {},
   "outputs": [
    {
     "data": {
      "text/plain": [
       "[]"
      ]
     },
     "execution_count": 110,
     "metadata": {},
     "output_type": "execute_result"
    }
   ],
   "source": [
    "alist[6:1]"
   ]
  },
  {
   "cell_type": "raw",
   "id": "6f9484f5",
   "metadata": {},
   "source": [
    "Third parameter: step"
   ]
  },
  {
   "cell_type": "code",
   "execution_count": 111,
   "id": "e35f740e",
   "metadata": {},
   "outputs": [
    {
     "data": {
      "text/plain": [
       "[11, 22, 22.6, 33, 44, 44.5, 55, 66]"
      ]
     },
     "execution_count": 111,
     "metadata": {},
     "output_type": "execute_result"
    }
   ],
   "source": [
    "alist"
   ]
  },
  {
   "cell_type": "code",
   "execution_count": 112,
   "id": "f7468e8a",
   "metadata": {},
   "outputs": [
    {
     "data": {
      "text/plain": [
       "[11, 22, 22.6, 33, 44, 44.5, 55, 66]"
      ]
     },
     "execution_count": 112,
     "metadata": {},
     "output_type": "execute_result"
    }
   ],
   "source": [
    "alist[::1]"
   ]
  },
  {
   "cell_type": "code",
   "execution_count": 113,
   "id": "0a34ebfb",
   "metadata": {},
   "outputs": [
    {
     "data": {
      "text/plain": [
       "[11, 22.6, 44, 55]"
      ]
     },
     "execution_count": 113,
     "metadata": {},
     "output_type": "execute_result"
    }
   ],
   "source": [
    "alist[::2]"
   ]
  },
  {
   "cell_type": "code",
   "execution_count": 114,
   "id": "7d1a5760",
   "metadata": {},
   "outputs": [
    {
     "data": {
      "text/plain": [
       "[11, 33, 55]"
      ]
     },
     "execution_count": 114,
     "metadata": {},
     "output_type": "execute_result"
    }
   ],
   "source": [
    "alist[::3]"
   ]
  },
  {
   "cell_type": "code",
   "execution_count": 115,
   "id": "8e31e5ad",
   "metadata": {},
   "outputs": [
    {
     "data": {
      "text/plain": [
       "[11, 22, 22.6, 33, 44, 44.5, 55, 66]"
      ]
     },
     "execution_count": 115,
     "metadata": {},
     "output_type": "execute_result"
    }
   ],
   "source": [
    "alist"
   ]
  },
  {
   "cell_type": "code",
   "execution_count": 119,
   "id": "de307acb",
   "metadata": {},
   "outputs": [
    {
     "data": {
      "text/plain": [
       "[]"
      ]
     },
     "execution_count": 119,
     "metadata": {},
     "output_type": "execute_result"
    }
   ],
   "source": [
    "alist[-5:-8]\n",
    "\n",
    "# diection of slice is right to left not possible in this case "
   ]
  },
  {
   "cell_type": "code",
   "execution_count": 121,
   "id": "c1b20427",
   "metadata": {},
   "outputs": [
    {
     "data": {
      "text/plain": [
       "[11, 22, 22.6]"
      ]
     },
     "execution_count": 121,
     "metadata": {},
     "output_type": "execute_result"
    }
   ],
   "source": [
    "alist[-8:-5]\n",
    "#direction of slice is left to right which is ok "
   ]
  },
  {
   "cell_type": "code",
   "execution_count": 122,
   "id": "d40597a2",
   "metadata": {},
   "outputs": [
    {
     "data": {
      "text/plain": [
       "[66, 55, 44.5, 44]"
      ]
     },
     "execution_count": 122,
     "metadata": {},
     "output_type": "execute_result"
    }
   ],
   "source": [
    "alist[-1:-5:-1]\n",
    "# positive steeping means movement from left to right \n",
    "# where as negative ateeping allows movement from right to left"
   ]
  },
  {
   "cell_type": "code",
   "execution_count": 123,
   "id": "cbff13bf",
   "metadata": {},
   "outputs": [
    {
     "data": {
      "text/plain": [
       "[11, 22, 22.6, 33, 44, 44.5, 55, 66]"
      ]
     },
     "execution_count": 123,
     "metadata": {},
     "output_type": "execute_result"
    }
   ],
   "source": [
    "alist"
   ]
  },
  {
   "cell_type": "code",
   "execution_count": 125,
   "id": "a53d397b",
   "metadata": {},
   "outputs": [
    {
     "data": {
      "text/plain": [
       "[66, 55, 44.5, 44, 33, 22.6, 22, 11]"
      ]
     },
     "execution_count": 125,
     "metadata": {},
     "output_type": "execute_result"
    }
   ],
   "source": [
    "alist[::-1]"
   ]
  },
  {
   "cell_type": "code",
   "execution_count": 126,
   "id": "879b9a93",
   "metadata": {},
   "outputs": [
    {
     "data": {
      "text/plain": [
       "[66, 44.5, 33, 22]"
      ]
     },
     "execution_count": 126,
     "metadata": {},
     "output_type": "execute_result"
    }
   ],
   "source": [
    "alist[::-2]"
   ]
  },
  {
   "cell_type": "code",
   "execution_count": 127,
   "id": "4718f8fb",
   "metadata": {},
   "outputs": [
    {
     "data": {
      "text/plain": [
       "[22.6, 33, 44, 44.5]"
      ]
     },
     "execution_count": 127,
     "metadata": {},
     "output_type": "execute_result"
    }
   ],
   "source": [
    "alist[2:-2]"
   ]
  },
  {
   "cell_type": "code",
   "execution_count": null,
   "id": "83523ff4",
   "metadata": {},
   "outputs": [],
   "source": [
    "alist[-3:1:-1]"
   ]
  },
  {
   "cell_type": "markdown",
   "id": "6ca6b191",
   "metadata": {},
   "source": [
    "# Tuple\n",
    " - immutable (unchangeable)"
   ]
  },
  {
   "cell_type": "code",
   "execution_count": 140,
   "id": "826308f1",
   "metadata": {},
   "outputs": [],
   "source": [
    "a = [12]"
   ]
  },
  {
   "cell_type": "code",
   "execution_count": 141,
   "id": "d85b348d",
   "metadata": {},
   "outputs": [],
   "source": [
    "a[0]=13"
   ]
  },
  {
   "cell_type": "code",
   "execution_count": 145,
   "id": "62331413",
   "metadata": {},
   "outputs": [],
   "source": [
    "tupp = (12,13,24,56,78,89)"
   ]
  },
  {
   "cell_type": "code",
   "execution_count": 146,
   "id": "887c248f",
   "metadata": {},
   "outputs": [
    {
     "data": {
      "text/plain": [
       "(12, 13, 24, 56, 78, 89)"
      ]
     },
     "execution_count": 146,
     "metadata": {},
     "output_type": "execute_result"
    }
   ],
   "source": [
    "tupp"
   ]
  },
  {
   "cell_type": "code",
   "execution_count": 147,
   "id": "9f932ffe",
   "metadata": {},
   "outputs": [
    {
     "data": {
      "text/plain": [
       "12"
      ]
     },
     "execution_count": 147,
     "metadata": {},
     "output_type": "execute_result"
    }
   ],
   "source": [
    "tupp[0]"
   ]
  },
  {
   "cell_type": "code",
   "execution_count": 148,
   "id": "1f830d09",
   "metadata": {},
   "outputs": [
    {
     "data": {
      "text/plain": [
       "(24, 56)"
      ]
     },
     "execution_count": 148,
     "metadata": {},
     "output_type": "execute_result"
    }
   ],
   "source": [
    "tupp[2:4]"
   ]
  },
  {
   "cell_type": "markdown",
   "id": "b5e1adf8",
   "metadata": {},
   "source": [
    "# Set\n",
    "  - collection that holds unique value"
   ]
  },
  {
   "cell_type": "code",
   "execution_count": 149,
   "id": "1d60e5a5",
   "metadata": {},
   "outputs": [],
   "source": [
    "aset= {1,3,4,5}"
   ]
  },
  {
   "cell_type": "code",
   "execution_count": 150,
   "id": "83a08b1b",
   "metadata": {},
   "outputs": [
    {
     "data": {
      "text/plain": [
       "{3, 4, 5, 6, 7, 8, 9, 11}"
      ]
     },
     "execution_count": 150,
     "metadata": {},
     "output_type": "execute_result"
    }
   ],
   "source": [
    "bset={11,3,4,5,6,6,7,8,9}\n",
    "bset"
   ]
  },
  {
   "cell_type": "code",
   "execution_count": 152,
   "id": "142fbb3f",
   "metadata": {},
   "outputs": [],
   "source": [
    "mylist = [2,3,4,45,3,5,45,4]"
   ]
  },
  {
   "cell_type": "code",
   "execution_count": 154,
   "id": "4735eb66",
   "metadata": {},
   "outputs": [
    {
     "data": {
      "text/plain": [
       "[2, 3, 4, 5, 45]"
      ]
     },
     "execution_count": 154,
     "metadata": {},
     "output_type": "execute_result"
    }
   ],
   "source": [
    "list(set(mylist))"
   ]
  },
  {
   "cell_type": "markdown",
   "id": "0e2572e7",
   "metadata": {},
   "source": [
    "# DYS >>> implement tuple and set "
   ]
  },
  {
   "cell_type": "code",
   "execution_count": null,
   "id": "9e1ec551",
   "metadata": {},
   "outputs": [],
   "source": [
    "a = input()"
   ]
  },
  {
   "cell_type": "code",
   "execution_count": null,
   "id": "086838fb",
   "metadata": {},
   "outputs": [],
   "source": [
    "print(a)"
   ]
  },
  {
   "cell_type": "code",
   "execution_count": null,
   "id": "f80e548d",
   "metadata": {},
   "outputs": [],
   "source": []
  }
 ],
 "metadata": {
  "kernelspec": {
   "display_name": "Python 3",
   "language": "python",
   "name": "python3"
  },
  "language_info": {
   "codemirror_mode": {
    "name": "ipython",
    "version": 3
   },
   "file_extension": ".py",
   "mimetype": "text/x-python",
   "name": "python",
   "nbconvert_exporter": "python",
   "pygments_lexer": "ipython3",
   "version": "3.7.4"
  }
 },
 "nbformat": 4,
 "nbformat_minor": 5
}
