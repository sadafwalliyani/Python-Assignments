{
 "cells": [
  {
   "cell_type": "markdown",
   "metadata": {},
   "source": [
    "Preparing the IMDB data"
   ]
  },
  {
   "cell_type": "code",
   "execution_count": 4,
   "metadata": {
    "id": "mDGn4pwVZWS2"
   },
   "outputs": [],
   "source": [
    "import tensorflow as tf\n",
    "from tensorflow.keras.datasets import imdb\n",
    "from tensorflow.keras.preprocessing import sequence\n",
    "\n"
   ]
  },
  {
   "cell_type": "code",
   "execution_count": 5,
   "metadata": {
    "colab": {
     "base_uri": "https://localhost:8080/"
    },
    "id": "XCHTS-hoZZHA",
    "outputId": "bafcaa15-0c2a-4be9-d167-e7b4d24caf15"
   },
   "outputs": [
    {
     "name": "stdout",
     "output_type": "stream",
     "text": [
      "Loading data...\n"
     ]
    }
   ],
   "source": [
    "max_features = 10000\n",
    "maxlen = 500\n",
    "batch_size = 32\n",
    "print('Loading data...')"
   ]
  },
  {
   "cell_type": "code",
   "execution_count": 6,
   "metadata": {
    "colab": {
     "base_uri": "https://localhost:8080/"
    },
    "id": "ok2g4YfLZbcp",
    "outputId": "b100a47d-8e3d-4b55-9db4-8c0a1d4a01d0"
   },
   "outputs": [
    {
     "name": "stdout",
     "output_type": "stream",
     "text": [
      "25000 train sequences\n",
      "25000 test sequences\n",
      "Pad sequences (samples x time)\n",
      "input_train shape: (25000, 500)\n",
      "input_test shape: (25000, 500)\n"
     ]
    }
   ],
   "source": [
    "(input_train, y_train), (input_test, y_test) = imdb.load_data(num_words=max_features)\n",
    "print(len(input_train), 'train sequences')\n",
    "print(len(input_test), 'test sequences')\n",
    "print('Pad sequences (samples x time)')\n",
    "input_train = sequence.pad_sequences(input_train, maxlen=maxlen)\n",
    "input_test = sequence.pad_sequences(input_test, maxlen=maxlen)\n",
    "print('input_train shape:', input_train.shape)\n",
    "print('input_test shape:', input_test.shape)"
   ]
  },
  {
   "cell_type": "code",
   "execution_count": 7,
   "metadata": {
    "id": "6grgufHdZepD"
   },
   "outputs": [],
   "source": [
    "from tensorflow.keras.layers import Dense\n",
    "from tensorflow.keras.models import Sequential\n",
    "from tensorflow.keras.layers import Embedding, SimpleRNN"
   ]
  },
  {
   "cell_type": "markdown",
   "metadata": {},
   "source": [
    "Training the model with Embedding and SimpleRNN layers"
   ]
  },
  {
   "cell_type": "code",
   "execution_count": 10,
   "metadata": {
    "colab": {
     "base_uri": "https://localhost:8080/"
    },
    "id": "4LF0uCxEZj_Q",
    "outputId": "987141af-7a1f-4bf4-b4ab-eb33b570c6e6"
   },
   "outputs": [
    {
     "name": "stdout",
     "output_type": "stream",
     "text": [
      "Epoch 1/10\n",
      "157/157 [==============================] - 40s 236ms/step - loss: 0.6017 - acc: 0.6658 - val_loss: 0.4665 - val_acc: 0.7962\n",
      "Epoch 2/10\n",
      "157/157 [==============================] - 49s 312ms/step - loss: 0.3954 - acc: 0.8315 - val_loss: 0.3683 - val_acc: 0.8490\n",
      "Epoch 3/10\n",
      "157/157 [==============================] - 41s 260ms/step - loss: 0.3057 - acc: 0.8773 - val_loss: 0.3995 - val_acc: 0.8248\n",
      "Epoch 4/10\n",
      "157/157 [==============================] - 41s 262ms/step - loss: 0.2564 - acc: 0.9004 - val_loss: 0.3625 - val_acc: 0.8524\n",
      "Epoch 5/10\n",
      "157/157 [==============================] - 42s 266ms/step - loss: 0.1987 - acc: 0.9269 - val_loss: 0.4058 - val_acc: 0.8562\n",
      "Epoch 6/10\n",
      "157/157 [==============================] - 36s 226ms/step - loss: 0.1619 - acc: 0.9416 - val_loss: 0.4471 - val_acc: 0.8514\n",
      "Epoch 7/10\n",
      "157/157 [==============================] - 37s 237ms/step - loss: 0.1263 - acc: 0.9570 - val_loss: 0.4297 - val_acc: 0.8734\n",
      "Epoch 8/10\n",
      "157/157 [==============================] - 46s 293ms/step - loss: 0.0905 - acc: 0.9706 - val_loss: 0.5551 - val_acc: 0.7766\n",
      "Epoch 9/10\n",
      "157/157 [==============================] - 46s 290ms/step - loss: 0.0646 - acc: 0.9797 - val_loss: 0.4980 - val_acc: 0.8330\n",
      "Epoch 10/10\n",
      "157/157 [==============================] - 44s 281ms/step - loss: 0.0494 - acc: 0.9859 - val_loss: 0.5228 - val_acc: 0.8412\n"
     ]
    }
   ],
   "source": [
    "model = Sequential()\n",
    "model.add(Embedding(max_features, 32))\n",
    "model.add(SimpleRNN(32))\n",
    "model.add(Dense(1, activation='sigmoid'))\n",
    "model.compile(optimizer='rmsprop', loss='binary_crossentropy', metrics=['acc'])\n",
    "history = model.fit(input_train, y_train,\n",
    "epochs=10,\n",
    "batch_size=128,\n",
    "validation_split=0.2)"
   ]
  },
  {
   "cell_type": "markdown",
   "metadata": {},
   "source": [
    "Plotting results"
   ]
  },
  {
   "cell_type": "code",
   "execution_count": 9,
   "metadata": {
    "colab": {
     "base_uri": "https://localhost:8080/",
     "height": 887
    },
    "id": "WehgIWa1Zmqx",
    "outputId": "9a90a207-f11e-493f-bbeb-1d591aeae1bf"
   },
   "outputs": [
    {
     "ename": "NameError",
     "evalue": "name 'history' is not defined",
     "output_type": "error",
     "traceback": [
      "\u001b[1;31m---------------------------------------------------------------------------\u001b[0m",
      "\u001b[1;31mNameError\u001b[0m                                 Traceback (most recent call last)",
      "Cell \u001b[1;32mIn[9], line 2\u001b[0m\n\u001b[0;32m      1\u001b[0m \u001b[39mimport\u001b[39;00m \u001b[39mmatplotlib\u001b[39;00m\u001b[39m.\u001b[39;00m\u001b[39mpyplot\u001b[39;00m \u001b[39mas\u001b[39;00m \u001b[39mplt\u001b[39;00m\n\u001b[1;32m----> 2\u001b[0m acc \u001b[39m=\u001b[39m history\u001b[39m.\u001b[39mhistory[\u001b[39m'\u001b[39m\u001b[39macc\u001b[39m\u001b[39m'\u001b[39m]\n\u001b[0;32m      3\u001b[0m val_acc \u001b[39m=\u001b[39m history\u001b[39m.\u001b[39mhistory[\u001b[39m'\u001b[39m\u001b[39mval_acc\u001b[39m\u001b[39m'\u001b[39m]\n\u001b[0;32m      4\u001b[0m loss \u001b[39m=\u001b[39m history\u001b[39m.\u001b[39mhistory[\u001b[39m'\u001b[39m\u001b[39mloss\u001b[39m\u001b[39m'\u001b[39m]\n",
      "\u001b[1;31mNameError\u001b[0m: name 'history' is not defined"
     ]
    }
   ],
   "source": [
    "import matplotlib.pyplot as plt\n",
    "acc = history.history['acc']\n",
    "val_acc = history.history['val_acc']\n",
    "loss = history.history['loss']\n",
    "val_loss = history.history['val_loss']\n",
    "epochs = range(1, len(acc) + 1)\n",
    "plt.plot(epochs, acc, 'bo', label='Training acc')\n",
    "plt.plot(epochs, val_acc, 'b', label='Validation acc')\n",
    "plt.title('Training and validation accuracy')\n",
    "plt.legend()\n",
    "plt.figure()\n",
    "plt.plot(epochs, loss, 'bo', label='Training loss')\n",
    "plt.plot(epochs, val_loss, 'b', label='Validation loss')\n",
    "plt.title('Training and validation loss')\n",
    "plt.legend()\n",
    "plt.show()"
   ]
  },
  {
   "cell_type": "markdown",
   "metadata": {},
   "source": [
    "Training the model with Embedding and SimpleRNN layers"
   ]
  },
  {
   "cell_type": "code",
   "execution_count": null,
   "metadata": {
    "colab": {
     "base_uri": "https://localhost:8080/"
    },
    "id": "yJLdi1cbaeQa",
    "outputId": "8d223d83-f2ae-4c4c-ef38-3374dbc0cd3a"
   },
   "outputs": [
    {
     "name": "stdout",
     "output_type": "stream",
     "text": [
      "Epoch 1/10\n",
      "157/157 [==============================] - 43s 256ms/step - loss: 0.5777 - acc: 0.6806 - val_loss: 0.4629 - val_acc: 0.7752\n",
      "Epoch 2/10\n",
      "157/157 [==============================] - 39s 252ms/step - loss: 0.3495 - acc: 0.8571 - val_loss: 0.3591 - val_acc: 0.8498\n",
      "Epoch 3/10\n",
      "157/157 [==============================] - 42s 265ms/step - loss: 0.2780 - acc: 0.8903 - val_loss: 0.3217 - val_acc: 0.8636\n",
      "Epoch 4/10\n",
      "157/157 [==============================] - 39s 249ms/step - loss: 0.2302 - acc: 0.9130 - val_loss: 0.3861 - val_acc: 0.8662\n",
      "Epoch 5/10\n",
      "157/157 [==============================] - 39s 249ms/step - loss: 0.2012 - acc: 0.9255 - val_loss: 0.3615 - val_acc: 0.8504\n",
      "Epoch 6/10\n",
      "157/157 [==============================] - 40s 254ms/step - loss: 0.1813 - acc: 0.9345 - val_loss: 0.3286 - val_acc: 0.8774\n",
      "Epoch 7/10\n",
      "157/157 [==============================] - 39s 249ms/step - loss: 0.1670 - acc: 0.9402 - val_loss: 0.3113 - val_acc: 0.8842\n",
      "Epoch 8/10\n",
      "157/157 [==============================] - 39s 247ms/step - loss: 0.1544 - acc: 0.9452 - val_loss: 0.3371 - val_acc: 0.8860\n",
      "Epoch 9/10\n",
      "157/157 [==============================] - 39s 249ms/step - loss: 0.1355 - acc: 0.9549 - val_loss: 0.3569 - val_acc: 0.8468\n",
      "Epoch 10/10\n",
      "157/157 [==============================] - 41s 260ms/step - loss: 0.1327 - acc: 0.9544 - val_loss: 0.3326 - val_acc: 0.8794\n"
     ]
    }
   ],
   "source": [
    "from keras.layers import LSTM\n",
    "model = Sequential()\n",
    "model.add(Embedding(max_features, 32))\n",
    "model.add(LSTM(32))\n",
    "model.add(Dense(1, activation='sigmoid'))\n",
    "model.compile(optimizer='rmsprop',\n",
    "loss='binary_crossentropy',\n",
    "metrics=['acc'])\n",
    "history = model.fit(input_train, y_train,\n",
    "epochs=10,\n",
    "batch_size=128,\n",
    "validation_split=0.2)"
   ]
  },
  {
   "cell_type": "markdown",
   "metadata": {},
   "source": [
    "Plotting results"
   ]
  },
  {
   "cell_type": "code",
   "execution_count": null,
   "metadata": {
    "colab": {
     "base_uri": "https://localhost:8080/",
     "height": 887
    },
    "id": "yjzcdtRvcTDW",
    "outputId": "6e3b8f0d-0142-439f-ccbd-94ac5058f3c9"
   },
   "outputs": [
    {
     "data": {
      "image/png": "[encoded data removed]",
      "text/plain": [
       "<Figure size 640x480 with 1 Axes>"
      ]
     },
     "metadata": {},
     "output_type": "display_data"
    },
    {
     "data": {
      "image/png": "[encoded data removed]",
      "text/plain": [
       "<Figure size 640x480 with 1 Axes>"
      ]
     },
     "metadata": {},
     "output_type": "display_data"
    }
   ],
   "source": [
    "import matplotlib.pyplot as plt\n",
    "acc = history.history['acc']\n",
    "val_acc = history.history['val_acc']\n",
    "loss = history.history['loss']\n",
    "val_loss = history.history['val_loss']\n",
    "epochs = range(1, len(acc) + 1)\n",
    "plt.plot(epochs, acc, 'bo', label='Training acc')\n",
    "plt.plot(epochs, val_acc, 'b', label='Validation acc')\n",
    "plt.title('Training and validation accuracy')\n",
    "plt.legend()\n",
    "plt.figure()\n",
    "plt.plot(epochs, loss, 'bo', label='Training loss')\n",
    "plt.plot(epochs, val_loss, 'b', label='Validation loss')\n",
    "plt.title('Training and validation loss')\n",
    "plt.legend()\n",
    "plt.show()"
   ]
  },
  {
   "cell_type": "code",
   "execution_count": null,
   "metadata": {
    "id": "angZpyWga11y"
   },
   "outputs": [],
   "source": []
  }
 ],
 "metadata": {
  "colab": {
   "provenance": []
  },
  "kernelspec": {
   "display_name": "Python 3 (ipykernel)",
   "language": "python",
   "name": "python3"
  },
  "language_info": {
   "codemirror_mode": {
    "name": "ipython",
    "version": 3
   },
   "file_extension": ".py",
   "mimetype": "text/x-python",
   "name": "python",
   "nbconvert_exporter": "python",
   "pygments_lexer": "ipython3",
   "version": "3.9.13"
  }
 },
 "nbformat": 4,
 "nbformat_minor": 1
}
