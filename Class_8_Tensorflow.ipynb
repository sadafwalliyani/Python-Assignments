{
  "cells": [
    {
      "cell_type": "markdown",
      "metadata": {
        "id": "view-in-github",
        "colab_type": "text"
      },
      "source": [
        "<a href=\"https://colab.research.google.com/github/sadafwalliyani/Python-Assignments/blob/master/Class_8_Tensorflow.ipynb\" target=\"_parent\"><img src=\"https://colab.research.google.com/assets/colab-badge.svg\" alt=\"Open In Colab\"/></a>"
      ]
    },
    {
      "cell_type": "code",
      "execution_count": 13,
      "id": "969d6f16",
      "metadata": {
        "id": "969d6f16"
      },
      "outputs": [],
      "source": [
        "import tensorflow\n"
      ]
    },
    {
      "cell_type": "code",
      "source": [
        "from PIL import Image\n",
        "#img=Image.open('OIP.jpg').convert('L')"
      ],
      "metadata": {
        "id": "QYQ1lpTz-7Q0"
      },
      "id": "QYQ1lpTz-7Q0",
      "execution_count": 16,
      "outputs": []
    },
    {
      "cell_type": "code",
      "source": [
        "from tensorflow.keras.preprocessing import image"
      ],
      "metadata": {
        "id": "uNEFuXIZ-70L"
      },
      "id": "uNEFuXIZ-70L",
      "execution_count": 18,
      "outputs": []
    },
    {
      "cell_type": "code",
      "source": [
        "img=image.load_img(\"img6.png\",target_size=(128,128))"
      ],
      "metadata": {
        "id": "krZa0ztK-75j"
      },
      "id": "krZa0ztK-75j",
      "execution_count": 21,
      "outputs": []
    },
    {
      "cell_type": "code",
      "source": [
        "img"
      ],
      "metadata": {
        "colab": {
          "base_uri": "https://localhost:8080/",
          "height": 145
        },
        "id": "rUg0P1yF-7-l",
        "outputId": "7c974556-91f4-4956-e226-3d5a4a933d75"
      },
      "id": "rUg0P1yF-7-l",
      "execution_count": 22,
      "outputs": [
        {
          "output_type": "execute_result",
          "data": {
            "text/plain": [
              "<PIL.Image.Image image mode=RGB size=128x128 at 0x7FDEFA449340>"
            ],
            "image/png": "[encoded data removed]"
          },
          "metadata": {},
          "execution_count": 22
        }
      ]
    },
    {
      "cell_type": "code",
      "source": [],
      "metadata": {
        "id": "4emw-S9tAwkt"
      },
      "id": "4emw-S9tAwkt",
      "execution_count": null,
      "outputs": []
    },
    {
      "cell_type": "code",
      "source": [],
      "metadata": {
        "id": "TecMLglGAxco"
      },
      "id": "TecMLglGAxco",
      "execution_count": null,
      "outputs": []
    },
    {
      "cell_type": "code",
      "source": [],
      "metadata": {
        "id": "0y_07tnkAxhB"
      },
      "id": "0y_07tnkAxhB",
      "execution_count": null,
      "outputs": []
    },
    {
      "cell_type": "code",
      "source": [],
      "metadata": {
        "id": "kyUZrgOXAxk7"
      },
      "id": "kyUZrgOXAxk7",
      "execution_count": null,
      "outputs": []
    },
    {
      "cell_type": "code",
      "source": [],
      "metadata": {
        "id": "d0uORjDzAxoU"
      },
      "id": "d0uORjDzAxoU",
      "execution_count": null,
      "outputs": []
    },
    {
      "cell_type": "code",
      "execution_count": 23,
      "id": "bc665036",
      "metadata": {
        "colab": {
          "base_uri": "https://localhost:8080/",
          "height": 166
        },
        "id": "bc665036",
        "outputId": "4da6efa8-098b-4dc6-887c-91db559b1bda"
      },
      "outputs": [
        {
          "output_type": "error",
          "ename": "NameError",
          "evalue": "ignored",
          "traceback": [
            "\u001b[0;31m---------------------------------------------------------------------------\u001b[0m",
            "\u001b[0;31mNameError\u001b[0m                                 Traceback (most recent call last)",
            "\u001b[0;32m<ipython-input-23-65f07e81e169>\u001b[0m in \u001b[0;36m<module>\u001b[0;34m\u001b[0m\n\u001b[0;32m----> 1\u001b[0;31m \u001b[0mprint\u001b[0m\u001b[0;34m(\u001b[0m\u001b[0mtf\u001b[0m\u001b[0;34m.\u001b[0m\u001b[0m__version__\u001b[0m\u001b[0;34m)\u001b[0m\u001b[0;34m\u001b[0m\u001b[0;34m\u001b[0m\u001b[0m\n\u001b[0m",
            "\u001b[0;31mNameError\u001b[0m: name 'tf' is not defined"
          ]
        }
      ],
      "source": [
        "print(tf.__version__)"
      ]
    },
    {
      "cell_type": "code",
      "execution_count": null,
      "id": "a383e2c2",
      "metadata": {
        "id": "a383e2c2"
      },
      "outputs": [],
      "source": [
        "from tensorflow.keras.datasets import mnist"
      ]
    },
    {
      "cell_type": "code",
      "execution_count": null,
      "id": "8fbba032",
      "metadata": {
        "id": "8fbba032"
      },
      "outputs": [],
      "source": [
        "(train_images,train_labels),(test_images,tesr_labels)=mnist.load_data()"
      ]
    },
    {
      "cell_type": "code",
      "source": [
        "len(train_images)"
      ],
      "metadata": {
        "id": "VPWl2RSR1O43"
      },
      "id": "VPWl2RSR1O43",
      "execution_count": null,
      "outputs": []
    },
    {
      "cell_type": "code",
      "source": [
        "len(train_labels)"
      ],
      "metadata": {
        "id": "uHZvOzI71UEz"
      },
      "id": "uHZvOzI71UEz",
      "execution_count": null,
      "outputs": []
    },
    {
      "cell_type": "code",
      "source": [
        "len(test_images)"
      ],
      "metadata": {
        "id": "ZU6XU_jN1X4C"
      },
      "id": "ZU6XU_jN1X4C",
      "execution_count": null,
      "outputs": []
    },
    {
      "cell_type": "code",
      "source": [
        "train_images[0].shape"
      ],
      "metadata": {
        "id": "RjwODQd61dZa"
      },
      "id": "RjwODQd61dZa",
      "execution_count": null,
      "outputs": []
    },
    {
      "cell_type": "code",
      "source": [
        "train_images.shape"
      ],
      "metadata": {
        "id": "Sb2pkYuA4WDZ"
      },
      "id": "Sb2pkYuA4WDZ",
      "execution_count": null,
      "outputs": []
    },
    {
      "cell_type": "code",
      "source": [
        "train_images[0]"
      ],
      "metadata": {
        "id": "M0kGSI0D46CH"
      },
      "id": "M0kGSI0D46CH",
      "execution_count": null,
      "outputs": []
    },
    {
      "cell_type": "code",
      "source": [
        "train_labels[0]"
      ],
      "metadata": {
        "id": "uPa2deZ35A3a"
      },
      "id": "uPa2deZ35A3a",
      "execution_count": null,
      "outputs": []
    },
    {
      "cell_type": "code",
      "source": [
        " from tensorflow.keras import models \n",
        " from tensorflow.keras import layers \n",
        " #creating models we need Type of models "
      ],
      "metadata": {
        "id": "K5xbuNwM6GG3"
      },
      "id": "K5xbuNwM6GG3",
      "execution_count": null,
      "outputs": []
    },
    {
      "cell_type": "code",
      "source": [
        "#first step (ek layer ke upar dusri layer is called sequential model)\n",
        "network=models.Sequential()\n",
        "network.add(layers.Dense(512,activation='relu',)) #input layer\n",
        "\n",
        "#network.add(layers.Dense(256,activation='relu',)) hidden layer\n",
        "\n",
        "  #activation function transforms linearity into non linearity\n",
        "  #Relu is methametical function we use in activation function\n",
        "  #dense layer of ann takes vector in input so we will create vecor of our data\n",
        "\n",
        "network.add(layers.Dense(10,activation='softmax',)) # output layer \n",
        "  #softmax is methametical function we use in activation function\n",
        "  #softmax ek aisa activation function hae jo converts krta hae probabilityme \n"
      ],
      "metadata": {
        "id": "4oOP2Hio6j-k"
      },
      "id": "4oOP2Hio6j-k",
      "execution_count": null,
      "outputs": []
    },
    {
      "cell_type": "code",
      "source": [],
      "metadata": {
        "id": "RMipP-HO8sv7"
      },
      "id": "RMipP-HO8sv7",
      "execution_count": null,
      "outputs": []
    }
  ],
  "metadata": {
    "kernelspec": {
      "display_name": "Python 3 (ipykernel)",
      "language": "python",
      "name": "python3"
    },
    "language_info": {
      "codemirror_mode": {
        "name": "ipython",
        "version": 3
      },
      "file_extension": ".py",
      "mimetype": "text/x-python",
      "name": "python",
      "nbconvert_exporter": "python",
      "pygments_lexer": "ipython3",
      "version": "3.9.13"
    },
    "vscode": {
      "interpreter": {
        "hash": "5238573367df39f7286bb46f9ff5f08f63a01a80960060ce41e3c79b190280fa"
      }
    },
    "colab": {
      "provenance": [],
      "include_colab_link": true
    }
  },
  "nbformat": 4,
  "nbformat_minor": 5
}