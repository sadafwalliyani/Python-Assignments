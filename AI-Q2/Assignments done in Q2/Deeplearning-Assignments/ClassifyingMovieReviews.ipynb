{
 "cells": [
  {
   "cell_type": "code",
   "execution_count": 52,
   "metadata": {},
   "outputs": [],
   "source": [
    "from tensorflow.keras.datasets import imdb"
   ]
  },
  {
   "cell_type": "code",
   "execution_count": 58,
   "metadata": {},
   "outputs": [],
   "source": [
    "(train_data, train_labels), (test_data, test_labels)=imdb.load_data(num_words=10000)"
   ]
  },
  {
   "cell_type": "code",
   "execution_count": 54,
   "metadata": {},
   "outputs": [
    {
     "data": {
      "text/plain": [
       "25000"
      ]
     },
     "execution_count": 54,
     "metadata": {},
     "output_type": "execute_result"
    }
   ],
   "source": [
    "len(train_data)"
   ]
  },
  {
   "cell_type": "code",
   "execution_count": 55,
   "metadata": {},
   "outputs": [
    {
     "data": {
      "text/plain": [
       "25000"
      ]
     },
     "execution_count": 55,
     "metadata": {},
     "output_type": "execute_result"
    }
   ],
   "source": [
    "len(train_labels)"
   ]
  },
  {
   "cell_type": "code",
   "execution_count": 56,
   "metadata": {},
   "outputs": [
    {
     "data": {
      "text/plain": [
       "25000"
      ]
     },
     "execution_count": 56,
     "metadata": {},
     "output_type": "execute_result"
    }
   ],
   "source": [
    "len(test_data)"
   ]
  },
  {
   "cell_type": "code",
   "execution_count": 59,
   "metadata": {},
   "outputs": [
    {
     "data": {
      "text/plain": [
       "25000"
      ]
     },
     "execution_count": 59,
     "metadata": {},
     "output_type": "execute_result"
    }
   ],
   "source": [
    "len(test_labels)"
   ]
  },
  {
   "cell_type": "code",
   "execution_count": null,
   "metadata": {},
   "outputs": [
    {
     "data": {
      "text/plain": [
       "218"
      ]
     },
     "execution_count": 42,
     "metadata": {},
     "output_type": "execute_result"
    }
   ],
   "source": [
    "len(train_data[0])"
   ]
  },
  {
   "cell_type": "code",
   "execution_count": null,
   "metadata": {},
   "outputs": [
    {
     "data": {
      "text/plain": [
       "[1,\n",
       " 14,\n",
       " 22,\n",
       " 16,\n",
       " 43,\n",
       " 530,\n",
       " 973,\n",
       " 1622,\n",
       " 1385,\n",
       " 65,\n",
       " 458,\n",
       " 4468,\n",
       " 66,\n",
       " 3941,\n",
       " 4,\n",
       " 173,\n",
       " 36,\n",
       " 256,\n",
       " 5,\n",
       " 25,\n",
       " 100,\n",
       " 43,\n",
       " 838,\n",
       " 112,\n",
       " 50,\n",
       " 670,\n",
       " 2,\n",
       " 9,\n",
       " 35,\n",
       " 480,\n",
       " 284,\n",
       " 5,\n",
       " 150,\n",
       " 4,\n",
       " 172,\n",
       " 112,\n",
       " 167,\n",
       " 2,\n",
       " 336,\n",
       " 385,\n",
       " 39,\n",
       " 4,\n",
       " 172,\n",
       " 4536,\n",
       " 1111,\n",
       " 17,\n",
       " 546,\n",
       " 38,\n",
       " 13,\n",
       " 447,\n",
       " 4,\n",
       " 192,\n",
       " 50,\n",
       " 16,\n",
       " 6,\n",
       " 147,\n",
       " 2025,\n",
       " 19,\n",
       " 14,\n",
       " 22,\n",
       " 4,\n",
       " 1920,\n",
       " 4613,\n",
       " 469,\n",
       " 4,\n",
       " 22,\n",
       " 71,\n",
       " 87,\n",
       " 12,\n",
       " 16,\n",
       " 43,\n",
       " 530,\n",
       " 38,\n",
       " 76,\n",
       " 15,\n",
       " 13,\n",
       " 1247,\n",
       " 4,\n",
       " 22,\n",
       " 17,\n",
       " 515,\n",
       " 17,\n",
       " 12,\n",
       " 16,\n",
       " 626,\n",
       " 18,\n",
       " 2,\n",
       " 5,\n",
       " 62,\n",
       " 386,\n",
       " 12,\n",
       " 8,\n",
       " 316,\n",
       " 8,\n",
       " 106,\n",
       " 5,\n",
       " 4,\n",
       " 2223,\n",
       " 5244,\n",
       " 16,\n",
       " 480,\n",
       " 66,\n",
       " 3785,\n",
       " 33,\n",
       " 4,\n",
       " 130,\n",
       " 12,\n",
       " 16,\n",
       " 38,\n",
       " 619,\n",
       " 5,\n",
       " 25,\n",
       " 124,\n",
       " 51,\n",
       " 36,\n",
       " 135,\n",
       " 48,\n",
       " 25,\n",
       " 1415,\n",
       " 33,\n",
       " 6,\n",
       " 22,\n",
       " 12,\n",
       " 215,\n",
       " 28,\n",
       " 77,\n",
       " 52,\n",
       " 5,\n",
       " 14,\n",
       " 407,\n",
       " 16,\n",
       " 82,\n",
       " 2,\n",
       " 8,\n",
       " 4,\n",
       " 107,\n",
       " 117,\n",
       " 5952,\n",
       " 15,\n",
       " 256,\n",
       " 4,\n",
       " 2,\n",
       " 7,\n",
       " 3766,\n",
       " 5,\n",
       " 723,\n",
       " 36,\n",
       " 71,\n",
       " 43,\n",
       " 530,\n",
       " 476,\n",
       " 26,\n",
       " 400,\n",
       " 317,\n",
       " 46,\n",
       " 7,\n",
       " 4,\n",
       " 2,\n",
       " 1029,\n",
       " 13,\n",
       " 104,\n",
       " 88,\n",
       " 4,\n",
       " 381,\n",
       " 15,\n",
       " 297,\n",
       " 98,\n",
       " 32,\n",
       " 2071,\n",
       " 56,\n",
       " 26,\n",
       " 141,\n",
       " 6,\n",
       " 194,\n",
       " 7486,\n",
       " 18,\n",
       " 4,\n",
       " 226,\n",
       " 22,\n",
       " 21,\n",
       " 134,\n",
       " 476,\n",
       " 26,\n",
       " 480,\n",
       " 5,\n",
       " 144,\n",
       " 30,\n",
       " 5535,\n",
       " 18,\n",
       " 51,\n",
       " 36,\n",
       " 28,\n",
       " 224,\n",
       " 92,\n",
       " 25,\n",
       " 104,\n",
       " 4,\n",
       " 226,\n",
       " 65,\n",
       " 16,\n",
       " 38,\n",
       " 1334,\n",
       " 88,\n",
       " 12,\n",
       " 16,\n",
       " 283,\n",
       " 5,\n",
       " 16,\n",
       " 4472,\n",
       " 113,\n",
       " 103,\n",
       " 32,\n",
       " 15,\n",
       " 16,\n",
       " 5345,\n",
       " 19,\n",
       " 178,\n",
       " 32]"
      ]
     },
     "execution_count": 43,
     "metadata": {},
     "output_type": "execute_result"
    }
   ],
   "source": [
    "train_data[0]"
   ]
  },
  {
   "cell_type": "code",
   "execution_count": null,
   "metadata": {},
   "outputs": [],
   "source": [
    "word_index=imdb.get_word_index()\n",
    "reverse_word_index=  dict([(value, key) for (key, value) in word_index.items()])\n",
    "# decoded_review = ' '.join([reverse_word_index.get(i - 3, '?') for i in train_data[1]])\n",
    "decoded_reeview=' '.join([reverse_word_index.get(i - 3, '?') for i in train_data[1]])\n"
   ]
  },
  {
   "cell_type": "code",
   "execution_count": null,
   "metadata": {},
   "outputs": [
    {
     "data": {
      "text/plain": [
       "\"? big hair big boobs bad music and a giant safety pin these are the words to best describe this terrible movie i love cheesy horror movies and i've seen hundreds but this had got to be on of the worst ever made the plot is paper thin and ridiculous the acting is an abomination the script is completely laughable the best is the end showdown with the cop and how he worked out who the killer is it's just so damn terribly written the clothes are sickening and funny in equal ? the hair is big lots of boobs ? men wear those cut ? shirts that show off their ? sickening that men actually wore them and the music is just ? trash that plays over and over again in almost every scene there is trashy music boobs and ? taking away bodies and the gym still doesn't close for ? all joking aside this is a truly bad film whose only charm is to look back on the disaster that was the 80's and have a good old laugh at how bad everything was back then\""
      ]
     },
     "execution_count": 45,
     "metadata": {},
     "output_type": "execute_result"
    }
   ],
   "source": [
    "decoded_reeview"
   ]
  },
  {
   "cell_type": "code",
   "execution_count": null,
   "metadata": {},
   "outputs": [
    {
     "data": {
      "text/plain": [
       "0"
      ]
     },
     "execution_count": 46,
     "metadata": {},
     "output_type": "execute_result"
    }
   ],
   "source": [
    "train_labels[1]"
   ]
  },
  {
   "cell_type": "code",
   "execution_count": null,
   "metadata": {},
   "outputs": [
    {
     "data": {
      "text/plain": [
       "9999"
      ]
     },
     "execution_count": 47,
     "metadata": {},
     "output_type": "execute_result"
    }
   ],
   "source": [
    "max([max(sequence) for sequence in train_data])"
   ]
  },
  {
   "cell_type": "code",
   "execution_count": null,
   "metadata": {},
   "outputs": [],
   "source": [
    "import numpy as np\n",
    "\n",
    "def vectorize_sequences(sequences, dimension=10000):\n",
    "    results = np.zeros((len(sequences), dimension))\n",
    "    for i, sequence in enumerate(sequences):\n",
    "        results[i, sequence] = 1.\n",
    "    return results"
   ]
  },
  {
   "cell_type": "code",
   "execution_count": null,
   "metadata": {},
   "outputs": [],
   "source": [
    "x_train = vectorize_sequences(train_data)\n",
    "x_test = vectorize_sequences(test_data)\n"
   ]
  },
  {
   "cell_type": "code",
   "execution_count": null,
   "metadata": {},
   "outputs": [
    {
     "data": {
      "text/plain": [
       "array([0., 1., 1., ..., 0., 0., 0.])"
      ]
     },
     "execution_count": 50,
     "metadata": {},
     "output_type": "execute_result"
    }
   ],
   "source": [
    "x_train[0] #bow >>>>> BAG OF WORDS\n"
   ]
  },
  {
   "cell_type": "code",
   "execution_count": 60,
   "metadata": {},
   "outputs": [],
   "source": [
    "y_train = np.asarray(train_labels).astype('float32')\n",
    "y_test = np.asarray(test_labels).astype('float32')"
   ]
  },
  {
   "cell_type": "code",
   "execution_count": null,
   "metadata": {},
   "outputs": [],
   "source": [
    "from tensorflow.keras import models\n",
    "from tensorflow.keras import layers\n",
    "\n",
    "model = models.Sequential()\n",
    "\n",
    "model.add(layers.Dense(16, activation='relu', input_shape=(10000,)))\n",
    "\n",
    "model.add(layers.Dense(16, activation='relu'))\n",
    "\n",
    "model.add(layers.Dense(1, activation='sigmoid'))"
   ]
  },
  {
   "cell_type": "code",
   "execution_count": null,
   "metadata": {},
   "outputs": [],
   "source": [
    "model.compile(optimizer='rmsprop',loss='binary_crossentropy',\n",
    "metrics=['accuracy'])"
   ]
  },
  {
   "cell_type": "code",
   "execution_count": null,
   "metadata": {},
   "outputs": [],
   "source": [
    "x_val = x_train[:10000]\n",
    "partial_x_train = x_train[10000:]\n",
    "\n",
    "y_val = y_train[:10000]\n",
    "partial_y_train = y_train[10000:]"
   ]
  },
  {
   "cell_type": "code",
   "execution_count": null,
   "metadata": {},
   "outputs": [
    {
     "name": "stdout",
     "output_type": "stream",
     "text": [
      "Epoch 1/20\n",
      "59/59 [==============================] - 10s 142ms/step - loss: 0.4566 - accuracy: 0.8165 - val_loss: 0.3246 - val_accuracy: 0.8821\n",
      "Epoch 2/20\n",
      "59/59 [==============================] - 2s 38ms/step - loss: 0.2515 - accuracy: 0.9112 - val_loss: 0.2847 - val_accuracy: 0.8858\n",
      "Epoch 3/20\n",
      "59/59 [==============================] - 1s 18ms/step - loss: 0.1844 - accuracy: 0.9349 - val_loss: 0.2757 - val_accuracy: 0.8870\n",
      "Epoch 4/20\n",
      "59/59 [==============================] - 1s 17ms/step - loss: 0.1438 - accuracy: 0.9519 - val_loss: 0.2912 - val_accuracy: 0.8867\n",
      "Epoch 5/20\n",
      "59/59 [==============================] - 1s 17ms/step - loss: 0.1153 - accuracy: 0.9623 - val_loss: 0.3321 - val_accuracy: 0.8791\n",
      "Epoch 6/20\n",
      "59/59 [==============================] - 1s 16ms/step - loss: 0.0935 - accuracy: 0.9705 - val_loss: 0.3362 - val_accuracy: 0.8811\n",
      "Epoch 7/20\n",
      "59/59 [==============================] - 1s 16ms/step - loss: 0.0737 - accuracy: 0.9781 - val_loss: 0.3977 - val_accuracy: 0.8755\n",
      "Epoch 8/20\n",
      "59/59 [==============================] - 1s 16ms/step - loss: 0.0591 - accuracy: 0.9827 - val_loss: 0.4235 - val_accuracy: 0.8744\n",
      "Epoch 9/20\n",
      "59/59 [==============================] - 1s 16ms/step - loss: 0.0468 - accuracy: 0.9871 - val_loss: 0.4369 - val_accuracy: 0.8731\n",
      "Epoch 10/20\n",
      "59/59 [==============================] - 1s 16ms/step - loss: 0.0349 - accuracy: 0.9925 - val_loss: 0.4716 - val_accuracy: 0.8736\n",
      "Epoch 11/20\n",
      "59/59 [==============================] - 1s 16ms/step - loss: 0.0280 - accuracy: 0.9936 - val_loss: 0.5187 - val_accuracy: 0.8709\n",
      "Epoch 12/20\n",
      "59/59 [==============================] - 1s 18ms/step - loss: 0.0216 - accuracy: 0.9957 - val_loss: 0.5606 - val_accuracy: 0.8691\n",
      "Epoch 13/20\n",
      "59/59 [==============================] - 1s 19ms/step - loss: 0.0149 - accuracy: 0.9975 - val_loss: 0.5964 - val_accuracy: 0.8677\n",
      "Epoch 14/20\n",
      "59/59 [==============================] - 1s 16ms/step - loss: 0.0121 - accuracy: 0.9981 - val_loss: 0.6647 - val_accuracy: 0.8661\n",
      "Epoch 15/20\n",
      "59/59 [==============================] - 1s 16ms/step - loss: 0.0090 - accuracy: 0.9986 - val_loss: 0.6842 - val_accuracy: 0.8659\n",
      "Epoch 16/20\n",
      "59/59 [==============================] - 1s 17ms/step - loss: 0.0068 - accuracy: 0.9986 - val_loss: 0.7273 - val_accuracy: 0.8671\n",
      "Epoch 17/20\n",
      "59/59 [==============================] - 1s 16ms/step - loss: 0.0048 - accuracy: 0.9993 - val_loss: 0.7529 - val_accuracy: 0.8646\n",
      "Epoch 18/20\n",
      "59/59 [==============================] - 1s 19ms/step - loss: 0.0042 - accuracy: 0.9994 - val_loss: 0.7895 - val_accuracy: 0.8660\n",
      "Epoch 19/20\n",
      "59/59 [==============================] - 1s 24ms/step - loss: 0.0037 - accuracy: 0.9995 - val_loss: 0.8253 - val_accuracy: 0.8659\n",
      "Epoch 20/20\n",
      "59/59 [==============================] - 1s 20ms/step - loss: 0.0059 - accuracy: 0.9982 - val_loss: 0.8581 - val_accuracy: 0.8645\n"
     ]
    }
   ],
   "source": [
    "history = model.fit(partial_x_train,partial_y_train,epochs=20,batch_size=256,\n",
    "validation_data=(x_val, y_val))"
   ]
  },
  {
   "cell_type": "code",
   "execution_count": null,
   "metadata": {},
   "outputs": [
    {
     "data": {
      "text/plain": [
       "dict_keys(['loss', 'accuracy', 'val_loss', 'val_accuracy'])"
      ]
     },
     "execution_count": 27,
     "metadata": {},
     "output_type": "execute_result"
    }
   ],
   "source": [
    "history.history.keys()"
   ]
  },
  {
   "cell_type": "code",
   "execution_count": null,
   "metadata": {},
   "outputs": [
    {
     "data": {
      "image/png": "[encoded data removed]",
      "text/plain": [
       "<Figure size 640x480 with 1 Axes>"
      ]
     },
     "metadata": {},
     "output_type": "display_data"
    }
   ],
   "source": [
    "import matplotlib.pyplot as plt\n",
    "history_dict = history.history\n",
    "loss_values = history_dict['loss']\n",
    "val_loss_values = history_dict['val_loss']\n",
    "epochs = range(1, 21)\n",
    "\n",
    "plt.plot(epochs, loss_values, 'bo', label='Training loss')\n",
    "plt.plot(epochs, val_loss_values, 'b', label='Validation loss')\n",
    "\n",
    "plt.title('Training and Validation Loss')\n",
    "plt.xlabel('Epochs')\n",
    "plt.ylabel('Loss')\n",
    "plt.legend()\n",
    "plt.show()"
   ]
  },
  {
   "cell_type": "code",
   "execution_count": null,
   "metadata": {},
   "outputs": [
    {
     "data": {
      "image/png": "[encoded data removed]",
      "text/plain": [
       "<Figure size 640x480 with 1 Axes>"
      ]
     },
     "metadata": {},
     "output_type": "display_data"
    }
   ],
   "source": [
    "plt.clf()\n",
    "acc_values = history_dict['accuracy']\n",
    "val_acc_values = history_dict['val_accuracy']\n",
    "plt.plot(epochs, acc_values, 'bo', label='Training acc')\n",
    "plt.plot(epochs, val_acc_values, 'b', label='Validation acc')\n",
    "plt.title('Training and validation accuracy')\n",
    "plt.xlabel('Epochs')\n",
    "plt.ylabel('Loss')\n",
    "plt.legend()\n",
    "plt.show()"
   ]
  },
  {
   "cell_type": "code",
   "execution_count": null,
   "metadata": {},
   "outputs": [
    {
     "data": {
      "text/html": [
       "<div>\n",
       "<style scoped>\n",
       "    .dataframe tbody tr th:only-of-type {\n",
       "        vertical-align: middle;\n",
       "    }\n",
       "\n",
       "    .dataframe tbody tr th {\n",
       "        vertical-align: top;\n",
       "    }\n",
       "\n",
       "    .dataframe thead th {\n",
       "        text-align: right;\n",
       "    }\n",
       "</style>\n",
       "<table border=\"1\" class=\"dataframe\">\n",
       "  <thead>\n",
       "    <tr style=\"text-align: right;\">\n",
       "      <th></th>\n",
       "      <th>loss</th>\n",
       "      <th>accuracy</th>\n",
       "      <th>val_loss</th>\n",
       "      <th>val_accuracy</th>\n",
       "    </tr>\n",
       "  </thead>\n",
       "  <tbody>\n",
       "    <tr>\n",
       "      <th>0</th>\n",
       "      <td>0.456645</td>\n",
       "      <td>0.816533</td>\n",
       "      <td>0.324618</td>\n",
       "      <td>0.8821</td>\n",
       "    </tr>\n",
       "    <tr>\n",
       "      <th>1</th>\n",
       "      <td>0.251515</td>\n",
       "      <td>0.911200</td>\n",
       "      <td>0.284674</td>\n",
       "      <td>0.8858</td>\n",
       "    </tr>\n",
       "    <tr>\n",
       "      <th>2</th>\n",
       "      <td>0.184441</td>\n",
       "      <td>0.934867</td>\n",
       "      <td>0.275746</td>\n",
       "      <td>0.8870</td>\n",
       "    </tr>\n",
       "    <tr>\n",
       "      <th>3</th>\n",
       "      <td>0.143832</td>\n",
       "      <td>0.951933</td>\n",
       "      <td>0.291162</td>\n",
       "      <td>0.8867</td>\n",
       "    </tr>\n",
       "    <tr>\n",
       "      <th>4</th>\n",
       "      <td>0.115335</td>\n",
       "      <td>0.962333</td>\n",
       "      <td>0.332116</td>\n",
       "      <td>0.8791</td>\n",
       "    </tr>\n",
       "    <tr>\n",
       "      <th>5</th>\n",
       "      <td>0.093512</td>\n",
       "      <td>0.970467</td>\n",
       "      <td>0.336160</td>\n",
       "      <td>0.8811</td>\n",
       "    </tr>\n",
       "    <tr>\n",
       "      <th>6</th>\n",
       "      <td>0.073728</td>\n",
       "      <td>0.978067</td>\n",
       "      <td>0.397661</td>\n",
       "      <td>0.8755</td>\n",
       "    </tr>\n",
       "    <tr>\n",
       "      <th>7</th>\n",
       "      <td>0.059144</td>\n",
       "      <td>0.982667</td>\n",
       "      <td>0.423538</td>\n",
       "      <td>0.8744</td>\n",
       "    </tr>\n",
       "    <tr>\n",
       "      <th>8</th>\n",
       "      <td>0.046779</td>\n",
       "      <td>0.987133</td>\n",
       "      <td>0.436928</td>\n",
       "      <td>0.8731</td>\n",
       "    </tr>\n",
       "    <tr>\n",
       "      <th>9</th>\n",
       "      <td>0.034898</td>\n",
       "      <td>0.992533</td>\n",
       "      <td>0.471610</td>\n",
       "      <td>0.8736</td>\n",
       "    </tr>\n",
       "    <tr>\n",
       "      <th>10</th>\n",
       "      <td>0.027979</td>\n",
       "      <td>0.993600</td>\n",
       "      <td>0.518699</td>\n",
       "      <td>0.8709</td>\n",
       "    </tr>\n",
       "    <tr>\n",
       "      <th>11</th>\n",
       "      <td>0.021585</td>\n",
       "      <td>0.995733</td>\n",
       "      <td>0.560579</td>\n",
       "      <td>0.8691</td>\n",
       "    </tr>\n",
       "    <tr>\n",
       "      <th>12</th>\n",
       "      <td>0.014871</td>\n",
       "      <td>0.997467</td>\n",
       "      <td>0.596428</td>\n",
       "      <td>0.8677</td>\n",
       "    </tr>\n",
       "    <tr>\n",
       "      <th>13</th>\n",
       "      <td>0.012075</td>\n",
       "      <td>0.998133</td>\n",
       "      <td>0.664669</td>\n",
       "      <td>0.8661</td>\n",
       "    </tr>\n",
       "    <tr>\n",
       "      <th>14</th>\n",
       "      <td>0.009020</td>\n",
       "      <td>0.998600</td>\n",
       "      <td>0.684169</td>\n",
       "      <td>0.8659</td>\n",
       "    </tr>\n",
       "    <tr>\n",
       "      <th>15</th>\n",
       "      <td>0.006847</td>\n",
       "      <td>0.998600</td>\n",
       "      <td>0.727336</td>\n",
       "      <td>0.8671</td>\n",
       "    </tr>\n",
       "    <tr>\n",
       "      <th>16</th>\n",
       "      <td>0.004840</td>\n",
       "      <td>0.999333</td>\n",
       "      <td>0.752904</td>\n",
       "      <td>0.8646</td>\n",
       "    </tr>\n",
       "    <tr>\n",
       "      <th>17</th>\n",
       "      <td>0.004221</td>\n",
       "      <td>0.999400</td>\n",
       "      <td>0.789514</td>\n",
       "      <td>0.8660</td>\n",
       "    </tr>\n",
       "    <tr>\n",
       "      <th>18</th>\n",
       "      <td>0.003742</td>\n",
       "      <td>0.999533</td>\n",
       "      <td>0.825297</td>\n",
       "      <td>0.8659</td>\n",
       "    </tr>\n",
       "    <tr>\n",
       "      <th>19</th>\n",
       "      <td>0.005908</td>\n",
       "      <td>0.998200</td>\n",
       "      <td>0.858071</td>\n",
       "      <td>0.8645</td>\n",
       "    </tr>\n",
       "  </tbody>\n",
       "</table>\n",
       "</div>"
      ],
      "text/plain": [
       "        loss  accuracy  val_loss  val_accuracy\n",
       "0   0.456645  0.816533  0.324618        0.8821\n",
       "1   0.251515  0.911200  0.284674        0.8858\n",
       "2   0.184441  0.934867  0.275746        0.8870\n",
       "3   0.143832  0.951933  0.291162        0.8867\n",
       "4   0.115335  0.962333  0.332116        0.8791\n",
       "5   0.093512  0.970467  0.336160        0.8811\n",
       "6   0.073728  0.978067  0.397661        0.8755\n",
       "7   0.059144  0.982667  0.423538        0.8744\n",
       "8   0.046779  0.987133  0.436928        0.8731\n",
       "9   0.034898  0.992533  0.471610        0.8736\n",
       "10  0.027979  0.993600  0.518699        0.8709\n",
       "11  0.021585  0.995733  0.560579        0.8691\n",
       "12  0.014871  0.997467  0.596428        0.8677\n",
       "13  0.012075  0.998133  0.664669        0.8661\n",
       "14  0.009020  0.998600  0.684169        0.8659\n",
       "15  0.006847  0.998600  0.727336        0.8671\n",
       "16  0.004840  0.999333  0.752904        0.8646\n",
       "17  0.004221  0.999400  0.789514        0.8660\n",
       "18  0.003742  0.999533  0.825297        0.8659\n",
       "19  0.005908  0.998200  0.858071        0.8645"
      ]
     },
     "execution_count": 32,
     "metadata": {},
     "output_type": "execute_result"
    }
   ],
   "source": [
    "import pandas as pd\n",
    "pd.DataFrame(history.history)"
   ]
  },
  {
   "cell_type": "code",
   "execution_count": null,
   "metadata": {},
   "outputs": [
    {
     "data": {
      "text/html": [
       "<div>\n",
       "<style scoped>\n",
       "    .dataframe tbody tr th:only-of-type {\n",
       "        vertical-align: middle;\n",
       "    }\n",
       "\n",
       "    .dataframe tbody tr th {\n",
       "        vertical-align: top;\n",
       "    }\n",
       "\n",
       "    .dataframe thead th {\n",
       "        text-align: right;\n",
       "    }\n",
       "</style>\n",
       "<table border=\"1\" class=\"dataframe\">\n",
       "  <thead>\n",
       "    <tr style=\"text-align: right;\">\n",
       "      <th></th>\n",
       "      <th>loss</th>\n",
       "      <th>accuracy</th>\n",
       "      <th>val_loss</th>\n",
       "      <th>val_accuracy</th>\n",
       "    </tr>\n",
       "  </thead>\n",
       "  <tbody>\n",
       "    <tr>\n",
       "      <th>0</th>\n",
       "      <td>0.456645</td>\n",
       "      <td>0.816533</td>\n",
       "      <td>0.324618</td>\n",
       "      <td>0.8821</td>\n",
       "    </tr>\n",
       "    <tr>\n",
       "      <th>1</th>\n",
       "      <td>0.251515</td>\n",
       "      <td>0.911200</td>\n",
       "      <td>0.284674</td>\n",
       "      <td>0.8858</td>\n",
       "    </tr>\n",
       "    <tr>\n",
       "      <th>2</th>\n",
       "      <td>0.184441</td>\n",
       "      <td>0.934867</td>\n",
       "      <td>0.275746</td>\n",
       "      <td>0.8870</td>\n",
       "    </tr>\n",
       "    <tr>\n",
       "      <th>3</th>\n",
       "      <td>0.143832</td>\n",
       "      <td>0.951933</td>\n",
       "      <td>0.291162</td>\n",
       "      <td>0.8867</td>\n",
       "    </tr>\n",
       "    <tr>\n",
       "      <th>4</th>\n",
       "      <td>0.115335</td>\n",
       "      <td>0.962333</td>\n",
       "      <td>0.332116</td>\n",
       "      <td>0.8791</td>\n",
       "    </tr>\n",
       "    <tr>\n",
       "      <th>5</th>\n",
       "      <td>0.093512</td>\n",
       "      <td>0.970467</td>\n",
       "      <td>0.336160</td>\n",
       "      <td>0.8811</td>\n",
       "    </tr>\n",
       "    <tr>\n",
       "      <th>6</th>\n",
       "      <td>0.073728</td>\n",
       "      <td>0.978067</td>\n",
       "      <td>0.397661</td>\n",
       "      <td>0.8755</td>\n",
       "    </tr>\n",
       "    <tr>\n",
       "      <th>7</th>\n",
       "      <td>0.059144</td>\n",
       "      <td>0.982667</td>\n",
       "      <td>0.423538</td>\n",
       "      <td>0.8744</td>\n",
       "    </tr>\n",
       "    <tr>\n",
       "      <th>8</th>\n",
       "      <td>0.046779</td>\n",
       "      <td>0.987133</td>\n",
       "      <td>0.436928</td>\n",
       "      <td>0.8731</td>\n",
       "    </tr>\n",
       "    <tr>\n",
       "      <th>9</th>\n",
       "      <td>0.034898</td>\n",
       "      <td>0.992533</td>\n",
       "      <td>0.471610</td>\n",
       "      <td>0.8736</td>\n",
       "    </tr>\n",
       "    <tr>\n",
       "      <th>10</th>\n",
       "      <td>0.027979</td>\n",
       "      <td>0.993600</td>\n",
       "      <td>0.518699</td>\n",
       "      <td>0.8709</td>\n",
       "    </tr>\n",
       "    <tr>\n",
       "      <th>11</th>\n",
       "      <td>0.021585</td>\n",
       "      <td>0.995733</td>\n",
       "      <td>0.560579</td>\n",
       "      <td>0.8691</td>\n",
       "    </tr>\n",
       "    <tr>\n",
       "      <th>12</th>\n",
       "      <td>0.014871</td>\n",
       "      <td>0.997467</td>\n",
       "      <td>0.596428</td>\n",
       "      <td>0.8677</td>\n",
       "    </tr>\n",
       "    <tr>\n",
       "      <th>13</th>\n",
       "      <td>0.012075</td>\n",
       "      <td>0.998133</td>\n",
       "      <td>0.664669</td>\n",
       "      <td>0.8661</td>\n",
       "    </tr>\n",
       "    <tr>\n",
       "      <th>14</th>\n",
       "      <td>0.009020</td>\n",
       "      <td>0.998600</td>\n",
       "      <td>0.684169</td>\n",
       "      <td>0.8659</td>\n",
       "    </tr>\n",
       "    <tr>\n",
       "      <th>15</th>\n",
       "      <td>0.006847</td>\n",
       "      <td>0.998600</td>\n",
       "      <td>0.727336</td>\n",
       "      <td>0.8671</td>\n",
       "    </tr>\n",
       "    <tr>\n",
       "      <th>16</th>\n",
       "      <td>0.004840</td>\n",
       "      <td>0.999333</td>\n",
       "      <td>0.752904</td>\n",
       "      <td>0.8646</td>\n",
       "    </tr>\n",
       "    <tr>\n",
       "      <th>17</th>\n",
       "      <td>0.004221</td>\n",
       "      <td>0.999400</td>\n",
       "      <td>0.789514</td>\n",
       "      <td>0.8660</td>\n",
       "    </tr>\n",
       "    <tr>\n",
       "      <th>18</th>\n",
       "      <td>0.003742</td>\n",
       "      <td>0.999533</td>\n",
       "      <td>0.825297</td>\n",
       "      <td>0.8659</td>\n",
       "    </tr>\n",
       "    <tr>\n",
       "      <th>19</th>\n",
       "      <td>0.005908</td>\n",
       "      <td>0.998200</td>\n",
       "      <td>0.858071</td>\n",
       "      <td>0.8645</td>\n",
       "    </tr>\n",
       "  </tbody>\n",
       "</table>\n",
       "</div>"
      ],
      "text/plain": [
       "        loss  accuracy  val_loss  val_accuracy\n",
       "0   0.456645  0.816533  0.324618        0.8821\n",
       "1   0.251515  0.911200  0.284674        0.8858\n",
       "2   0.184441  0.934867  0.275746        0.8870\n",
       "3   0.143832  0.951933  0.291162        0.8867\n",
       "4   0.115335  0.962333  0.332116        0.8791\n",
       "5   0.093512  0.970467  0.336160        0.8811\n",
       "6   0.073728  0.978067  0.397661        0.8755\n",
       "7   0.059144  0.982667  0.423538        0.8744\n",
       "8   0.046779  0.987133  0.436928        0.8731\n",
       "9   0.034898  0.992533  0.471610        0.8736\n",
       "10  0.027979  0.993600  0.518699        0.8709\n",
       "11  0.021585  0.995733  0.560579        0.8691\n",
       "12  0.014871  0.997467  0.596428        0.8677\n",
       "13  0.012075  0.998133  0.664669        0.8661\n",
       "14  0.009020  0.998600  0.684169        0.8659\n",
       "15  0.006847  0.998600  0.727336        0.8671\n",
       "16  0.004840  0.999333  0.752904        0.8646\n",
       "17  0.004221  0.999400  0.789514        0.8660\n",
       "18  0.003742  0.999533  0.825297        0.8659\n",
       "19  0.005908  0.998200  0.858071        0.8645"
      ]
     },
     "execution_count": 33,
     "metadata": {},
     "output_type": "execute_result"
    }
   ],
   "source": [
    "import pandas as pd\n",
    "pd.DataFrame(history.history)"
   ]
  },
  {
   "cell_type": "code",
   "execution_count": 61,
   "metadata": {},
   "outputs": [
    {
     "name": "stdout",
     "output_type": "stream",
     "text": [
      "Epoch 1/4\n",
      "49/49 [==============================] - 3s 22ms/step - loss: 0.4589 - accuracy: 0.8145\n",
      "Epoch 2/4\n",
      "49/49 [==============================] - 1s 22ms/step - loss: 0.2727 - accuracy: 0.9027\n",
      "Epoch 3/4\n",
      "49/49 [==============================] - 1s 22ms/step - loss: 0.2151 - accuracy: 0.9204\n",
      "Epoch 4/4\n",
      "49/49 [==============================] - 1s 22ms/step - loss: 0.1797 - accuracy: 0.9347\n",
      "782/782 [==============================] - 3s 3ms/step - loss: 0.2879 - accuracy: 0.8860\n"
     ]
    }
   ],
   "source": [
    "model = models.Sequential()\n",
    "model.add(layers.Dense(16, activation='relu', input_shape=(10000,)))\n",
    "model.add(layers.Dense(16, activation='relu'))\n",
    "model.add(layers.Dense(1, activation='sigmoid'))\n",
    "model.compile(optimizer='rmsprop',\n",
    "loss='binary_crossentropy',\n",
    "metrics=['accuracy'])\n",
    "model.fit(x_train, y_train, epochs=4, batch_size=512)\n",
    "\n",
    "\n",
    "results = model.evaluate(x_test, y_test)"
   ]
  },
  {
   "cell_type": "code",
   "execution_count": 63,
   "metadata": {},
   "outputs": [
    {
     "data": {
      "text/plain": [
       "[0.2879006862640381, 0.8859999775886536]"
      ]
     },
     "execution_count": 63,
     "metadata": {},
     "output_type": "execute_result"
    }
   ],
   "source": [
    "results"
   ]
  },
  {
   "cell_type": "code",
   "execution_count": 64,
   "metadata": {},
   "outputs": [
    {
     "name": "stdout",
     "output_type": "stream",
     "text": [
      "782/782 [==============================] - 5s 3ms/step\n"
     ]
    },
    {
     "data": {
      "text/plain": [
       "array([[0.1830676 ],\n",
       "       [0.99957436],\n",
       "       [0.69707924],\n",
       "       ...,\n",
       "       [0.08395195],\n",
       "       [0.06216871],\n",
       "       [0.5381787 ]], dtype=float32)"
      ]
     },
     "execution_count": 64,
     "metadata": {},
     "output_type": "execute_result"
    }
   ],
   "source": [
    "model.predict(x_test)"
   ]
  },
  {
   "cell_type": "code",
   "execution_count": 65,
   "metadata": {},
   "outputs": [
    {
     "data": {
      "text/plain": [
       "array([0., 1., 1., ..., 0., 0., 0.])"
      ]
     },
     "execution_count": 65,
     "metadata": {},
     "output_type": "execute_result"
    }
   ],
   "source": [
    "x_test[0]"
   ]
  }
 ],
 "metadata": {
  "kernelspec": {
   "display_name": "Python 3",
   "language": "python",
   "name": "python3"
  },
  "language_info": {
   "codemirror_mode": {
    "name": "ipython",
    "version": 3
   },
   "file_extension": ".py",
   "mimetype": "text/x-python",
   "name": "python",
   "nbconvert_exporter": "python",
   "pygments_lexer": "ipython3",
   "version": "3.11.1"
  },
  "orig_nbformat": 4
 },
 "nbformat": 4,
 "nbformat_minor": 2
}
