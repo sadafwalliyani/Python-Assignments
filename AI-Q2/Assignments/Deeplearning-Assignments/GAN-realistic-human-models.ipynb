{
 "cells": [
  {
   "cell_type": "code",
   "execution_count": 1,
   "metadata": {},
   "outputs": [],
   "source": [
    "import tensorflow as tf\n",
    "from tensorflow import keras"
   ]
  },
  {
   "cell_type": "code",
   "execution_count": 3,
   "metadata": {},
   "outputs": [],
   "source": [
    "# Generator model\n",
    "def build_generator():\n",
    "    # Define your generator model architecture using Keras layers\n",
    "    generator = keras.Sequential()\n",
    "    # Add layers...\n",
    "\n",
    "    return generator\n",
    "\n",
    "# Discriminator model\n",
    "def build_discriminator():\n",
    "    # Define your discriminator model architecture using Keras layers\n",
    "    discriminator = keras.Sequential()\n",
    "    # Add layers...\n",
    "\n",
    "    return discriminator\n",
    "\n",
    "generator = build_generator()\n",
    "discriminator = build_discriminator()\n"
   ]
  },
  {
   "cell_type": "code",
   "execution_count": 29,
   "metadata": {},
   "outputs": [],
   "source": [
    "loss_function = keras.losses.BinaryCrossentropy(from_logits=True)\n",
    "\n",
    "generator_optimizer = keras.optimizers.Adam(learning_rate=0.0002, beta_1=0.5)\n",
    "discriminator_optimizer = keras.optimizers.Adam(learning_rate=0.0002, beta_1=0.5)\n"
   ]
  },
  {
   "cell_type": "code",
   "execution_count": 30,
   "metadata": {},
   "outputs": [],
   "source": [
    "from tensorflow.keras.preprocessing import image"
   ]
  }
 ],
 "metadata": {
  "kernelspec": {
   "display_name": "Python 3",
   "language": "python",
   "name": "python3"
  },
  "language_info": {
   "codemirror_mode": {
    "name": "ipython",
    "version": 3
   },
   "file_extension": ".py",
   "mimetype": "text/x-python",
   "name": "python",
   "nbconvert_exporter": "python",
   "pygments_lexer": "ipython3",
   "version": "3.11.1"
  },
  "orig_nbformat": 4
 },
 "nbformat": 4,
 "nbformat_minor": 2
}
