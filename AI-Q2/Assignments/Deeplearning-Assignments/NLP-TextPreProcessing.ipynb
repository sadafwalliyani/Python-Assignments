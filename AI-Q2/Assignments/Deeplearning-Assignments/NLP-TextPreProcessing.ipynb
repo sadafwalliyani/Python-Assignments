{
 "cells": [
  {
   "attachments": {},
   "cell_type": "markdown",
   "metadata": {},
   "source": [
    "Our text to be vectorized"
   ]
  },
  {
   "cell_type": "code",
   "execution_count": 1,
   "metadata": {},
   "outputs": [],
   "source": [
    "paragraph = \"\"\"Khan was born in Lahore on 5 October 1952.\n",
    "Some reports suggest he was born on 25 November 1952.\n",
    "It was reported that 25 November was wrongly mentioned by Pakistan Cricket Board officials on his passport. \n",
    "He is the only son of Ikramullah Khan Niazi, a civil engineer, and his wife Shaukat Khanum, and has four sisters.\n",
    "Long settled in Mianwali in northwestern Punjab, his paternal family are of Pashtun ethnicity and belong to the \n",
    "Niazi tribe,and one of his ancestors, Haibat Khan Niazi, in the 16th century, \"was one of Sher Shah Suri's leading generals, \n",
    "as well as being the governor of Punjab. Like his father, Khan's mother was an ethnic Pashtun, who belonged \n",
    "to the Burki tribe and whose ancestors had been settled in the Jalandhar district of Punjab for centuries. \n",
    "Following the creation of Pakistan, she migrated to Lahore with the rest of Khan's maternal relatives. \n",
    "Khan's maternal family has produced a number of cricketers, including those who have represented Pakistan,\n",
    "such as his cousins Javed Burki and Majid Khan. Maternally, Khan is also a descendant of the Sufi warrior-poet \n",
    "and inventor of the Pashto alphabet,Pir Roshan, who hailed from his maternal family's ancestral Kaniguram town \n",
    "located in South Waziristan in the tribal areas of northwest Pakistan. His maternal family was based in Basti Danishmanda,\n",
    "Jalandhar, India for about 600 years. A quiet and shy boy in his youth, Khan grew up with his sisters in relatively\n",
    "affluent, upper middle-class circumstances and received a privileged education. He was educated at the Aitchison College\n",
    "and Cathedral School in Lahore,and then the Royal Grammar School Worcester in England, where he excelled at cricket.\n",
    "In 1972, he enrolled in Keble College, Oxford where he studied Philosophy, Politics and Economics, graduating in 1975.\n",
    "An enthusiast for college cricket at Keble, Paul Hayes, was instrumental in securing the admission of Khan,after he had\n",
    "been turned down by Cambridge.\"\"\"\n"
   ]
  },
  {
   "cell_type": "code",
   "execution_count": 2,
   "metadata": {},
   "outputs": [],
   "source": [
    "import nltk"
   ]
  },
  {
   "cell_type": "code",
   "execution_count": 11,
   "metadata": {},
   "outputs": [
    {
     "name": "stderr",
     "output_type": "stream",
     "text": [
      "[nltk_data] Downloading package punkt to\n",
      "[nltk_data]     C:\\Users\\Sadaf\\AppData\\Roaming\\nltk_data...\n",
      "[nltk_data]   Unzipping tokenizers\\punkt.zip.\n"
     ]
    },
    {
     "data": {
      "text/plain": [
       "True"
      ]
     },
     "execution_count": 11,
     "metadata": {},
     "output_type": "execute_result"
    }
   ],
   "source": [
    "import nltk\n",
    "nltk.download('punkt')"
   ]
  },
  {
   "attachments": {},
   "cell_type": "markdown",
   "metadata": {},
   "source": [
    "Breaking paragraph at sentence level"
   ]
  },
  {
   "cell_type": "code",
   "execution_count": 12,
   "metadata": {},
   "outputs": [
    {
     "name": "stdout",
     "output_type": "stream",
     "text": [
      "14\n",
      "Khan was born in Lahore on 5 October 1952.\n",
      "\n",
      "Some reports suggest he was born on 25 November 1952.\n",
      "\n",
      "It was reported that 25 November was wrongly mentioned by Pakistan Cricket Board officials on his passport.\n",
      "\n",
      "He is the only son of Ikramullah Khan Niazi, a civil engineer, and his wife Shaukat Khanum, and has four sisters.\n",
      "\n",
      "Long settled in Mianwali in northwestern Punjab, his paternal family are of Pashtun ethnicity and belong to the \n",
      "Niazi tribe,and one of his ancestors, Haibat Khan Niazi, in the 16th century, \"was one of Sher Shah Suri's leading generals, \n",
      "as well as being the governor of Punjab.\n",
      "\n",
      "Like his father, Khan's mother was an ethnic Pashtun, who belonged \n",
      "to the Burki tribe and whose ancestors had been settled in the Jalandhar district of Punjab for centuries.\n",
      "\n",
      "Following the creation of Pakistan, she migrated to Lahore with the rest of Khan's maternal relatives.\n",
      "\n",
      "Khan's maternal family has produced a number of cricketers, including those who have represented Pakistan,\n",
      "such as his cousins Javed Burki and Majid Khan.\n",
      "\n",
      "Maternally, Khan is also a descendant of the Sufi warrior-poet \n",
      "and inventor of the Pashto alphabet,Pir Roshan, who hailed from his maternal family's ancestral Kaniguram town \n",
      "located in South Waziristan in the tribal areas of northwest Pakistan.\n",
      "\n",
      "His maternal family was based in Basti Danishmanda,\n",
      "Jalandhar, India for about 600 years.\n",
      "\n",
      "A quiet and shy boy in his youth, Khan grew up with his sisters in relatively\n",
      "affluent, upper middle-class circumstances and received a privileged education.\n",
      "\n",
      "He was educated at the Aitchison College\n",
      "and Cathedral School in Lahore,and then the Royal Grammar School Worcester in England, where he excelled at cricket.\n",
      "\n",
      "In 1972, he enrolled in Keble College, Oxford where he studied Philosophy, Politics and Economics, graduating in 1975.\n",
      "\n",
      "An enthusiast for college cricket at Keble, Paul Hayes, was instrumental in securing the admission of Khan,after he had\n",
      "been turned down by Cambridge.\n",
      "\n"
     ]
    }
   ],
   "source": [
    "sentences = nltk.sent_tokenize(paragraph)\n",
    "# print each sentence seaprately \n",
    "print(len(sentences))\n",
    "for sent in sentences:\n",
    "    print(sent)\n",
    "    print()"
   ]
  },
  {
   "cell_type": "code",
   "execution_count": null,
   "metadata": {},
   "outputs": [],
   "source": []
  },
  {
   "attachments": {},
   "cell_type": "markdown",
   "metadata": {},
   "source": [
    "Using regular expression for dropping all text except capital and small characters and numbersfrom 0 to 9\n"
   ]
  },
  {
   "cell_type": "code",
   "execution_count": 15,
   "metadata": {},
   "outputs": [
    {
     "name": "stdout",
     "output_type": "stream",
     "text": [
      "['khan was born in lahore on 5 october 1952 ']\n",
      "['khan was born in lahore on 5 october 1952 ', 'some reports suggest he was born on 25 november 1952 ']\n",
      "['khan was born in lahore on 5 october 1952 ', 'some reports suggest he was born on 25 november 1952 ', 'it was reported that 25 november was wrongly mentioned by pakistan cricket board officials on his passport ']\n",
      "['khan was born in lahore on 5 october 1952 ', 'some reports suggest he was born on 25 november 1952 ', 'it was reported that 25 november was wrongly mentioned by pakistan cricket board officials on his passport ', 'he is the only son of ikramullah khan niazi  a civil engineer  and his wife shaukat khanum  and has four sisters ']\n",
      "['khan was born in lahore on 5 october 1952 ', 'some reports suggest he was born on 25 november 1952 ', 'it was reported that 25 november was wrongly mentioned by pakistan cricket board officials on his passport ', 'he is the only son of ikramullah khan niazi  a civil engineer  and his wife shaukat khanum  and has four sisters ', 'long settled in mianwali in northwestern punjab  his paternal family are of pashtun ethnicity and belong to the  niazi tribe and one of his ancestors  haibat khan niazi  in the 16th century   was one of sher shah suri s leading generals   as well as being the governor of punjab ']\n",
      "['khan was born in lahore on 5 october 1952 ', 'some reports suggest he was born on 25 november 1952 ', 'it was reported that 25 november was wrongly mentioned by pakistan cricket board officials on his passport ', 'he is the only son of ikramullah khan niazi  a civil engineer  and his wife shaukat khanum  and has four sisters ', 'long settled in mianwali in northwestern punjab  his paternal family are of pashtun ethnicity and belong to the  niazi tribe and one of his ancestors  haibat khan niazi  in the 16th century   was one of sher shah suri s leading generals   as well as being the governor of punjab ', 'like his father  khan s mother was an ethnic pashtun  who belonged  to the burki tribe and whose ancestors had been settled in the jalandhar district of punjab for centuries ']\n",
      "['khan was born in lahore on 5 october 1952 ', 'some reports suggest he was born on 25 november 1952 ', 'it was reported that 25 november was wrongly mentioned by pakistan cricket board officials on his passport ', 'he is the only son of ikramullah khan niazi  a civil engineer  and his wife shaukat khanum  and has four sisters ', 'long settled in mianwali in northwestern punjab  his paternal family are of pashtun ethnicity and belong to the  niazi tribe and one of his ancestors  haibat khan niazi  in the 16th century   was one of sher shah suri s leading generals   as well as being the governor of punjab ', 'like his father  khan s mother was an ethnic pashtun  who belonged  to the burki tribe and whose ancestors had been settled in the jalandhar district of punjab for centuries ', 'following the creation of pakistan  she migrated to lahore with the rest of khan s maternal relatives ']\n",
      "['khan was born in lahore on 5 october 1952 ', 'some reports suggest he was born on 25 november 1952 ', 'it was reported that 25 november was wrongly mentioned by pakistan cricket board officials on his passport ', 'he is the only son of ikramullah khan niazi  a civil engineer  and his wife shaukat khanum  and has four sisters ', 'long settled in mianwali in northwestern punjab  his paternal family are of pashtun ethnicity and belong to the  niazi tribe and one of his ancestors  haibat khan niazi  in the 16th century   was one of sher shah suri s leading generals   as well as being the governor of punjab ', 'like his father  khan s mother was an ethnic pashtun  who belonged  to the burki tribe and whose ancestors had been settled in the jalandhar district of punjab for centuries ', 'following the creation of pakistan  she migrated to lahore with the rest of khan s maternal relatives ', 'khan s maternal family has produced a number of cricketers  including those who have represented pakistan  such as his cousins javed burki and majid khan ']\n",
      "['khan was born in lahore on 5 october 1952 ', 'some reports suggest he was born on 25 november 1952 ', 'it was reported that 25 november was wrongly mentioned by pakistan cricket board officials on his passport ', 'he is the only son of ikramullah khan niazi  a civil engineer  and his wife shaukat khanum  and has four sisters ', 'long settled in mianwali in northwestern punjab  his paternal family are of pashtun ethnicity and belong to the  niazi tribe and one of his ancestors  haibat khan niazi  in the 16th century   was one of sher shah suri s leading generals   as well as being the governor of punjab ', 'like his father  khan s mother was an ethnic pashtun  who belonged  to the burki tribe and whose ancestors had been settled in the jalandhar district of punjab for centuries ', 'following the creation of pakistan  she migrated to lahore with the rest of khan s maternal relatives ', 'khan s maternal family has produced a number of cricketers  including those who have represented pakistan  such as his cousins javed burki and majid khan ', 'maternally  khan is also a descendant of the sufi warrior poet  and inventor of the pashto alphabet pir roshan  who hailed from his maternal family s ancestral kaniguram town  located in south waziristan in the tribal areas of northwest pakistan ']\n",
      "['khan was born in lahore on 5 october 1952 ', 'some reports suggest he was born on 25 november 1952 ', 'it was reported that 25 november was wrongly mentioned by pakistan cricket board officials on his passport ', 'he is the only son of ikramullah khan niazi  a civil engineer  and his wife shaukat khanum  and has four sisters ', 'long settled in mianwali in northwestern punjab  his paternal family are of pashtun ethnicity and belong to the  niazi tribe and one of his ancestors  haibat khan niazi  in the 16th century   was one of sher shah suri s leading generals   as well as being the governor of punjab ', 'like his father  khan s mother was an ethnic pashtun  who belonged  to the burki tribe and whose ancestors had been settled in the jalandhar district of punjab for centuries ', 'following the creation of pakistan  she migrated to lahore with the rest of khan s maternal relatives ', 'khan s maternal family has produced a number of cricketers  including those who have represented pakistan  such as his cousins javed burki and majid khan ', 'maternally  khan is also a descendant of the sufi warrior poet  and inventor of the pashto alphabet pir roshan  who hailed from his maternal family s ancestral kaniguram town  located in south waziristan in the tribal areas of northwest pakistan ', 'his maternal family was based in basti danishmanda  jalandhar  india for about 600 years ']\n",
      "['khan was born in lahore on 5 october 1952 ', 'some reports suggest he was born on 25 november 1952 ', 'it was reported that 25 november was wrongly mentioned by pakistan cricket board officials on his passport ', 'he is the only son of ikramullah khan niazi  a civil engineer  and his wife shaukat khanum  and has four sisters ', 'long settled in mianwali in northwestern punjab  his paternal family are of pashtun ethnicity and belong to the  niazi tribe and one of his ancestors  haibat khan niazi  in the 16th century   was one of sher shah suri s leading generals   as well as being the governor of punjab ', 'like his father  khan s mother was an ethnic pashtun  who belonged  to the burki tribe and whose ancestors had been settled in the jalandhar district of punjab for centuries ', 'following the creation of pakistan  she migrated to lahore with the rest of khan s maternal relatives ', 'khan s maternal family has produced a number of cricketers  including those who have represented pakistan  such as his cousins javed burki and majid khan ', 'maternally  khan is also a descendant of the sufi warrior poet  and inventor of the pashto alphabet pir roshan  who hailed from his maternal family s ancestral kaniguram town  located in south waziristan in the tribal areas of northwest pakistan ', 'his maternal family was based in basti danishmanda  jalandhar  india for about 600 years ', 'a quiet and shy boy in his youth  khan grew up with his sisters in relatively affluent  upper middle class circumstances and received a privileged education ']\n",
      "['khan was born in lahore on 5 october 1952 ', 'some reports suggest he was born on 25 november 1952 ', 'it was reported that 25 november was wrongly mentioned by pakistan cricket board officials on his passport ', 'he is the only son of ikramullah khan niazi  a civil engineer  and his wife shaukat khanum  and has four sisters ', 'long settled in mianwali in northwestern punjab  his paternal family are of pashtun ethnicity and belong to the  niazi tribe and one of his ancestors  haibat khan niazi  in the 16th century   was one of sher shah suri s leading generals   as well as being the governor of punjab ', 'like his father  khan s mother was an ethnic pashtun  who belonged  to the burki tribe and whose ancestors had been settled in the jalandhar district of punjab for centuries ', 'following the creation of pakistan  she migrated to lahore with the rest of khan s maternal relatives ', 'khan s maternal family has produced a number of cricketers  including those who have represented pakistan  such as his cousins javed burki and majid khan ', 'maternally  khan is also a descendant of the sufi warrior poet  and inventor of the pashto alphabet pir roshan  who hailed from his maternal family s ancestral kaniguram town  located in south waziristan in the tribal areas of northwest pakistan ', 'his maternal family was based in basti danishmanda  jalandhar  india for about 600 years ', 'a quiet and shy boy in his youth  khan grew up with his sisters in relatively affluent  upper middle class circumstances and received a privileged education ', 'he was educated at the aitchison college and cathedral school in lahore and then the royal grammar school worcester in england  where he excelled at cricket ']\n",
      "['khan was born in lahore on 5 october 1952 ', 'some reports suggest he was born on 25 november 1952 ', 'it was reported that 25 november was wrongly mentioned by pakistan cricket board officials on his passport ', 'he is the only son of ikramullah khan niazi  a civil engineer  and his wife shaukat khanum  and has four sisters ', 'long settled in mianwali in northwestern punjab  his paternal family are of pashtun ethnicity and belong to the  niazi tribe and one of his ancestors  haibat khan niazi  in the 16th century   was one of sher shah suri s leading generals   as well as being the governor of punjab ', 'like his father  khan s mother was an ethnic pashtun  who belonged  to the burki tribe and whose ancestors had been settled in the jalandhar district of punjab for centuries ', 'following the creation of pakistan  she migrated to lahore with the rest of khan s maternal relatives ', 'khan s maternal family has produced a number of cricketers  including those who have represented pakistan  such as his cousins javed burki and majid khan ', 'maternally  khan is also a descendant of the sufi warrior poet  and inventor of the pashto alphabet pir roshan  who hailed from his maternal family s ancestral kaniguram town  located in south waziristan in the tribal areas of northwest pakistan ', 'his maternal family was based in basti danishmanda  jalandhar  india for about 600 years ', 'a quiet and shy boy in his youth  khan grew up with his sisters in relatively affluent  upper middle class circumstances and received a privileged education ', 'he was educated at the aitchison college and cathedral school in lahore and then the royal grammar school worcester in england  where he excelled at cricket ', 'in 1972  he enrolled in keble college  oxford where he studied philosophy  politics and economics  graduating in 1975 ']\n",
      "['khan was born in lahore on 5 october 1952 ', 'some reports suggest he was born on 25 november 1952 ', 'it was reported that 25 november was wrongly mentioned by pakistan cricket board officials on his passport ', 'he is the only son of ikramullah khan niazi  a civil engineer  and his wife shaukat khanum  and has four sisters ', 'long settled in mianwali in northwestern punjab  his paternal family are of pashtun ethnicity and belong to the  niazi tribe and one of his ancestors  haibat khan niazi  in the 16th century   was one of sher shah suri s leading generals   as well as being the governor of punjab ', 'like his father  khan s mother was an ethnic pashtun  who belonged  to the burki tribe and whose ancestors had been settled in the jalandhar district of punjab for centuries ', 'following the creation of pakistan  she migrated to lahore with the rest of khan s maternal relatives ', 'khan s maternal family has produced a number of cricketers  including those who have represented pakistan  such as his cousins javed burki and majid khan ', 'maternally  khan is also a descendant of the sufi warrior poet  and inventor of the pashto alphabet pir roshan  who hailed from his maternal family s ancestral kaniguram town  located in south waziristan in the tribal areas of northwest pakistan ', 'his maternal family was based in basti danishmanda  jalandhar  india for about 600 years ', 'a quiet and shy boy in his youth  khan grew up with his sisters in relatively affluent  upper middle class circumstances and received a privileged education ', 'he was educated at the aitchison college and cathedral school in lahore and then the royal grammar school worcester in england  where he excelled at cricket ', 'in 1972  he enrolled in keble college  oxford where he studied philosophy  politics and economics  graduating in 1975 ', 'an enthusiast for college cricket at keble  paul hayes  was instrumental in securing the admission of khan after he had been turned down by cambridge ']\n"
     ]
    }
   ],
   "source": [
    "import re\n",
    "corpus=[]\n",
    "for sent in sentences:\n",
    "    corpus.append(re.sub('[^a-zA-Z0-9]', \" \",sent).lower())\n",
    "    print(corpus)\n"
   ]
  },
  {
   "cell_type": "code",
   "execution_count": null,
   "metadata": {},
   "outputs": [],
   "source": []
  },
  {
   "cell_type": "code",
   "execution_count": null,
   "metadata": {},
   "outputs": [],
   "source": []
  }
 ],
 "metadata": {
  "kernelspec": {
   "display_name": "Python 3",
   "language": "python",
   "name": "python3"
  },
  "language_info": {
   "codemirror_mode": {
    "name": "ipython",
    "version": 3
   },
   "file_extension": ".py",
   "mimetype": "text/x-python",
   "name": "python",
   "nbconvert_exporter": "python",
   "pygments_lexer": "ipython3",
   "version": "3.11.1"
  },
  "orig_nbformat": 4
 },
 "nbformat": 4,
 "nbformat_minor": 2
}
