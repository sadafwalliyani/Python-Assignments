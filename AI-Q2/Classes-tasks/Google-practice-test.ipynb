{
 "cells": [
  {
   "cell_type": "code",
   "execution_count": 18,
   "id": "5519c177",
   "metadata": {},
   "outputs": [
    {
     "name": "stdout",
     "output_type": "stream",
     "text": [
      "[4, 5, 1, 2, 3]\n"
     ]
    }
   ],
   "source": [
    "# Define the initial array\n",
    "arr = [1, 2, 3, 4, 5]\n",
    "\n",
    "# Define the number of rotations\n",
    "num_rotations = 2\n",
    "\n",
    "# Rotate the array\n",
    "for i in range(num_rotations):\n",
    "    # Remove the last element from the array and insert it at the beginning\n",
    "    last_elem = arr.pop()\n",
    "    arr.insert(0, last_elem)\n",
    "\n",
    "# Print the rotated array\n",
    "print(arr)"
   ]
  },
  {
   "cell_type": "code",
   "execution_count": 6,
   "id": "be964ece",
   "metadata": {},
   "outputs": [
    {
     "ename": "SyntaxError",
     "evalue": "invalid syntax (2732575802.py, line 4)",
     "output_type": "error",
     "traceback": [
      "\u001b[1;36m  File \u001b[1;32m\"C:\\Users\\Sadaf\\AppData\\Local\\Temp\\ipykernel_2328\\2732575802.py\"\u001b[1;36m, line \u001b[1;32m4\u001b[0m\n\u001b[1;33m    while t=0:\u001b[0m\n\u001b[1;37m           ^\u001b[0m\n\u001b[1;31mSyntaxError\u001b[0m\u001b[1;31m:\u001b[0m invalid syntax\n"
     ]
    }
   ],
   "source": [
    "import numpy as np\n",
    "import pandas as pd\n",
    "t=int(raw_input())\n",
    "while t=0:\n",
    "    n,k=map(int,raw_input().split())\n",
    "    arr=map(int,raw_input().split())\n",
    "    index= n-(k%n)\n",
    "    for i in range (index, n):\n",
    "        print arr[i],\n",
    "    for i in range(index):\n",
    "        print arr[i],\n",
    "    print \"\"\n",
    "    t-=1"
   ]
  },
  {
   "cell_type": "code",
   "execution_count": null,
   "id": "52713735",
   "metadata": {},
   "outputs": [],
   "source": [
    "def count_inversions(matrix):\n",
    "    n = len(matrix)\n",
    "    inversions = 0\n",
    "    for i in range(n):\n",
    "        for j in range(n):\n",
    "            for p in range(i, n):\n",
    "                for q in range(j, n):\n",
    "                    if matrix[i][j] > matrix[p][q] and i < p and j < q:\n",
    "                        inversions += 1\n",
    "    return inversions\n",
    "if __name__ == \"__main__\":\n",
    "    t = int(input())\n",
    "    for _ in range(t):\n",
    "        n = int(input())\n",
    "        matrix = [list(map(int, input().split())) for _ in range(n)]\n",
    "        inversions = count_inversions(matrix)\n",
    "        print(inversions)"
   ]
  },
  {
   "cell_type": "code",
   "execution_count": null,
   "id": "f1e69077",
   "metadata": {},
   "outputs": [],
   "source": [
    "1< T<100 \n",
    "1< N<20\n",
    "1<M[i][j]<1000 "
   ]
  }
 ],
 "metadata": {
  "kernelspec": {
   "display_name": "Python 3 (ipykernel)",
   "language": "python",
   "name": "python3"
  },
  "language_info": {
   "codemirror_mode": {
    "name": "ipython",
    "version": 3
   },
   "file_extension": ".py",
   "mimetype": "text/x-python",
   "name": "python",
   "nbconvert_exporter": "python",
   "pygments_lexer": "ipython3",
   "version": "3.9.13"
  }
 },
 "nbformat": 4,
 "nbformat_minor": 5
}
