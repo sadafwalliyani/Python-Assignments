{
 "cells": [
  {
   "cell_type": "code",
   "execution_count": 18,
   "id": "5519c177",
   "metadata": {},
   "outputs": [
    {
     "name": "stdout",
     "output_type": "stream",
     "text": [
      "[4, 5, 1, 2, 3]\n"
     ]
    }
   ],
   "source": [
    "# Define the initial array\n",
    "arr = [1, 2, 3, 4, 5]\n",
    "\n",
    "# Define the number of rotations\n",
    "num_rotations = 2\n",
    "\n",
    "# Rotate the array\n",
    "for i in range(num_rotations):\n",
    "    # Remove the last element from the array and insert it at the beginning\n",
    "    last_elem = arr.pop()\n",
    "    arr.insert(0, last_elem)\n",
    "\n",
    "# Print the rotated array\n",
    "print(arr)"
   ]
  },
  {
   "cell_type": "code",
   "execution_count": 7,
   "id": "be964ece",
   "metadata": {},
   "outputs": [],
   "source": [
    "dir("
   ]
  }
 ],
 "metadata": {
  "kernelspec": {
   "display_name": "Python 3 (ipykernel)",
   "language": "python",
   "name": "python3"
  },
  "language_info": {
   "codemirror_mode": {
    "name": "ipython",
    "version": 3
   },
   "file_extension": ".py",
   "mimetype": "text/x-python",
   "name": "python",
   "nbconvert_exporter": "python",
   "pygments_lexer": "ipython3",
   "version": "3.9.13"
  }
 },
 "nbformat": 4,
 "nbformat_minor": 5
}
