{
 "cells": [
  {
   "cell_type": "code",
   "execution_count": 3,
   "id": "21f4c21b",
   "metadata": {},
   "outputs": [],
   "source": [
    "import numpy as np"
   ]
  },
  {
   "cell_type": "code",
   "execution_count": 11,
   "id": "56a75700",
   "metadata": {},
   "outputs": [],
   "source": [
    "def numpysum(n):\n",
    " a = numpy.arange(n) ** 2\n",
    " b = numpy.arange(n) ** 3\n",
    " c = a + b\n",
    " return c"
   ]
  },
  {
   "cell_type": "code",
   "execution_count": 14,
   "id": "a92febea",
   "metadata": {},
   "outputs": [
    {
     "data": {
      "text/plain": [
       "<function __main__.numpysum(n)>"
      ]
     },
     "execution_count": 14,
     "metadata": {},
     "output_type": "execute_result"
    }
   ],
   "source": [
    "numpysum"
   ]
  },
  {
   "cell_type": "code",
   "execution_count": 7,
   "id": "26992b50",
   "metadata": {},
   "outputs": [
    {
     "data": {
      "text/plain": [
       "1"
      ]
     },
     "execution_count": 7,
     "metadata": {},
     "output_type": "execute_result"
    }
   ],
   "source": [
    "a=1\n",
    "b=2\n",
    "a,b=b,a\n",
    "a\n",
    "b"
   ]
  },
  {
   "cell_type": "code",
   "execution_count": 17,
   "id": "103dc98e",
   "metadata": {},
   "outputs": [
    {
     "name": "stdout",
     "output_type": "stream",
     "text": [
      "hello\n"
     ]
    }
   ],
   "source": [
    "print('hello')"
   ]
  },
  {
   "cell_type": "code",
   "execution_count": 31,
   "id": "89554ecb",
   "metadata": {},
   "outputs": [
    {
     "name": "stdout",
     "output_type": "stream",
     "text": [
      "positive\n"
     ]
    }
   ],
   "source": [
    "if 43 < 0:\n",
    "    print('negative')\n",
    "else: \n",
    "    print('positive')"
   ]
  },
  {
   "cell_type": "code",
   "execution_count": 33,
   "id": "ec0273c6",
   "metadata": {},
   "outputs": [
    {
     "name": "stdout",
     "output_type": "stream",
     "text": [
      "ham\n",
      "orange\n",
      "mango\n"
     ]
    }
   ],
   "source": [
    "#Loop\n",
    "food=['ham','orange','mango']\n",
    "for snack in food:\n",
    "    print (snack)"
   ]
  },
  {
   "cell_type": "code",
   "execution_count": 38,
   "id": "414420e5",
   "metadata": {},
   "outputs": [
    {
     "name": "stdout",
     "output_type": "stream",
     "text": [
      "1\n",
      "3\n",
      "5\n",
      "7\n"
     ]
    }
   ],
   "source": [
    "#step of two loop\n",
    "for i in range(1,9,2):\n",
    "    print(i)"
   ]
  },
  {
   "cell_type": "code",
   "execution_count": 42,
   "id": "08a47a38",
   "metadata": {},
   "outputs": [
    {
     "name": "stdout",
     "output_type": "stream",
     "text": [
      "0\n",
      "1\n",
      "2\n",
      "3\n",
      "three\n"
     ]
    }
   ],
   "source": [
    "#break a loop after a number\n",
    "for i in range(9):\n",
    "    print(i)\n",
    "    if i ==3:\n",
    "        print('three')\n",
    "        break"
   ]
  },
  {
   "cell_type": "code",
   "execution_count": 49,
   "id": "09ed8c4d",
   "metadata": {},
   "outputs": [
    {
     "name": "stdout",
     "output_type": "stream",
     "text": [
      "0\n",
      "1\n",
      "2\n",
      "Three\n",
      "4\n"
     ]
    }
   ],
   "source": [
    "#Print the numbers 0-4,skipping 3 as follows:\n",
    "\n",
    "for i in range(5):\n",
    "    if i == 3:\n",
    "        print('Three')\n",
    "        continue\n",
    "    print(i)"
   ]
  },
  {
   "cell_type": "code",
   "execution_count": 50,
   "id": "5caeb041",
   "metadata": {},
   "outputs": [
    {
     "name": "stdout",
     "output_type": "stream",
     "text": [
      "0\n",
      "1\n",
      "2\n",
      "3\n",
      "4\n",
      "5\n",
      "6\n",
      "7\n",
      "8\n",
      "9\n",
      "9 in else clause\n"
     ]
    }
   ],
   "source": [
    "#Add an else clause as follows:\n",
    "for i in range(10):\n",
    "    print(i)\n",
    "else:\n",
    "    print(i,'in else clause')"
   ]
  },
  {
   "cell_type": "code",
   "execution_count": null,
   "id": "4f52be78",
   "metadata": {},
   "outputs": [],
   "source": []
  }
 ],
 "metadata": {
  "kernelspec": {
   "display_name": "Python 3 (ipykernel)",
   "language": "python",
   "name": "python3"
  },
  "language_info": {
   "codemirror_mode": {
    "name": "ipython",
    "version": 3
   },
   "file_extension": ".py",
   "mimetype": "text/x-python",
   "name": "python",
   "nbconvert_exporter": "python",
   "pygments_lexer": "ipython3",
   "version": "3.9.13"
  }
 },
 "nbformat": 4,
 "nbformat_minor": 5
}
