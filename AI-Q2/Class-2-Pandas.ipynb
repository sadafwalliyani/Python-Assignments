{
 "cells": [
  {
   "cell_type": "markdown",
   "id": "4de45c4f",
   "metadata": {},
   "source": [
    "# Pandas\n",
    "-Data analysis library/ Work on data secienece \n",
    "2 inspector\n",
    "    -Series--Single Dimention \n",
    "    -Data Frame-- Multidimention"
   ]
  },
  {
   "cell_type": "code",
   "execution_count": 1,
   "id": "ca3afd6f",
   "metadata": {},
   "outputs": [],
   "source": [
    "import pandas as pd"
   ]
  },
  {
   "cell_type": "markdown",
   "id": "a54a827f",
   "metadata": {},
   "source": [
    "# Series\n",
    "  "
   ]
  },
  {
   "cell_type": "code",
   "execution_count": 52,
   "id": "d361bba6",
   "metadata": {},
   "outputs": [],
   "source": [
    "s1=pd.Series([1,2,3,4])"
   ]
  },
  {
   "cell_type": "code",
   "execution_count": 7,
   "id": "9bf43c91",
   "metadata": {},
   "outputs": [
    {
     "data": {
      "text/plain": [
       "pandas.core.series.Series"
      ]
     },
     "execution_count": 7,
     "metadata": {},
     "output_type": "execute_result"
    }
   ],
   "source": [
    "type(s1)"
   ]
  },
  {
   "cell_type": "code",
   "execution_count": 53,
   "id": "4a0ada75",
   "metadata": {},
   "outputs": [
    {
     "name": "stdout",
     "output_type": "stream",
     "text": [
      "0    1\n",
      "1    2\n",
      "2    3\n",
      "3    4\n",
      "dtype: int64\n"
     ]
    }
   ],
   "source": [
    "print(s1)"
   ]
  },
  {
   "cell_type": "code",
   "execution_count": 54,
   "id": "18703559",
   "metadata": {},
   "outputs": [
    {
     "data": {
      "text/plain": [
       "array([1, 2, 3, 4], dtype=int64)"
      ]
     },
     "execution_count": 54,
     "metadata": {},
     "output_type": "execute_result"
    }
   ],
   "source": [
    "s1.values"
   ]
  },
  {
   "cell_type": "code",
   "execution_count": 55,
   "id": "fd0ba451",
   "metadata": {},
   "outputs": [
    {
     "data": {
      "text/plain": [
       "one      1\n",
       "two      2\n",
       "three    3\n",
       "four     4\n",
       "dtype: int64"
      ]
     },
     "execution_count": 55,
     "metadata": {},
     "output_type": "execute_result"
    }
   ],
   "source": [
    "s1.index=[\"one\",\"two\",\"three\",\"four\"] #indexes can be our choice\n",
    "s1"
   ]
  },
  {
   "cell_type": "code",
   "execution_count": 56,
   "id": "467e833e",
   "metadata": {},
   "outputs": [
    {
     "data": {
      "text/plain": [
       "1"
      ]
     },
     "execution_count": 56,
     "metadata": {},
     "output_type": "execute_result"
    }
   ],
   "source": [
    "s1[\"one\"]"
   ]
  },
  {
   "cell_type": "code",
   "execution_count": 49,
   "id": "eec9310b",
   "metadata": {},
   "outputs": [
    {
     "data": {
      "text/plain": [
       "'mr'"
      ]
     },
     "execution_count": 49,
     "metadata": {},
     "output_type": "execute_result"
    }
   ],
   "source": [
    "s1[0]"
   ]
  },
  {
   "cell_type": "code",
   "execution_count": 67,
   "id": "f7651c1c",
   "metadata": {},
   "outputs": [
    {
     "data": {
      "text/plain": [
       "apples     1\n",
       "bananas    2\n",
       "oranges    3\n",
       "peers      4\n",
       "two        5\n",
       "dtype: int64"
      ]
     },
     "execution_count": 67,
     "metadata": {},
     "output_type": "execute_result"
    }
   ],
   "source": [
    "s2= pd.Series([1,2,3,4,5],index=[\"apples\",\"bananas\", \"oranges\", \"peers\",\"two\"])\n",
    "s2"
   ]
  },
  {
   "cell_type": "code",
   "execution_count": 68,
   "id": "666e8641",
   "metadata": {},
   "outputs": [
    {
     "data": {
      "text/plain": [
       "1"
      ]
     },
     "execution_count": 68,
     "metadata": {},
     "output_type": "execute_result"
    }
   ],
   "source": [
    "s2[\"apples\"]"
   ]
  },
  {
   "cell_type": "code",
   "execution_count": 64,
   "id": "ec13416c",
   "metadata": {},
   "outputs": [
    {
     "data": {
      "text/plain": [
       "apples     NaN\n",
       "bananas    NaN\n",
       "four       NaN\n",
       "one        NaN\n",
       "oranges    NaN\n",
       "peers      NaN\n",
       "three      NaN\n",
       "two        7.0\n",
       "dtype: float64"
      ]
     },
     "execution_count": 64,
     "metadata": {},
     "output_type": "execute_result"
    }
   ],
   "source": [
    "s1+s2# will not add/merge until series is same"
   ]
  },
  {
   "cell_type": "code",
   "execution_count": 69,
   "id": "e09571db",
   "metadata": {},
   "outputs": [
    {
     "data": {
      "text/plain": [
       "apples      NaN\n",
       "bananas     NaN\n",
       "four        NaN\n",
       "one         NaN\n",
       "oranges     NaN\n",
       "peers       NaN\n",
       "three       NaN\n",
       "two        10.0\n",
       "dtype: float64"
      ]
     },
     "execution_count": 69,
     "metadata": {},
     "output_type": "execute_result"
    }
   ],
   "source": [
    "s1*s2"
   ]
  },
  {
   "cell_type": "code",
   "execution_count": 71,
   "id": "4092cd3a",
   "metadata": {},
   "outputs": [
    {
     "data": {
      "text/plain": [
       "apples     NaN\n",
       "bananas    NaN\n",
       "four       NaN\n",
       "one        NaN\n",
       "oranges    NaN\n",
       "peers      NaN\n",
       "three      NaN\n",
       "two       -3.0\n",
       "dtype: float64"
      ]
     },
     "execution_count": 71,
     "metadata": {},
     "output_type": "execute_result"
    }
   ],
   "source": [
    "s1-s2"
   ]
  },
  {
   "cell_type": "code",
   "execution_count": 73,
   "id": "06410460",
   "metadata": {},
   "outputs": [
    {
     "data": {
      "text/plain": [
       "apples     NaN\n",
       "bananas    NaN\n",
       "four       NaN\n",
       "one        NaN\n",
       "oranges    NaN\n",
       "peers      NaN\n",
       "three      NaN\n",
       "two        0.4\n",
       "dtype: float64"
      ]
     },
     "execution_count": 73,
     "metadata": {},
     "output_type": "execute_result"
    }
   ],
   "source": [
    "s1/s2"
   ]
  },
  {
   "cell_type": "code",
   "execution_count": 78,
   "id": "e4989da6",
   "metadata": {},
   "outputs": [
    {
     "data": {
      "text/plain": [
       "apples     False\n",
       "bananas    False\n",
       "four       False\n",
       "one        False\n",
       "oranges    False\n",
       "peers      False\n",
       "three      False\n",
       "two        False\n",
       "dtype: bool"
      ]
     },
     "execution_count": 78,
     "metadata": {},
     "output_type": "execute_result"
    }
   ],
   "source": [
    "s1&s2"
   ]
  },
  {
   "cell_type": "code",
   "execution_count": 80,
   "id": "01a61f82",
   "metadata": {},
   "outputs": [
    {
     "data": {
      "text/plain": [
       "0    0\n",
       "1    1\n",
       "2    2\n",
       "3    3\n",
       "4    4\n",
       "5    5\n",
       "6    6\n",
       "7    7\n",
       "8    8\n",
       "9    9\n",
       "dtype: int64"
      ]
     },
     "execution_count": 80,
     "metadata": {},
     "output_type": "execute_result"
    }
   ],
   "source": [
    "s3 =pd.Series(range(10))\n",
    "s3"
   ]
  },
  {
   "cell_type": "code",
   "execution_count": 84,
   "id": "56f9cbdf",
   "metadata": {},
   "outputs": [
    {
     "data": {
      "text/plain": [
       "0     10\n",
       "1     11\n",
       "2     12\n",
       "3     13\n",
       "4     14\n",
       "5     15\n",
       "6     16\n",
       "7     17\n",
       "8     18\n",
       "9     19\n",
       "10    20\n",
       "dtype: int64"
      ]
     },
     "execution_count": 84,
     "metadata": {},
     "output_type": "execute_result"
    }
   ],
   "source": [
    "s4=pd.Series(range(10,21))\n",
    "s4"
   ]
  },
  {
   "cell_type": "code",
   "execution_count": 86,
   "id": "64e01a47",
   "metadata": {},
   "outputs": [
    {
     "data": {
      "text/plain": [
       "0     10.0\n",
       "1     12.0\n",
       "2     14.0\n",
       "3     16.0\n",
       "4     18.0\n",
       "5     20.0\n",
       "6     22.0\n",
       "7     24.0\n",
       "8     26.0\n",
       "9     28.0\n",
       "10     NaN\n",
       "dtype: float64"
      ]
     },
     "execution_count": 86,
     "metadata": {},
     "output_type": "execute_result"
    }
   ],
   "source": [
    "s3+s4"
   ]
  },
  {
   "cell_type": "code",
   "execution_count": 90,
   "id": "44a6ff27",
   "metadata": {},
   "outputs": [
    {
     "data": {
      "text/plain": [
       "array([0, 1, 2, 3, 4])"
      ]
     },
     "execution_count": 90,
     "metadata": {},
     "output_type": "execute_result"
    }
   ],
   "source": [
    "import numpy as np\n",
    "arr1=np.arange(5)\n",
    "arr1"
   ]
  },
  {
   "cell_type": "code",
   "execution_count": 93,
   "id": "946b3f84",
   "metadata": {},
   "outputs": [
    {
     "data": {
      "text/plain": [
       "array([0, 1, 2, 3, 4, 5])"
      ]
     },
     "execution_count": 93,
     "metadata": {},
     "output_type": "execute_result"
    }
   ],
   "source": [
    "arr2=np.arange(6)\n",
    "arr2"
   ]
  },
  {
   "cell_type": "code",
   "execution_count": 96,
   "id": "5d9c75a2",
   "metadata": {},
   "outputs": [],
   "source": [
    "#arr1+arr2 will not be merged until the values are same"
   ]
  },
  {
   "cell_type": "code",
   "execution_count": 99,
   "id": "ffb03139",
   "metadata": {},
   "outputs": [
    {
     "data": {
      "text/plain": [
       "apples     1\n",
       "bananas    2\n",
       "oranges    3\n",
       "peers      4\n",
       "two        5\n",
       "dtype: int64"
      ]
     },
     "execution_count": 99,
     "metadata": {},
     "output_type": "execute_result"
    }
   ],
   "source": [
    "s2"
   ]
  },
  {
   "cell_type": "code",
   "execution_count": 101,
   "id": "9e704c8a",
   "metadata": {},
   "outputs": [
    {
     "data": {
      "text/plain": [
       "bananas    2\n",
       "oranges    3\n",
       "dtype: int64"
      ]
     },
     "execution_count": 101,
     "metadata": {},
     "output_type": "execute_result"
    }
   ],
   "source": [
    "s2[1:3] #slicing"
   ]
  },
  {
   "cell_type": "code",
   "execution_count": 105,
   "id": "267f412d",
   "metadata": {},
   "outputs": [
    {
     "data": {
      "text/plain": [
       "apples     1\n",
       "bananas    2\n",
       "oranges    3\n",
       "peers      4\n",
       "dtype: int64"
      ]
     },
     "execution_count": 105,
     "metadata": {},
     "output_type": "execute_result"
    }
   ],
   "source": [
    "s2[\"apples\":\"peers\"]"
   ]
  },
  {
   "cell_type": "code",
   "execution_count": 110,
   "id": "bf09821d",
   "metadata": {},
   "outputs": [
    {
     "data": {
      "text/plain": [
       "apples      1\n",
       "bananas     2\n",
       "oranges    23\n",
       "peers      23\n",
       "two         5\n",
       "dtype: int64"
      ]
     },
     "execution_count": 110,
     "metadata": {},
     "output_type": "execute_result"
    }
   ],
   "source": [
    "s2[2:4]=23\n",
    "s2"
   ]
  },
  {
   "cell_type": "markdown",
   "id": "73e1a21c",
   "metadata": {},
   "source": [
    "# Lambda functions are anonymous functions "
   ]
  },
  {
   "cell_type": "code",
   "execution_count": 112,
   "id": "d6b825cb",
   "metadata": {},
   "outputs": [
    {
     "data": {
      "text/plain": [
       "sadaf     99\n",
       "ali      100\n",
       "saad      98\n",
       "waji      89\n",
       "dtype: int64"
      ]
     },
     "execution_count": 112,
     "metadata": {},
     "output_type": "execute_result"
    }
   ],
   "source": [
    "new=pd.Series([99,100,98,89], index=[\"sadaf\",\"ali\",\"saad\",\"waji\"])\n",
    "new"
   ]
  },
  {
   "cell_type": "code",
   "execution_count": 115,
   "id": "6d2be1a8",
   "metadata": {},
   "outputs": [],
   "source": [
    "#apply function\n",
    "def myfuc(marks):\n",
    "    return marks/100"
   ]
  },
  {
   "cell_type": "code",
   "execution_count": 116,
   "id": "2967994c",
   "metadata": {},
   "outputs": [
    {
     "data": {
      "text/plain": [
       "sadaf    0.99\n",
       "ali      1.00\n",
       "saad     0.98\n",
       "waji     0.89\n",
       "dtype: float64"
      ]
     },
     "execution_count": 116,
     "metadata": {},
     "output_type": "execute_result"
    }
   ],
   "source": [
    "new.apply(myfuc)"
   ]
  },
  {
   "cell_type": "code",
   "execution_count": 119,
   "id": "7278461d",
   "metadata": {},
   "outputs": [
    {
     "data": {
      "text/plain": [
       "sadaf     9900\n",
       "ali      10000\n",
       "saad      9800\n",
       "waji      8900\n",
       "dtype: int64"
      ]
     },
     "execution_count": 119,
     "metadata": {},
     "output_type": "execute_result"
    }
   ],
   "source": [
    "#apply lambda function\n",
    "new.apply(lambda x:x*100)"
   ]
  },
  {
   "cell_type": "code",
   "execution_count": null,
   "id": "7a47aceb",
   "metadata": {},
   "outputs": [],
   "source": []
  }
 ],
 "metadata": {
  "kernelspec": {
   "display_name": "Python 3 (ipykernel)",
   "language": "python",
   "name": "python3"
  },
  "language_info": {
   "codemirror_mode": {
    "name": "ipython",
    "version": 3
   },
   "file_extension": ".py",
   "mimetype": "text/x-python",
   "name": "python",
   "nbconvert_exporter": "python",
   "pygments_lexer": "ipython3",
   "version": "3.9.13"
  }
 },
 "nbformat": 4,
 "nbformat_minor": 5
}
