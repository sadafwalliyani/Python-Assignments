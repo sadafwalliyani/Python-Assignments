{
 "cells": [
  {
   "cell_type": "markdown",
   "id": "3473ad59",
   "metadata": {},
   "source": [
    "# Pandas\n",
    "-Data analysis library/ Work on data secienece \n",
    "2 inspector\n",
    "    -Series--Single Dimention \n",
    "    -Data Frame-- Multidimention\n",
    "   Note: create labels for us which array cant"
   ]
  },
  {
   "cell_type": "code",
   "execution_count": 34,
   "id": "ca3afd6f",
   "metadata": {},
   "outputs": [],
   "source": [
    "import pandas as pd"
   ]
  },
  {
   "cell_type": "markdown",
   "id": "6d8e4361",
   "metadata": {},
   "source": [
    "# Series\n",
    "  -Series are one dimention \n",
    "  -its can be concantenate vertically not horizontally"
   ]
  },
  {
   "cell_type": "code",
   "execution_count": 35,
   "id": "747ec36f",
   "metadata": {},
   "outputs": [],
   "source": [
    "s1=pd.Series([1,2,3,4])"
   ]
  },
  {
   "cell_type": "code",
   "execution_count": 36,
   "id": "ce06d404",
   "metadata": {},
   "outputs": [
    {
     "data": {
      "text/plain": [
       "pandas.core.series.Series"
      ]
     },
     "execution_count": 36,
     "metadata": {},
     "output_type": "execute_result"
    }
   ],
   "source": [
    "type(s1)"
   ]
  },
  {
   "cell_type": "code",
   "execution_count": 37,
   "id": "3245a47c",
   "metadata": {},
   "outputs": [
    {
     "name": "stdout",
     "output_type": "stream",
     "text": [
      "0    1\n",
      "1    2\n",
      "2    3\n",
      "3    4\n",
      "dtype: int64\n"
     ]
    }
   ],
   "source": [
    "print(s1)"
   ]
  },
  {
   "cell_type": "code",
   "execution_count": 38,
   "id": "f66ab1fc",
   "metadata": {},
   "outputs": [
    {
     "data": {
      "text/plain": [
       "array([1, 2, 3, 4], dtype=int64)"
      ]
     },
     "execution_count": 38,
     "metadata": {},
     "output_type": "execute_result"
    }
   ],
   "source": [
    "s1.values"
   ]
  },
  {
   "cell_type": "code",
   "execution_count": 39,
   "id": "c59e0ec6",
   "metadata": {},
   "outputs": [
    {
     "data": {
      "text/plain": [
       "one      1\n",
       "two      2\n",
       "three    3\n",
       "four     4\n",
       "dtype: int64"
      ]
     },
     "execution_count": 39,
     "metadata": {},
     "output_type": "execute_result"
    }
   ],
   "source": [
    "s1.index=[\"one\",\"two\",\"three\",\"four\"] #indexes can be our choice\n",
    "s1"
   ]
  },
  {
   "cell_type": "code",
   "execution_count": 40,
   "id": "25cfca4c",
   "metadata": {},
   "outputs": [
    {
     "data": {
      "text/plain": [
       "1"
      ]
     },
     "execution_count": 40,
     "metadata": {},
     "output_type": "execute_result"
    }
   ],
   "source": [
    "s1[\"one\"]"
   ]
  },
  {
   "cell_type": "code",
   "execution_count": 41,
   "id": "4c4b5b3f",
   "metadata": {},
   "outputs": [
    {
     "data": {
      "text/plain": [
       "1"
      ]
     },
     "execution_count": 41,
     "metadata": {},
     "output_type": "execute_result"
    }
   ],
   "source": [
    "s1[0]"
   ]
  },
  {
   "cell_type": "code",
   "execution_count": 42,
   "id": "2532b486",
   "metadata": {},
   "outputs": [
    {
     "data": {
      "text/plain": [
       "apples     1\n",
       "bananas    2\n",
       "oranges    3\n",
       "peers      4\n",
       "two        5\n",
       "dtype: int64"
      ]
     },
     "execution_count": 42,
     "metadata": {},
     "output_type": "execute_result"
    }
   ],
   "source": [
    "s2= pd.Series([1,2,3,4,5],index=[\"apples\",\"bananas\", \"oranges\", \"peers\",\"two\"])\n",
    "s2"
   ]
  },
  {
   "cell_type": "code",
   "execution_count": 43,
   "id": "12b30e1f",
   "metadata": {},
   "outputs": [
    {
     "data": {
      "text/plain": [
       "1"
      ]
     },
     "execution_count": 43,
     "metadata": {},
     "output_type": "execute_result"
    }
   ],
   "source": [
    "s2[\"apples\"]"
   ]
  },
  {
   "cell_type": "code",
   "execution_count": 44,
   "id": "d8f6fc88",
   "metadata": {},
   "outputs": [
    {
     "data": {
      "text/plain": [
       "apples     NaN\n",
       "bananas    NaN\n",
       "four       NaN\n",
       "one        NaN\n",
       "oranges    NaN\n",
       "peers      NaN\n",
       "three      NaN\n",
       "two        7.0\n",
       "dtype: float64"
      ]
     },
     "execution_count": 44,
     "metadata": {},
     "output_type": "execute_result"
    }
   ],
   "source": [
    "s1+s2# will not add/merge until series is same"
   ]
  },
  {
   "cell_type": "code",
   "execution_count": 45,
   "id": "083e50e0",
   "metadata": {},
   "outputs": [
    {
     "data": {
      "text/plain": [
       "apples      NaN\n",
       "bananas     NaN\n",
       "four        NaN\n",
       "one         NaN\n",
       "oranges     NaN\n",
       "peers       NaN\n",
       "three       NaN\n",
       "two        10.0\n",
       "dtype: float64"
      ]
     },
     "execution_count": 45,
     "metadata": {},
     "output_type": "execute_result"
    }
   ],
   "source": [
    "s1*s2"
   ]
  },
  {
   "cell_type": "code",
   "execution_count": 46,
   "id": "ba5b2345",
   "metadata": {},
   "outputs": [
    {
     "data": {
      "text/plain": [
       "apples     NaN\n",
       "bananas    NaN\n",
       "four       NaN\n",
       "one        NaN\n",
       "oranges    NaN\n",
       "peers      NaN\n",
       "three      NaN\n",
       "two       -3.0\n",
       "dtype: float64"
      ]
     },
     "execution_count": 46,
     "metadata": {},
     "output_type": "execute_result"
    }
   ],
   "source": [
    "s1-s2"
   ]
  },
  {
   "cell_type": "code",
   "execution_count": 47,
   "id": "f158c3bc",
   "metadata": {},
   "outputs": [
    {
     "data": {
      "text/plain": [
       "apples     NaN\n",
       "bananas    NaN\n",
       "four       NaN\n",
       "one        NaN\n",
       "oranges    NaN\n",
       "peers      NaN\n",
       "three      NaN\n",
       "two        0.4\n",
       "dtype: float64"
      ]
     },
     "execution_count": 47,
     "metadata": {},
     "output_type": "execute_result"
    }
   ],
   "source": [
    "s1/s2"
   ]
  },
  {
   "cell_type": "code",
   "execution_count": 48,
   "id": "b3c53ed2",
   "metadata": {},
   "outputs": [
    {
     "data": {
      "text/plain": [
       "apples     False\n",
       "bananas    False\n",
       "four       False\n",
       "one        False\n",
       "oranges    False\n",
       "peers      False\n",
       "three      False\n",
       "two        False\n",
       "dtype: bool"
      ]
     },
     "execution_count": 48,
     "metadata": {},
     "output_type": "execute_result"
    }
   ],
   "source": [
    "s1&s2"
   ]
  },
  {
   "cell_type": "code",
   "execution_count": 49,
   "id": "d24d1cdb",
   "metadata": {},
   "outputs": [
    {
     "data": {
      "text/plain": [
       "0    0\n",
       "1    1\n",
       "2    2\n",
       "3    3\n",
       "4    4\n",
       "5    5\n",
       "6    6\n",
       "7    7\n",
       "8    8\n",
       "9    9\n",
       "dtype: int64"
      ]
     },
     "execution_count": 49,
     "metadata": {},
     "output_type": "execute_result"
    }
   ],
   "source": [
    "s3 =pd.Series(range(10))\n",
    "s3"
   ]
  },
  {
   "cell_type": "code",
   "execution_count": 50,
   "id": "3bf8cf98",
   "metadata": {},
   "outputs": [
    {
     "data": {
      "text/plain": [
       "0     10\n",
       "1     11\n",
       "2     12\n",
       "3     13\n",
       "4     14\n",
       "5     15\n",
       "6     16\n",
       "7     17\n",
       "8     18\n",
       "9     19\n",
       "10    20\n",
       "dtype: int64"
      ]
     },
     "execution_count": 50,
     "metadata": {},
     "output_type": "execute_result"
    }
   ],
   "source": [
    "s4=pd.Series(range(10,21))\n",
    "s4"
   ]
  },
  {
   "cell_type": "code",
   "execution_count": 51,
   "id": "073ee2dc",
   "metadata": {},
   "outputs": [
    {
     "data": {
      "text/plain": [
       "0     10.0\n",
       "1     12.0\n",
       "2     14.0\n",
       "3     16.0\n",
       "4     18.0\n",
       "5     20.0\n",
       "6     22.0\n",
       "7     24.0\n",
       "8     26.0\n",
       "9     28.0\n",
       "10     NaN\n",
       "dtype: float64"
      ]
     },
     "execution_count": 51,
     "metadata": {},
     "output_type": "execute_result"
    }
   ],
   "source": [
    "s3+s4"
   ]
  },
  {
   "cell_type": "code",
   "execution_count": 52,
   "id": "5a0f07af",
   "metadata": {},
   "outputs": [
    {
     "data": {
      "text/plain": [
       "array([0, 1, 2, 3, 4])"
      ]
     },
     "execution_count": 52,
     "metadata": {},
     "output_type": "execute_result"
    }
   ],
   "source": [
    "import numpy as np\n",
    "arr1=np.arange(5)\n",
    "arr1"
   ]
  },
  {
   "cell_type": "code",
   "execution_count": 53,
   "id": "2b006eb4",
   "metadata": {},
   "outputs": [
    {
     "data": {
      "text/plain": [
       "array([0, 1, 2, 3, 4, 5])"
      ]
     },
     "execution_count": 53,
     "metadata": {},
     "output_type": "execute_result"
    }
   ],
   "source": [
    "arr2=np.arange(6)\n",
    "arr2"
   ]
  },
  {
   "cell_type": "code",
   "execution_count": 54,
   "id": "5c2a62d6",
   "metadata": {},
   "outputs": [],
   "source": [
    "#arr1+arr2 will not be merged until the values are same"
   ]
  },
  {
   "cell_type": "code",
   "execution_count": 55,
   "id": "e037f6dd",
   "metadata": {},
   "outputs": [
    {
     "data": {
      "text/plain": [
       "apples     1\n",
       "bananas    2\n",
       "oranges    3\n",
       "peers      4\n",
       "two        5\n",
       "dtype: int64"
      ]
     },
     "execution_count": 55,
     "metadata": {},
     "output_type": "execute_result"
    }
   ],
   "source": [
    "s2"
   ]
  },
  {
   "cell_type": "code",
   "execution_count": 56,
   "id": "211e8921",
   "metadata": {},
   "outputs": [
    {
     "data": {
      "text/plain": [
       "bananas    2\n",
       "oranges    3\n",
       "dtype: int64"
      ]
     },
     "execution_count": 56,
     "metadata": {},
     "output_type": "execute_result"
    }
   ],
   "source": [
    "s2[1:3] #slicing"
   ]
  },
  {
   "cell_type": "code",
   "execution_count": 57,
   "id": "506f9ae7",
   "metadata": {},
   "outputs": [
    {
     "data": {
      "text/plain": [
       "apples     1\n",
       "bananas    2\n",
       "oranges    3\n",
       "peers      4\n",
       "dtype: int64"
      ]
     },
     "execution_count": 57,
     "metadata": {},
     "output_type": "execute_result"
    }
   ],
   "source": [
    "s2[\"apples\":\"peers\"]"
   ]
  },
  {
   "cell_type": "code",
   "execution_count": 58,
   "id": "910e0dc2",
   "metadata": {},
   "outputs": [
    {
     "data": {
      "text/plain": [
       "apples      1\n",
       "bananas     2\n",
       "oranges    23\n",
       "peers      23\n",
       "two         5\n",
       "dtype: int64"
      ]
     },
     "execution_count": 58,
     "metadata": {},
     "output_type": "execute_result"
    }
   ],
   "source": [
    "s2[2:4]=23\n",
    "s2"
   ]
  },
  {
   "cell_type": "markdown",
   "id": "ca703388",
   "metadata": {},
   "source": [
    "# Lambda functions are anonymous functions "
   ]
  },
  {
   "cell_type": "code",
   "execution_count": 59,
   "id": "8db9757c",
   "metadata": {},
   "outputs": [
    {
     "data": {
      "text/plain": [
       "sadaf     99\n",
       "ali      100\n",
       "saad       8\n",
       "waji      89\n",
       "dtype: int64"
      ]
     },
     "execution_count": 59,
     "metadata": {},
     "output_type": "execute_result"
    }
   ],
   "source": [
    "new=pd.Series([99,100,8,89], index=[\"sadaf\",\"ali\",\"saad\",\"waji\"])\n",
    "new"
   ]
  },
  {
   "cell_type": "code",
   "execution_count": 60,
   "id": "15bf367d",
   "metadata": {},
   "outputs": [],
   "source": [
    "#apply function\n",
    "def myfuc(marks):\n",
    "    return marks/100"
   ]
  },
  {
   "cell_type": "code",
   "execution_count": 61,
   "id": "9aa8a760",
   "metadata": {},
   "outputs": [
    {
     "data": {
      "text/plain": [
       "sadaf    0.99\n",
       "ali      1.00\n",
       "saad     0.08\n",
       "waji     0.89\n",
       "dtype: float64"
      ]
     },
     "execution_count": 61,
     "metadata": {},
     "output_type": "execute_result"
    }
   ],
   "source": [
    "new.apply(myfuc)"
   ]
  },
  {
   "cell_type": "code",
   "execution_count": 62,
   "id": "7b21552b",
   "metadata": {},
   "outputs": [
    {
     "data": {
      "text/plain": [
       "sadaf    0.99\n",
       "ali      1.00\n",
       "saad     0.08\n",
       "waji     0.89\n",
       "dtype: float64"
      ]
     },
     "execution_count": 62,
     "metadata": {},
     "output_type": "execute_result"
    }
   ],
   "source": [
    "#apply lambda function\n",
    "new.apply(lambda x:x/100)"
   ]
  },
  {
   "cell_type": "code",
   "execution_count": 100,
   "id": "7ba6d6b1",
   "metadata": {},
   "outputs": [
    {
     "data": {
      "text/plain": [
       "sadaf    Pass\n",
       "ali      Pass\n",
       "saad     fail\n",
       "waji     Pass\n",
       "dtype: object"
      ]
     },
     "execution_count": 100,
     "metadata": {},
     "output_type": "execute_result"
    }
   ],
   "source": [
    "new.apply(lambda x:np.where(x>50, \"Pass\", \"fail\")) #one time function , cant be called by anyone"
   ]
  },
  {
   "cell_type": "code",
   "execution_count": 104,
   "id": "7c79410c",
   "metadata": {},
   "outputs": [
    {
     "data": {
      "text/plain": [
       "sadaf    Pass\n",
       "ali      Pass\n",
       "saad     fail\n",
       "waji     Pass\n",
       "dtype: object"
      ]
     },
     "execution_count": 104,
     "metadata": {},
     "output_type": "execute_result"
    }
   ],
   "source": [
    "new.apply(lambda x:np.where(x>50, \"Pass\", \"fail\"))"
   ]
  },
  {
   "cell_type": "code",
   "execution_count": 105,
   "id": "ede3b9f0",
   "metadata": {},
   "outputs": [
    {
     "data": {
      "text/plain": [
       "sadaf    99\n",
       "waji     89\n",
       "dtype: int64"
      ]
     },
     "execution_count": 105,
     "metadata": {},
     "output_type": "execute_result"
    }
   ],
   "source": [
    "new[['sadaf','waji']]"
   ]
  },
  {
   "cell_type": "code",
   "execution_count": 106,
   "id": "7273b109",
   "metadata": {},
   "outputs": [
    {
     "data": {
      "text/plain": [
       "99     1\n",
       "100    1\n",
       "8      1\n",
       "89     1\n",
       "dtype: int64"
      ]
     },
     "execution_count": 106,
     "metadata": {},
     "output_type": "execute_result"
    }
   ],
   "source": [
    "new.value_counts()"
   ]
  },
  {
   "cell_type": "code",
   "execution_count": 95,
   "id": "9e1ef7f9",
   "metadata": {},
   "outputs": [
    {
     "data": {
      "text/plain": [
       "apples     100\n",
       "bananas    100\n",
       "oranges    100\n",
       "peers      100\n",
       "two        100\n",
       "dtype: int64"
      ]
     },
     "execution_count": 95,
     "metadata": {},
     "output_type": "execute_result"
    }
   ],
   "source": [
    "s5= pd.Series(100, index=s2.index)\n",
    "s5\n"
   ]
  },
  {
   "cell_type": "code",
   "execution_count": 98,
   "id": "806d851e",
   "metadata": {},
   "outputs": [
    {
     "data": {
      "text/plain": [
       "sadaf    99\n",
       "waji     89\n",
       "dtype: int64"
      ]
     },
     "execution_count": 98,
     "metadata": {},
     "output_type": "execute_result"
    }
   ],
   "source": [
    "new[['sadaf','waji']]"
   ]
  },
  {
   "cell_type": "code",
   "execution_count": 96,
   "id": "2acaabf1",
   "metadata": {},
   "outputs": [
    {
     "data": {
      "text/plain": [
       "array([ 1.,  2.,  3.,  4.,  5.,  6.,  7.,  8.,  9., 10.])"
      ]
     },
     "execution_count": 96,
     "metadata": {},
     "output_type": "execute_result"
    }
   ],
   "source": [
    "np.linspace(1,10,10) #linear space series generater function"
   ]
  },
  {
   "cell_type": "code",
   "execution_count": 85,
   "id": "3d58a0b1",
   "metadata": {},
   "outputs": [
    {
     "data": {
      "text/plain": [
       "4"
      ]
     },
     "execution_count": 85,
     "metadata": {},
     "output_type": "execute_result"
    }
   ],
   "source": [
    "s6=pd.Series({'a':1,'b':2,'c':3,'d':4,})\n",
    "s6\n",
    "s6.shape\n",
    "s6.size\n",
    "s6.count()#dont count NAN"
   ]
  },
  {
   "cell_type": "code",
   "execution_count": 89,
   "id": "c679abc0",
   "metadata": {},
   "outputs": [
    {
     "data": {
      "text/plain": [
       "one      1\n",
       "two      2\n",
       "three    3\n",
       "four     4\n",
       "dtype: int64"
      ]
     },
     "execution_count": 89,
     "metadata": {},
     "output_type": "execute_result"
    }
   ],
   "source": [
    "s1"
   ]
  },
  {
   "cell_type": "code",
   "execution_count": 91,
   "id": "340c7313",
   "metadata": {},
   "outputs": [
    {
     "data": {
      "text/plain": [
       "1    1\n",
       "2    1\n",
       "3    1\n",
       "4    1\n",
       "dtype: int64"
      ]
     },
     "execution_count": 91,
     "metadata": {},
     "output_type": "execute_result"
    }
   ],
   "source": [
    "s1.value_counts()"
   ]
  },
  {
   "cell_type": "markdown",
   "id": "10b31a74",
   "metadata": {},
   "source": [
    "# Peeking at data with heads, tails, and take\n",
    "-By default, these return the first or last five rows,\n"
   ]
  },
  {
   "cell_type": "code",
   "execution_count": 94,
   "id": "d94ab1ee",
   "metadata": {},
   "outputs": [
    {
     "data": {
      "text/plain": [
       "one      1\n",
       "two      2\n",
       "three    3\n",
       "four     4\n",
       "dtype: int64"
      ]
     },
     "execution_count": 94,
     "metadata": {},
     "output_type": "execute_result"
    }
   ],
   "source": [
    "s1.head()"
   ]
  },
  {
   "cell_type": "code",
   "execution_count": 109,
   "id": "d56d4805",
   "metadata": {},
   "outputs": [
    {
     "data": {
      "text/plain": [
       "0    1.0\n",
       "1    2.0\n",
       "2    3.0\n",
       "3    NaN\n",
       "dtype: float64"
      ]
     },
     "execution_count": 109,
     "metadata": {},
     "output_type": "execute_result"
    }
   ],
   "source": [
    "s7=pd.Series([1,2,3,np.nan,]) #generate nan \n",
    "s7"
   ]
  },
  {
   "cell_type": "code",
   "execution_count": 121,
   "id": "22bcb916",
   "metadata": {},
   "outputs": [],
   "source": [
    "np.random.seed(123456) #seed fix the number\n",
    "s1=pd.Series(np.random.randn(3))\n",
    "s2=pd.Series(np.random.randn(3))"
   ]
  },
  {
   "cell_type": "code",
   "execution_count": 125,
   "id": "dc41dc80",
   "metadata": {},
   "outputs": [
    {
     "data": {
      "text/plain": [
       "0    0.469112\n",
       "1   -0.282863\n",
       "2   -1.509059\n",
       "0   -1.135632\n",
       "1    1.212112\n",
       "2   -0.173215\n",
       "dtype: float64"
      ]
     },
     "execution_count": 125,
     "metadata": {},
     "output_type": "execute_result"
    }
   ],
   "source": [
    "combined=pd.concat([s1,s2])\n",
    "combined"
   ]
  },
  {
   "cell_type": "code",
   "execution_count": 127,
   "id": "47d11b3d",
   "metadata": {},
   "outputs": [
    {
     "data": {
      "text/plain": [
       "0    0.469112\n",
       "0   -1.135632\n",
       "dtype: float64"
      ]
     },
     "execution_count": 127,
     "metadata": {},
     "output_type": "execute_result"
    }
   ],
   "source": [
    "combined[0]#gives 2 0 gives 2 ones"
   ]
  },
  {
   "cell_type": "code",
   "execution_count": 133,
   "id": "58d4d735",
   "metadata": {},
   "outputs": [
    {
     "data": {
      "text/plain": [
       "0    0.469112\n",
       "1   -0.282863\n",
       "2   -1.509059\n",
       "0   -1.135632\n",
       "1    1.212112\n",
       "2   -0.173215\n",
       "dtype: float64"
      ]
     },
     "execution_count": 133,
     "metadata": {},
     "output_type": "execute_result"
    }
   ],
   "source": [
    "combined.reindex()"
   ]
  },
  {
   "cell_type": "code",
   "execution_count": 140,
   "id": "6a07ace8",
   "metadata": {},
   "outputs": [
    {
     "data": {
      "text/plain": [
       "0     0.469112\n",
       "1    -0.282863\n",
       "2    -1.509059\n",
       "3    -1.135632\n",
       "4     1.212112\n",
       "5    -0.173215\n",
       "6    40.000000\n",
       "dtype: float64"
      ]
     },
     "execution_count": 140,
     "metadata": {},
     "output_type": "execute_result"
    }
   ],
   "source": [
    "#re index\n",
    "combined.reset_index(drop=True) #will drop purana index will set new index"
   ]
  },
  {
   "cell_type": "code",
   "execution_count": 147,
   "id": "b86c663c",
   "metadata": {},
   "outputs": [
    {
     "data": {
      "text/plain": [
       "0     0.469112\n",
       "1    -0.282863\n",
       "2    -1.509059\n",
       "0    -1.135632\n",
       "1     1.212112\n",
       "2    -0.173215\n",
       "4    40.000000\n",
       "dtype: float64"
      ]
     },
     "execution_count": 147,
     "metadata": {},
     "output_type": "execute_result"
    }
   ],
   "source": [
    "combined[4]= 40\n",
    "combined"
   ]
  },
  {
   "cell_type": "code",
   "execution_count": 149,
   "id": "427332a5",
   "metadata": {},
   "outputs": [
    {
     "data": {
      "text/plain": [
       "0     0.469112\n",
       "1    -0.282863\n",
       "2    -1.509059\n",
       "0    -1.135632\n",
       "1     1.212112\n",
       "2    -0.173215\n",
       "4    40.000000\n",
       "dtype: float64"
      ]
     },
     "execution_count": 149,
     "metadata": {},
     "output_type": "execute_result"
    }
   ],
   "source": [
    "combined"
   ]
  },
  {
   "cell_type": "code",
   "execution_count": null,
   "id": "f425187a",
   "metadata": {},
   "outputs": [],
   "source": []
  }
 ],
 "metadata": {
  "kernelspec": {
   "display_name": "Python 3 (ipykernel)",
   "language": "python",
   "name": "python3"
  },
  "language_info": {
   "codemirror_mode": {
    "name": "ipython",
    "version": 3
   },
   "file_extension": ".py",
   "mimetype": "text/x-python",
   "name": "python",
   "nbconvert_exporter": "python",
   "pygments_lexer": "ipython3",
   "version": "3.9.13"
  }
 },
 "nbformat": 4,
 "nbformat_minor": 5
}
