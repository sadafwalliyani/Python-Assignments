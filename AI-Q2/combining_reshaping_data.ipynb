{
 "cells": [
  {
   "cell_type": "markdown",
   "id": "35b8f174",
   "metadata": {},
   "source": [
    "# combining_reshaping_data"
   ]
  },
  {
   "cell_type": "markdown",
   "id": "205ecb98",
   "metadata": {},
   "source": [
    "# Merging and joining Data Frames"
   ]
  },
  {
   "cell_type": "code",
   "execution_count": 2,
   "id": "664feb26",
   "metadata": {},
   "outputs": [
    {
     "data": {
      "text/html": [
       "<div>\n",
       "<style scoped>\n",
       "    .dataframe tbody tr th:only-of-type {\n",
       "        vertical-align: middle;\n",
       "    }\n",
       "\n",
       "    .dataframe tbody tr th {\n",
       "        vertical-align: top;\n",
       "    }\n",
       "\n",
       "    .dataframe thead th {\n",
       "        text-align: right;\n",
       "    }\n",
       "</style>\n",
       "<table border=\"1\" class=\"dataframe\">\n",
       "  <thead>\n",
       "    <tr style=\"text-align: right;\">\n",
       "      <th></th>\n",
       "      <th>customer_id</th>\n",
       "      <th>Name</th>\n",
       "      <th>Address</th>\n",
       "    </tr>\n",
       "  </thead>\n",
       "  <tbody>\n",
       "    <tr>\n",
       "      <th>0</th>\n",
       "      <td>1234</td>\n",
       "      <td>Mike</td>\n",
       "      <td>abc23-1</td>\n",
       "    </tr>\n",
       "    <tr>\n",
       "      <th>1</th>\n",
       "      <td>1235</td>\n",
       "      <td>Maria</td>\n",
       "      <td>xyz-3</td>\n",
       "    </tr>\n",
       "    <tr>\n",
       "      <th>2</th>\n",
       "      <td>1111</td>\n",
       "      <td>Nasir</td>\n",
       "      <td>abc23-2</td>\n",
       "    </tr>\n",
       "    <tr>\n",
       "      <th>3</th>\n",
       "      <td>2222</td>\n",
       "      <td>Ali</td>\n",
       "      <td>xyz-5</td>\n",
       "    </tr>\n",
       "    <tr>\n",
       "      <th>4</th>\n",
       "      <td>3334</td>\n",
       "      <td>Ahmed</td>\n",
       "      <td>abc23-6</td>\n",
       "    </tr>\n",
       "    <tr>\n",
       "      <th>5</th>\n",
       "      <td>3333</td>\n",
       "      <td>Saad</td>\n",
       "      <td>xyz-0</td>\n",
       "    </tr>\n",
       "    <tr>\n",
       "      <th>6</th>\n",
       "      <td>4444</td>\n",
       "      <td>Hamid</td>\n",
       "      <td>abc23-11</td>\n",
       "    </tr>\n",
       "    <tr>\n",
       "      <th>7</th>\n",
       "      <td>5555</td>\n",
       "      <td>Kami</td>\n",
       "      <td>xyz-301</td>\n",
       "    </tr>\n",
       "  </tbody>\n",
       "</table>\n",
       "</div>"
      ],
      "text/plain": [
       "   customer_id   Name   Address\n",
       "0         1234   Mike   abc23-1\n",
       "1         1235  Maria     xyz-3\n",
       "2         1111  Nasir   abc23-2\n",
       "3         2222    Ali     xyz-5\n",
       "4         3334  Ahmed   abc23-6\n",
       "5         3333   Saad     xyz-0\n",
       "6         4444  Hamid  abc23-11\n",
       "7         5555   Kami   xyz-301"
      ]
     },
     "execution_count": 2,
     "metadata": {},
     "output_type": "execute_result"
    }
   ],
   "source": [
    "import pandas as pd\n",
    "import numpy as np\n",
    "import datetime \n",
    "customers={'customer_id':[1234,1235,1111,2222,3334,3333,4444,5555],\n",
    "             'Name':['Mike', 'Maria', 'Nasir', 'Ali',\"Ahmed\", 'Saad',\"Hamid\", \"Kami\"],\n",
    "             'Address':['abc23-1', 'xyz-3','abc23-2', 'xyz-5','abc23-6', 'xyz-0','abc23-11', 'xyz-301'],\n",
    "             }\n",
    "customers=pd.DataFrame(customers)\n",
    "customers"
   ]
  },
  {
   "cell_type": "code",
   "execution_count": 3,
   "id": "83a96177",
   "metadata": {},
   "outputs": [
    {
     "name": "stdout",
     "output_type": "stream",
     "text": [
      "<class 'pandas.core.frame.DataFrame'>\n",
      "RangeIndex: 8 entries, 0 to 7\n",
      "Data columns (total 3 columns):\n",
      " #   Column       Non-Null Count  Dtype \n",
      "---  ------       --------------  ----- \n",
      " 0   customer_id  8 non-null      int64 \n",
      " 1   Name         8 non-null      object\n",
      " 2   Address      8 non-null      object\n",
      "dtypes: int64(1), object(2)\n",
      "memory usage: 320.0+ bytes\n"
     ]
    }
   ],
   "source": [
    "customers.info()"
   ]
  },
  {
   "cell_type": "code",
   "execution_count": 5,
   "id": "5b08cebb",
   "metadata": {},
   "outputs": [],
   "source": [
    "#customers.set_index('Customer_id')"
   ]
  },
  {
   "cell_type": "code",
   "execution_count": 6,
   "id": "186d24d4",
   "metadata": {},
   "outputs": [],
   "source": [
    "orders={\n",
    "    'customer_id':[1234,1235,1234,1234,1235,1267,1237,1890],\n",
    "          'order_id':[11,22,33,44,55,66,77,88],\n",
    "         'order_date':[datetime.date(2023,2,1),datetime.date(2023,1,1),\n",
    "                       datetime.date(2023,2,2),datetime.date(2023,1,1),\n",
    "                       datetime.date(2023,2,3),datetime.date(2023,1,2),\n",
    "                       datetime.date(2023,2,4),datetime.date(2023,1,2)],\n",
    "}"
   ]
  },
  {
   "cell_type": "code",
   "execution_count": 8,
   "id": "b068cf23",
   "metadata": {},
   "outputs": [
    {
     "data": {
      "text/html": [
       "<div>\n",
       "<style scoped>\n",
       "    .dataframe tbody tr th:only-of-type {\n",
       "        vertical-align: middle;\n",
       "    }\n",
       "\n",
       "    .dataframe tbody tr th {\n",
       "        vertical-align: top;\n",
       "    }\n",
       "\n",
       "    .dataframe thead th {\n",
       "        text-align: right;\n",
       "    }\n",
       "</style>\n",
       "<table border=\"1\" class=\"dataframe\">\n",
       "  <thead>\n",
       "    <tr style=\"text-align: right;\">\n",
       "      <th></th>\n",
       "      <th>customer_id</th>\n",
       "      <th>order_id</th>\n",
       "      <th>order_date</th>\n",
       "    </tr>\n",
       "  </thead>\n",
       "  <tbody>\n",
       "    <tr>\n",
       "      <th>0</th>\n",
       "      <td>1234</td>\n",
       "      <td>11</td>\n",
       "      <td>2023-02-01</td>\n",
       "    </tr>\n",
       "    <tr>\n",
       "      <th>1</th>\n",
       "      <td>1235</td>\n",
       "      <td>22</td>\n",
       "      <td>2023-01-01</td>\n",
       "    </tr>\n",
       "    <tr>\n",
       "      <th>2</th>\n",
       "      <td>1234</td>\n",
       "      <td>33</td>\n",
       "      <td>2023-02-02</td>\n",
       "    </tr>\n",
       "    <tr>\n",
       "      <th>3</th>\n",
       "      <td>1234</td>\n",
       "      <td>44</td>\n",
       "      <td>2023-01-01</td>\n",
       "    </tr>\n",
       "    <tr>\n",
       "      <th>4</th>\n",
       "      <td>1235</td>\n",
       "      <td>55</td>\n",
       "      <td>2023-02-03</td>\n",
       "    </tr>\n",
       "    <tr>\n",
       "      <th>5</th>\n",
       "      <td>1267</td>\n",
       "      <td>66</td>\n",
       "      <td>2023-01-02</td>\n",
       "    </tr>\n",
       "    <tr>\n",
       "      <th>6</th>\n",
       "      <td>1237</td>\n",
       "      <td>77</td>\n",
       "      <td>2023-02-04</td>\n",
       "    </tr>\n",
       "    <tr>\n",
       "      <th>7</th>\n",
       "      <td>1890</td>\n",
       "      <td>88</td>\n",
       "      <td>2023-01-02</td>\n",
       "    </tr>\n",
       "  </tbody>\n",
       "</table>\n",
       "</div>"
      ],
      "text/plain": [
       "   customer_id  order_id  order_date\n",
       "0         1234        11  2023-02-01\n",
       "1         1235        22  2023-01-01\n",
       "2         1234        33  2023-02-02\n",
       "3         1234        44  2023-01-01\n",
       "4         1235        55  2023-02-03\n",
       "5         1267        66  2023-01-02\n",
       "6         1237        77  2023-02-04\n",
       "7         1890        88  2023-01-02"
      ]
     },
     "execution_count": 8,
     "metadata": {},
     "output_type": "execute_result"
    }
   ],
   "source": [
    "orders=pd.DataFrame(orders)\n",
    "orders"
   ]
  },
  {
   "cell_type": "code",
   "execution_count": 11,
   "id": "0a46014f",
   "metadata": {},
   "outputs": [
    {
     "name": "stdout",
     "output_type": "stream",
     "text": [
      "<class 'pandas.core.frame.DataFrame'>\n",
      "RangeIndex: 8 entries, 0 to 7\n",
      "Data columns (total 3 columns):\n",
      " #   Column       Non-Null Count  Dtype \n",
      "---  ------       --------------  ----- \n",
      " 0   customer_id  8 non-null      int64 \n",
      " 1   order_id     8 non-null      int64 \n",
      " 2   order_date   8 non-null      object\n",
      "dtypes: int64(2), object(1)\n",
      "memory usage: 320.0+ bytes\n"
     ]
    }
   ],
   "source": [
    "orders.info()"
   ]
  },
  {
   "cell_type": "markdown",
   "id": "9f07d9fc",
   "metadata": {},
   "source": [
    "# Merge Data\n",
    "-Inner\n",
    "-Outer\n",
    "-Left\n",
    "-Right"
   ]
  },
  {
   "cell_type": "code",
   "execution_count": 14,
   "id": "11741952",
   "metadata": {},
   "outputs": [],
   "source": [
    "#inner merge >> intersection\n",
    "merged_data=pd.merge(customers,orders)"
   ]
  },
  {
   "cell_type": "code",
   "execution_count": 15,
   "id": "fa7d1911",
   "metadata": {},
   "outputs": [
    {
     "ename": "NameError",
     "evalue": "name 'Flase' is not defined",
     "output_type": "error",
     "traceback": [
      "\u001b[1;31m---------------------------------------------------------------------------\u001b[0m",
      "\u001b[1;31mNameError\u001b[0m                                 Traceback (most recent call last)",
      "\u001b[1;32m~\\AppData\\Local\\Temp\\ipykernel_10812\\1452031792.py\u001b[0m in \u001b[0;36m<module>\u001b[1;34m\u001b[0m\n\u001b[1;32m----> 1\u001b[1;33m \u001b[0mmerged_data\u001b[0m\u001b[1;33m.\u001b[0m\u001b[0msort_values\u001b[0m\u001b[1;33m(\u001b[0m\u001b[0mby\u001b[0m\u001b[1;33m=\u001b[0m\u001b[1;34m'customer_id'\u001b[0m\u001b[1;33m,\u001b[0m\u001b[0mascending\u001b[0m\u001b[1;33m=\u001b[0m\u001b[0mFlase\u001b[0m\u001b[1;33m)\u001b[0m\u001b[1;33m\u001b[0m\u001b[1;33m\u001b[0m\u001b[0m\n\u001b[0m",
      "\u001b[1;31mNameError\u001b[0m: name 'Flase' is not defined"
     ]
    }
   ],
   "source": [
    "merged_data.sort_values(by='customer_id',ascending=Flase)"
   ]
  }
 ],
 "metadata": {
  "kernelspec": {
   "display_name": "Python 3 (ipykernel)",
   "language": "python",
   "name": "python3"
  },
  "language_info": {
   "codemirror_mode": {
    "name": "ipython",
    "version": 3
   },
   "file_extension": ".py",
   "mimetype": "text/x-python",
   "name": "python",
   "nbconvert_exporter": "python",
   "pygments_lexer": "ipython3",
   "version": "3.9.13"
  }
 },
 "nbformat": 4,
 "nbformat_minor": 5
}
