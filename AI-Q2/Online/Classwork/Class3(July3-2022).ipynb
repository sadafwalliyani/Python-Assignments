{
 "cells": [
  {
   "cell_type": "markdown",
   "id": "31f98797",
   "metadata": {},
   "source": [
    "# Conditional Statments\n",
    " - Type Casting\n",
    " - User input\n",
    " - string concatenation\n",
    " - string formatusing >>(format(), f)\n",
    " - String \n",
    " - if statement\n",
    " - else statement\n",
    " \n",
    " "
   ]
  },
  {
   "cell_type": "markdown",
   "id": "9ee77f26",
   "metadata": {},
   "source": [
    "#### Type Casting"
   ]
  },
  {
   "cell_type": "code",
   "execution_count": 2,
   "id": "75bf4a0d",
   "metadata": {},
   "outputs": [],
   "source": [
    "# int, float, str, bool\n",
    "marks = 95"
   ]
  },
  {
   "cell_type": "code",
   "execution_count": 4,
   "id": "ff17d1ff",
   "metadata": {},
   "outputs": [
    {
     "name": "stdout",
     "output_type": "stream",
     "text": [
      "<class 'int'>\n"
     ]
    }
   ],
   "source": [
    "print(type(marks))"
   ]
  },
  {
   "cell_type": "code",
   "execution_count": 5,
   "id": "b3ce49c3",
   "metadata": {},
   "outputs": [
    {
     "data": {
      "text/plain": [
       "95.0"
      ]
     },
     "execution_count": 5,
     "metadata": {},
     "output_type": "execute_result"
    }
   ],
   "source": [
    "float_marks = float(marks)\n",
    "float_marks"
   ]
  },
  {
   "cell_type": "code",
   "execution_count": 7,
   "id": "af4000bd",
   "metadata": {},
   "outputs": [
    {
     "data": {
      "text/plain": [
       "float"
      ]
     },
     "execution_count": 7,
     "metadata": {},
     "output_type": "execute_result"
    }
   ],
   "source": [
    "percentage = 85.23\n",
    "type(percentage)"
   ]
  },
  {
   "cell_type": "code",
   "execution_count": 8,
   "id": "aeca2060",
   "metadata": {},
   "outputs": [
    {
     "data": {
      "text/plain": [
       "85"
      ]
     },
     "execution_count": 8,
     "metadata": {},
     "output_type": "execute_result"
    }
   ],
   "source": [
    "int_percentage = int(percentage)\n",
    "int_percentage"
   ]
  },
  {
   "cell_type": "code",
   "execution_count": 12,
   "id": "69634083",
   "metadata": {},
   "outputs": [
    {
     "name": "stdout",
     "output_type": "stream",
     "text": [
      "<class 'str'>\n"
     ]
    },
    {
     "data": {
      "text/plain": [
       "'45'"
      ]
     },
     "execution_count": 12,
     "metadata": {},
     "output_type": "execute_result"
    }
   ],
   "source": [
    "age  = \"45\"\n",
    "print(type(age))\n",
    "age"
   ]
  },
  {
   "cell_type": "code",
   "execution_count": 13,
   "id": "9ce8c57a",
   "metadata": {},
   "outputs": [
    {
     "data": {
      "text/plain": [
       "45"
      ]
     },
     "execution_count": 13,
     "metadata": {},
     "output_type": "execute_result"
    }
   ],
   "source": [
    "int_age = int(age)\n",
    "int_age"
   ]
  },
  {
   "cell_type": "code",
   "execution_count": 14,
   "id": "d7cf7aef",
   "metadata": {},
   "outputs": [],
   "source": [
    "float_age = float(age)"
   ]
  },
  {
   "cell_type": "code",
   "execution_count": 15,
   "id": "3a5f0702",
   "metadata": {},
   "outputs": [
    {
     "data": {
      "text/plain": [
       "45.0"
      ]
     },
     "execution_count": 15,
     "metadata": {},
     "output_type": "execute_result"
    }
   ],
   "source": [
    "float_age"
   ]
  },
  {
   "cell_type": "code",
   "execution_count": 16,
   "id": "90e8d691",
   "metadata": {},
   "outputs": [
    {
     "ename": "ValueError",
     "evalue": "invalid literal for int() with base 10: 'nasir'",
     "output_type": "error",
     "traceback": [
      "\u001b[1;31m---------------------------------------\u001b[0m",
      "\u001b[1;31mValueError\u001b[0mTraceback (most recent call last)",
      "\u001b[1;32m<ipython-input-16-e9142b04c14b>\u001b[0m in \u001b[0;36m<module>\u001b[1;34m\u001b[0m\n\u001b[0;32m      1\u001b[0m \u001b[0mname\u001b[0m  \u001b[1;33m=\u001b[0m \u001b[1;34m\"nasir\"\u001b[0m\u001b[1;33m\u001b[0m\u001b[1;33m\u001b[0m\u001b[0m\n\u001b[1;32m----> 2\u001b[1;33m \u001b[0mint\u001b[0m\u001b[1;33m(\u001b[0m\u001b[0mname\u001b[0m\u001b[1;33m)\u001b[0m\u001b[1;33m\u001b[0m\u001b[1;33m\u001b[0m\u001b[0m\n\u001b[0m",
      "\u001b[1;31mValueError\u001b[0m: invalid literal for int() with base 10: 'nasir'"
     ]
    }
   ],
   "source": [
    "name  = \"nasir\"\n",
    "int(name)"
   ]
  },
  {
   "cell_type": "code",
   "execution_count": 18,
   "id": "8cdc5af9",
   "metadata": {},
   "outputs": [
    {
     "ename": "ValueError",
     "evalue": "could not convert string to float: 'nasir'",
     "output_type": "error",
     "traceback": [
      "\u001b[1;31m---------------------------------------\u001b[0m",
      "\u001b[1;31mValueError\u001b[0mTraceback (most recent call last)",
      "\u001b[1;32m<ipython-input-18-8e2822995b26>\u001b[0m in \u001b[0;36m<module>\u001b[1;34m\u001b[0m\n\u001b[1;32m----> 1\u001b[1;33m \u001b[0mfloat\u001b[0m\u001b[1;33m(\u001b[0m\u001b[0mname\u001b[0m\u001b[1;33m)\u001b[0m\u001b[1;33m\u001b[0m\u001b[1;33m\u001b[0m\u001b[0m\n\u001b[0m",
      "\u001b[1;31mValueError\u001b[0m: could not convert string to float: 'nasir'"
     ]
    }
   ],
   "source": [
    "float(name)"
   ]
  },
  {
   "cell_type": "code",
   "execution_count": 100,
   "id": "c6a6b2c9",
   "metadata": {},
   "outputs": [
    {
     "data": {
      "text/plain": [
       "('C', 101)"
      ]
     },
     "execution_count": 100,
     "metadata": {},
     "output_type": "execute_result"
    }
   ],
   "source": [
    "#67\n",
    "chr(67), ord(\"e\")"
   ]
  },
  {
   "cell_type": "markdown",
   "id": "3ef43948",
   "metadata": {},
   "source": [
    "#### User Input\n",
    "   -  console input\n",
    "   -  run time input\n",
    "   -  user input from console will always be an string value"
   ]
  },
  {
   "cell_type": "code",
   "execution_count": 22,
   "id": "e977f518",
   "metadata": {},
   "outputs": [
    {
     "name": "stdout",
     "output_type": "stream",
     "text": [
      "nasir hussain\n"
     ]
    },
    {
     "data": {
      "text/plain": [
       "'nasir hussain'"
      ]
     },
     "execution_count": 22,
     "metadata": {},
     "output_type": "execute_result"
    }
   ],
   "source": [
    "# input function\n",
    "input()"
   ]
  },
  {
   "cell_type": "code",
   "execution_count": 20,
   "id": "d8e6ce28",
   "metadata": {},
   "outputs": [
    {
     "name": "stdout",
     "output_type": "stream",
     "text": [
      "Please tell me your good name sir!Nasir Hussain\n"
     ]
    }
   ],
   "source": [
    "user_name = input(\"Please tell me your good name sir!\")"
   ]
  },
  {
   "cell_type": "code",
   "execution_count": 21,
   "id": "33c0595e",
   "metadata": {},
   "outputs": [
    {
     "data": {
      "text/plain": [
       "'Nasir Hussain'"
      ]
     },
     "execution_count": 21,
     "metadata": {},
     "output_type": "execute_result"
    }
   ],
   "source": [
    "user_name"
   ]
  },
  {
   "cell_type": "code",
   "execution_count": 23,
   "id": "f7b4f9d0",
   "metadata": {},
   "outputs": [
    {
     "name": "stdout",
     "output_type": "stream",
     "text": [
      "Please enter your age100\n"
     ]
    },
    {
     "data": {
      "text/plain": [
       "'100'"
      ]
     },
     "execution_count": 23,
     "metadata": {},
     "output_type": "execute_result"
    }
   ],
   "source": [
    "user_age = input(\"Please enter your age\")\n",
    "user_age"
   ]
  },
  {
   "cell_type": "markdown",
   "id": "b9063598",
   "metadata": {},
   "source": [
    "#### String Concatenation (+)\n",
    "    - Joining of two strings together!"
   ]
  },
  {
   "cell_type": "code",
   "execution_count": 24,
   "id": "6132bbc3",
   "metadata": {},
   "outputs": [],
   "source": [
    "fname = \"Nasir\"\n",
    "lname = \"Hussain\""
   ]
  },
  {
   "cell_type": "code",
   "execution_count": 25,
   "id": "c4b1053d",
   "metadata": {},
   "outputs": [
    {
     "data": {
      "text/plain": [
       "'NasirHussain'"
      ]
     },
     "execution_count": 25,
     "metadata": {},
     "output_type": "execute_result"
    }
   ],
   "source": [
    "fname + lname "
   ]
  },
  {
   "cell_type": "code",
   "execution_count": 26,
   "id": "795aa80a",
   "metadata": {},
   "outputs": [
    {
     "data": {
      "text/plain": [
       "'PaksitanZindBDAD'"
      ]
     },
     "execution_count": 26,
     "metadata": {},
     "output_type": "execute_result"
    }
   ],
   "source": [
    "\"Paksitan\" + \"ZindBDAD\""
   ]
  },
  {
   "cell_type": "code",
   "execution_count": 27,
   "id": "b0457de7",
   "metadata": {},
   "outputs": [
    {
     "ename": "TypeError",
     "evalue": "can only concatenate str (not \"int\") to str",
     "output_type": "error",
     "traceback": [
      "\u001b[1;31m---------------------------------------\u001b[0m",
      "\u001b[1;31mTypeError\u001b[0mTraceback (most recent call last)",
      "\u001b[1;32m<ipython-input-27-59bdbe926d36>\u001b[0m in \u001b[0;36m<module>\u001b[1;34m\u001b[0m\n\u001b[1;32m----> 1\u001b[1;33m \u001b[1;34m\"aSAD\"\u001b[0m\u001b[1;33m+\u001b[0m \u001b[1;36m45\u001b[0m\u001b[1;33m\u001b[0m\u001b[1;33m\u001b[0m\u001b[0m\n\u001b[0m",
      "\u001b[1;31mTypeError\u001b[0m: can only concatenate str (not \"int\") to str"
     ]
    }
   ],
   "source": [
    "\"aSAD\"+ 45"
   ]
  },
  {
   "cell_type": "code",
   "execution_count": 28,
   "id": "0a9c9803",
   "metadata": {},
   "outputs": [
    {
     "data": {
      "text/plain": [
       "'Asad45'"
      ]
     },
     "execution_count": 28,
     "metadata": {},
     "output_type": "execute_result"
    }
   ],
   "source": [
    "'Asad' + str(45)"
   ]
  },
  {
   "cell_type": "code",
   "execution_count": 29,
   "id": "957061ce",
   "metadata": {},
   "outputs": [
    {
     "name": "stdout",
     "output_type": "stream",
     "text": [
      "enter your nameAsad\n",
      "Enter your year of birth2000\n",
      "Your name is Asad and your year of birth is 2000\n"
     ]
    }
   ],
   "source": [
    "name  = input('enter your name')\n",
    "y_o_b = input('Enter your year of birth')\n",
    "# year of birth although a integer value \n",
    "# but due to console input it will be assigned as string value\n",
    "\n",
    "print(\"Your name is \"+name+\" and your year of birth is \"+ y_o_b)\n",
    "\n",
    "#\"Your name is Ali ang your year of birth is 2000\""
   ]
  },
  {
   "cell_type": "code",
   "execution_count": 30,
   "id": "490980a3",
   "metadata": {},
   "outputs": [
    {
     "name": "stdout",
     "output_type": "stream",
     "text": [
      "Enter your namehassan\n",
      "Enter your age35\n"
     ]
    }
   ],
   "source": [
    "student_name = input(\"Enter your name\")\n",
    "student_age = input(\"Enter your age\")"
   ]
  },
  {
   "cell_type": "code",
   "execution_count": 31,
   "id": "d826ab52",
   "metadata": {},
   "outputs": [
    {
     "ename": "TypeError",
     "evalue": "can only concatenate str (not \"int\") to str",
     "output_type": "error",
     "traceback": [
      "\u001b[1;31m---------------------------------------\u001b[0m",
      "\u001b[1;31mTypeError\u001b[0mTraceback (most recent call last)",
      "\u001b[1;32m<ipython-input-31-e95c80afb618>\u001b[0m in \u001b[0;36m<module>\u001b[1;34m\u001b[0m\n\u001b[1;32m----> 1\u001b[1;33m \u001b[0mstudent_age\u001b[0m \u001b[1;33m+\u001b[0m \u001b[1;36m10\u001b[0m\u001b[1;33m\u001b[0m\u001b[1;33m\u001b[0m\u001b[0m\n\u001b[0m",
      "\u001b[1;31mTypeError\u001b[0m: can only concatenate str (not \"int\") to str"
     ]
    }
   ],
   "source": [
    "student_age + 10\n",
    "# string      int "
   ]
  },
  {
   "cell_type": "code",
   "execution_count": 32,
   "id": "c2885636",
   "metadata": {},
   "outputs": [
    {
     "name": "stdout",
     "output_type": "stream",
     "text": [
      "Enter your namefahad\n",
      "Enter your age40\n"
     ]
    }
   ],
   "source": [
    "student_name = input(\"Enter your name\")\n",
    "student_age = int(input(\"Enter your age\"))"
   ]
  },
  {
   "cell_type": "code",
   "execution_count": 34,
   "id": "58930897",
   "metadata": {},
   "outputs": [
    {
     "data": {
      "text/plain": [
       "50"
      ]
     },
     "execution_count": 34,
     "metadata": {},
     "output_type": "execute_result"
    }
   ],
   "source": [
    "student_age+10\n",
    "# int       int"
   ]
  },
  {
   "cell_type": "code",
   "execution_count": 39,
   "id": "ec64583c",
   "metadata": {},
   "outputs": [
    {
     "name": "stdout",
     "output_type": "stream",
     "text": [
      "Enter your age40.5\n"
     ]
    }
   ],
   "source": [
    "student_age = int(float(input(\"Enter your age\")))  #40"
   ]
  },
  {
   "cell_type": "code",
   "execution_count": 40,
   "id": "2a881e2f",
   "metadata": {},
   "outputs": [
    {
     "data": {
      "text/plain": [
       "40"
      ]
     },
     "execution_count": 40,
     "metadata": {},
     "output_type": "execute_result"
    }
   ],
   "source": [
    "student_age"
   ]
  },
  {
   "cell_type": "code",
   "execution_count": 41,
   "id": "e984e9fa",
   "metadata": {},
   "outputs": [
    {
     "name": "stdout",
     "output_type": "stream",
     "text": [
      "Enter your namenasir\n",
      "Enter your age34\n"
     ]
    },
    {
     "ename": "TypeError",
     "evalue": "can only concatenate str (not \"int\") to str",
     "output_type": "error",
     "traceback": [
      "\u001b[1;31m---------------------------------------\u001b[0m",
      "\u001b[1;31mTypeError\u001b[0mTraceback (most recent call last)",
      "\u001b[1;32m<ipython-input-41-9ce98cbdbd92>\u001b[0m in \u001b[0;36m<module>\u001b[1;34m\u001b[0m\n\u001b[0;32m      2\u001b[0m \u001b[0mstudent_age\u001b[0m \u001b[1;33m=\u001b[0m \u001b[0mint\u001b[0m\u001b[1;33m(\u001b[0m\u001b[0minput\u001b[0m\u001b[1;33m(\u001b[0m\u001b[1;34m\"Enter your age\"\u001b[0m\u001b[1;33m)\u001b[0m\u001b[1;33m)\u001b[0m\u001b[1;33m\u001b[0m\u001b[1;33m\u001b[0m\u001b[0m\n\u001b[0;32m      3\u001b[0m \u001b[1;33m\u001b[0m\u001b[0m\n\u001b[1;32m----> 4\u001b[1;33m \u001b[0mprint\u001b[0m\u001b[1;33m(\u001b[0m\u001b[1;34m\"Your name is \"\u001b[0m\u001b[1;33m+\u001b[0m\u001b[0mstudent_name\u001b[0m\u001b[1;33m+\u001b[0m\u001b[1;34m\" and your year of birth is \"\u001b[0m\u001b[1;33m+\u001b[0m \u001b[0mstudent_age\u001b[0m\u001b[1;33m)\u001b[0m\u001b[1;33m\u001b[0m\u001b[1;33m\u001b[0m\u001b[0m\n\u001b[0m",
      "\u001b[1;31mTypeError\u001b[0m: can only concatenate str (not \"int\") to str"
     ]
    }
   ],
   "source": [
    "student_name = input(\"Enter your name\")\n",
    "student_age = int(input(\"Enter your age\"))\n",
    "\n",
    "print(\"Your name is \"+student_name+\" and your year of birth is \"+ student_age)"
   ]
  },
  {
   "cell_type": "code",
   "execution_count": 42,
   "id": "15b14455",
   "metadata": {},
   "outputs": [
    {
     "name": "stdout",
     "output_type": "stream",
     "text": [
      "Enter your namenasir\n",
      "Enter your age32\n",
      "Your name is nasir and your year of birth is 32\n"
     ]
    }
   ],
   "source": [
    "student_name = input(\"Enter your name\")\n",
    "student_age = int(input(\"Enter your age\"))\n",
    "\n",
    "print(\"Your name is \"+student_name+\" and your year of birth is \"+ str(student_age))"
   ]
  },
  {
   "cell_type": "markdown",
   "id": "ed5e07a2",
   "metadata": {},
   "source": [
    "#### String Formation \n",
    "   -  format(value1, value2, ...)\n",
    "   - it is easier , simpler than concatenation\n",
    "   - it doent need type casting "
   ]
  },
  {
   "cell_type": "code",
   "execution_count": 47,
   "id": "2af0e6ab",
   "metadata": {},
   "outputs": [
    {
     "name": "stdout",
     "output_type": "stream",
     "text": [
      "Enter your namenasir\n",
      "Enter your age23\n",
      "Student name is nasir and the 23 studentnasir age is 23\n"
     ]
    }
   ],
   "source": [
    "student_name = input(\"Enter your name\")\n",
    "student_age = int(input(\"Enter your age\"))\n",
    "\n",
    "print(\"Student name is {} and the student age is {}\".format(student_name,student_age))\n",
    "# {} PLACE HOLDERS                                              0           1"
   ]
  },
  {
   "cell_type": "code",
   "execution_count": 45,
   "id": "31ba8480",
   "metadata": {},
   "outputs": [
    {
     "data": {
      "text/plain": [
       "'NASIR'"
      ]
     },
     "execution_count": 45,
     "metadata": {},
     "output_type": "execute_result"
    }
   ],
   "source": [
    "\"N{}SI{}\".format(\"A\",\"R\")"
   ]
  },
  {
   "cell_type": "code",
   "execution_count": 48,
   "id": "c7b32b71",
   "metadata": {},
   "outputs": [
    {
     "name": "stdout",
     "output_type": "stream",
     "text": [
      "Enter your nameasad\n",
      "Enter your age34\n",
      "Student name is asad and the student age is 34\n"
     ]
    }
   ],
   "source": [
    "student_name = input(\"Enter your name\")\n",
    "student_age = int(input(\"Enter your age\"))\n",
    "\n",
    "print(\"Student name is {0} and the student age is {1}\".format(student_name,student_age))\n",
    "# {} PLACE HOLDERS                                              0           1"
   ]
  },
  {
   "cell_type": "markdown",
   "id": "f9b30b81",
   "metadata": {},
   "source": [
    "#### String format by f"
   ]
  },
  {
   "cell_type": "code",
   "execution_count": 49,
   "id": "cc3d6764",
   "metadata": {},
   "outputs": [
    {
     "name": "stdout",
     "output_type": "stream",
     "text": [
      "Enter your namehussain\n",
      "Enter your age54\n",
      "Student name is hussain and the student age is 54\n"
     ]
    }
   ],
   "source": [
    "student_name = input(\"Enter your name\")\n",
    "student_age = int(input(\"Enter your age\"))\n",
    "\n",
    "print(f\"Student name is {student_name} and the student age is {student_age}\")\n",
    "# {} PLACE HOLDERS "
   ]
  },
  {
   "cell_type": "markdown",
   "id": "8d99e888",
   "metadata": {},
   "source": [
    "# String \n",
    "   - string is immutable (unchangeable)"
   ]
  },
  {
   "cell_type": "code",
   "execution_count": 50,
   "id": "56485dd9",
   "metadata": {},
   "outputs": [],
   "source": [
    "institute = \"PIAIC\""
   ]
  },
  {
   "cell_type": "code",
   "execution_count": 51,
   "id": "9633220f",
   "metadata": {},
   "outputs": [
    {
     "data": {
      "text/plain": [
       "str"
      ]
     },
     "execution_count": 51,
     "metadata": {},
     "output_type": "execute_result"
    }
   ],
   "source": [
    "type(institute)"
   ]
  },
  {
   "cell_type": "code",
   "execution_count": 52,
   "id": "f55bc5a7",
   "metadata": {},
   "outputs": [
    {
     "data": {
      "text/plain": [
       "'Piaic'"
      ]
     },
     "execution_count": 52,
     "metadata": {},
     "output_type": "execute_result"
    }
   ],
   "source": [
    "institute.capitalize()"
   ]
  },
  {
   "cell_type": "code",
   "execution_count": 54,
   "id": "b686d6d9",
   "metadata": {},
   "outputs": [
    {
     "data": {
      "text/plain": [
       "'piaic'"
      ]
     },
     "execution_count": 54,
     "metadata": {},
     "output_type": "execute_result"
    }
   ],
   "source": [
    "institute.lower()"
   ]
  },
  {
   "cell_type": "code",
   "execution_count": 55,
   "id": "cf9b5f8b",
   "metadata": {},
   "outputs": [
    {
     "data": {
      "text/plain": [
       "'PIAIC'"
      ]
     },
     "execution_count": 55,
     "metadata": {},
     "output_type": "execute_result"
    }
   ],
   "source": [
    "institute.upper()"
   ]
  },
  {
   "cell_type": "code",
   "execution_count": 62,
   "id": "dcac0f23",
   "metadata": {},
   "outputs": [
    {
     "data": {
      "text/plain": [
       "1"
      ]
     },
     "execution_count": 62,
     "metadata": {},
     "output_type": "execute_result"
    }
   ],
   "source": [
    "institute.count(\"PIAIC\")"
   ]
  },
  {
   "cell_type": "code",
   "execution_count": 63,
   "id": "a7e2adaf",
   "metadata": {},
   "outputs": [],
   "source": [
    "ins='Presidentail Initiative for AI and computing'\n",
    "#    01234567890123456789012345678901234567890123"
   ]
  },
  {
   "cell_type": "code",
   "execution_count": 64,
   "id": "d927bee6",
   "metadata": {},
   "outputs": [
    {
     "data": {
      "text/plain": [
       "'e'"
      ]
     },
     "execution_count": 64,
     "metadata": {},
     "output_type": "execute_result"
    }
   ],
   "source": [
    "ins[6]"
   ]
  },
  {
   "cell_type": "code",
   "execution_count": 65,
   "id": "4fb84579",
   "metadata": {},
   "outputs": [
    {
     "data": {
      "text/plain": [
       "'m'"
      ]
     },
     "execution_count": 65,
     "metadata": {},
     "output_type": "execute_result"
    }
   ],
   "source": [
    "ins[37]"
   ]
  },
  {
   "cell_type": "code",
   "execution_count": 66,
   "id": "0fe90130",
   "metadata": {},
   "outputs": [
    {
     "data": {
      "text/plain": [
       "-1"
      ]
     },
     "execution_count": 66,
     "metadata": {},
     "output_type": "execute_result"
    }
   ],
   "source": [
    "institute.find('c')\n",
    "# -1 means not exist"
   ]
  },
  {
   "cell_type": "code",
   "execution_count": 67,
   "id": "1b15c885",
   "metadata": {},
   "outputs": [
    {
     "data": {
      "text/plain": [
       "4"
      ]
     },
     "execution_count": 67,
     "metadata": {},
     "output_type": "execute_result"
    }
   ],
   "source": [
    "institute.find('C')"
   ]
  },
  {
   "cell_type": "code",
   "execution_count": 68,
   "id": "aef85f00",
   "metadata": {},
   "outputs": [
    {
     "data": {
      "text/plain": [
       "1"
      ]
     },
     "execution_count": 68,
     "metadata": {},
     "output_type": "execute_result"
    }
   ],
   "source": [
    "institute.find('I')"
   ]
  },
  {
   "cell_type": "code",
   "execution_count": 70,
   "id": "870d2d90",
   "metadata": {},
   "outputs": [
    {
     "data": {
      "text/plain": [
       "3"
      ]
     },
     "execution_count": 70,
     "metadata": {},
     "output_type": "execute_result"
    }
   ],
   "source": [
    "institute.find(\"I\",2)"
   ]
  },
  {
   "cell_type": "code",
   "execution_count": 73,
   "id": "7d39cc51",
   "metadata": {},
   "outputs": [
    {
     "data": {
      "text/plain": [
       "True"
      ]
     },
     "execution_count": 73,
     "metadata": {},
     "output_type": "execute_result"
    }
   ],
   "source": [
    "institute.isalnum()"
   ]
  },
  {
   "cell_type": "code",
   "execution_count": 74,
   "id": "80092d2f",
   "metadata": {},
   "outputs": [
    {
     "data": {
      "text/plain": [
       "True"
      ]
     },
     "execution_count": 74,
     "metadata": {},
     "output_type": "execute_result"
    }
   ],
   "source": [
    "\"2\".isdigit()"
   ]
  },
  {
   "cell_type": "code",
   "execution_count": 77,
   "id": "f5b9c076",
   "metadata": {},
   "outputs": [
    {
     "data": {
      "text/plain": [
       "10"
      ]
     },
     "execution_count": 77,
     "metadata": {},
     "output_type": "execute_result"
    }
   ],
   "source": [
    "len(\"Pakistan\")"
   ]
  },
  {
   "cell_type": "code",
   "execution_count": 79,
   "id": "d54978df",
   "metadata": {},
   "outputs": [
    {
     "data": {
      "text/plain": [
       "False"
      ]
     },
     "execution_count": 79,
     "metadata": {},
     "output_type": "execute_result"
    }
   ],
   "source": [
    "\"Pakistan\"==\"Pakistan \""
   ]
  },
  {
   "cell_type": "code",
   "execution_count": 80,
   "id": "c226afec",
   "metadata": {},
   "outputs": [
    {
     "data": {
      "text/plain": [
       "'Pakistan'"
      ]
     },
     "execution_count": 80,
     "metadata": {},
     "output_type": "execute_result"
    }
   ],
   "source": [
    "' Pakistan'.lstrip()"
   ]
  },
  {
   "cell_type": "code",
   "execution_count": 81,
   "id": "d5f47477",
   "metadata": {},
   "outputs": [
    {
     "data": {
      "text/plain": [
       "'Pakistan'"
      ]
     },
     "execution_count": 81,
     "metadata": {},
     "output_type": "execute_result"
    }
   ],
   "source": [
    "'Pakistan  '.rstrip()"
   ]
  },
  {
   "cell_type": "code",
   "execution_count": 82,
   "id": "69fcaf5b",
   "metadata": {},
   "outputs": [
    {
     "data": {
      "text/plain": [
       "'Paksitan'"
      ]
     },
     "execution_count": 82,
     "metadata": {},
     "output_type": "execute_result"
    }
   ],
   "source": [
    "\"   Paksitan   \".strip()"
   ]
  },
  {
   "cell_type": "code",
   "execution_count": 83,
   "id": "7015695b",
   "metadata": {},
   "outputs": [
    {
     "data": {
      "text/plain": [
       "'Presidentail Initiative for AI and computing'"
      ]
     },
     "execution_count": 83,
     "metadata": {},
     "output_type": "execute_result"
    }
   ],
   "source": [
    "ins"
   ]
  },
  {
   "cell_type": "code",
   "execution_count": 84,
   "id": "109c9e21",
   "metadata": {},
   "outputs": [
    {
     "data": {
      "text/plain": [
       "'P'"
      ]
     },
     "execution_count": 84,
     "metadata": {},
     "output_type": "execute_result"
    }
   ],
   "source": [
    "ins[0]"
   ]
  },
  {
   "cell_type": "code",
   "execution_count": 86,
   "id": "43a987e0",
   "metadata": {},
   "outputs": [
    {
     "ename": "TypeError",
     "evalue": "'str' object does not support item assignment",
     "output_type": "error",
     "traceback": [
      "\u001b[1;31m---------------------------------------\u001b[0m",
      "\u001b[1;31mTypeError\u001b[0mTraceback (most recent call last)",
      "\u001b[1;32m<ipython-input-86-760cb35aeef0>\u001b[0m in \u001b[0;36m<module>\u001b[1;34m\u001b[0m\n\u001b[1;32m----> 1\u001b[1;33m \u001b[0mins\u001b[0m\u001b[1;33m[\u001b[0m\u001b[1;36m0\u001b[0m\u001b[1;33m]\u001b[0m\u001b[1;33m=\u001b[0m\u001b[1;34m\"p\"\u001b[0m\u001b[1;33m\u001b[0m\u001b[1;33m\u001b[0m\u001b[0m\n\u001b[0m\u001b[0;32m      2\u001b[0m \u001b[1;33m\u001b[0m\u001b[0m\n\u001b[0;32m      3\u001b[0m \u001b[1;31m# immutable\u001b[0m\u001b[1;33m\u001b[0m\u001b[1;33m\u001b[0m\u001b[1;33m\u001b[0m\u001b[0m\n",
      "\u001b[1;31mTypeError\u001b[0m: 'str' object does not support item assignment"
     ]
    }
   ],
   "source": [
    "ins[0]=\"p\"\n",
    "\n",
    "# immutable"
   ]
  },
  {
   "cell_type": "code",
   "execution_count": 87,
   "id": "24ea4289",
   "metadata": {},
   "outputs": [],
   "source": [
    "designation = \"President\""
   ]
  },
  {
   "cell_type": "code",
   "execution_count": 88,
   "id": "95e192f3",
   "metadata": {},
   "outputs": [
    {
     "data": {
      "text/plain": [
       "'PRESIDENT'"
      ]
     },
     "execution_count": 88,
     "metadata": {},
     "output_type": "execute_result"
    }
   ],
   "source": [
    "designation = designation.upper()"
   ]
  },
  {
   "cell_type": "code",
   "execution_count": 89,
   "id": "75bc21f1",
   "metadata": {},
   "outputs": [
    {
     "data": {
      "text/plain": [
       "'President'"
      ]
     },
     "execution_count": 89,
     "metadata": {},
     "output_type": "execute_result"
    }
   ],
   "source": [
    "designation"
   ]
  },
  {
   "cell_type": "code",
   "execution_count": 90,
   "id": "8aca7adc",
   "metadata": {},
   "outputs": [
    {
     "data": {
      "text/plain": [
       "'president'"
      ]
     },
     "execution_count": 90,
     "metadata": {},
     "output_type": "execute_result"
    }
   ],
   "source": [
    "smallp_President = designation.replace(\"P\",\"p\")"
   ]
  },
  {
   "cell_type": "code",
   "execution_count": 91,
   "id": "c3f37ba1",
   "metadata": {},
   "outputs": [
    {
     "data": {
      "text/plain": [
       "'President'"
      ]
     },
     "execution_count": 91,
     "metadata": {},
     "output_type": "execute_result"
    }
   ],
   "source": [
    "designation"
   ]
  },
  {
   "cell_type": "markdown",
   "id": "64437d29",
   "metadata": {},
   "source": [
    "# If statement\n",
    "    - running a block of code when some specific condtion is satisfied."
   ]
  },
  {
   "cell_type": "code",
   "execution_count": 92,
   "id": "ba96ba48",
   "metadata": {},
   "outputs": [
    {
     "name": "stdout",
     "output_type": "stream",
     "text": [
      "Enter age23\n",
      "Young\n"
     ]
    }
   ],
   "source": [
    "age = int(input('Enter age'))  \n",
    "\n",
    "if age > 18:\n",
    "    print(\"Young\")\n",
    "     "
   ]
  },
  {
   "cell_type": "code",
   "execution_count": 95,
   "id": "1969313a",
   "metadata": {},
   "outputs": [
    {
     "name": "stdout",
     "output_type": "stream",
     "text": [
      "Tamater kia hisab hen50\n"
     ]
    }
   ],
   "source": [
    "tomato_price = int(input(\"Tamater kia hisab hen\"))\n",
    "if tomato_price < 50:\n",
    "    print(\"Give me 5kg\")"
   ]
  },
  {
   "cell_type": "markdown",
   "id": "16c7d16a",
   "metadata": {},
   "source": [
    "# Else Block"
   ]
  },
  {
   "cell_type": "code",
   "execution_count": 98,
   "id": "6f348dc4",
   "metadata": {},
   "outputs": [
    {
     "name": "stdout",
     "output_type": "stream",
     "text": [
      "Tamater kia hisab hen57\n",
      "2KG\n"
     ]
    }
   ],
   "source": [
    "tomato_price = int(input(\"Tamater kia hisab hen\"))\n",
    "if tomato_price < 50:\n",
    "    print(\"Give me 5kg.\")\n",
    "else:\n",
    "    print(\"2KG\")"
   ]
  },
  {
   "cell_type": "raw",
   "id": "231caa00",
   "metadata": {},
   "source": [
    "Will be discussed in next class\n",
    " Elif\n",
    " multiple ifs \n",
    "nested if \n",
    "and , or operator\n"
   ]
  },
  {
   "cell_type": "code",
   "execution_count": null,
   "id": "14fbc75a",
   "metadata": {},
   "outputs": [],
   "source": []
  }
 ],
 "metadata": {
  "kernelspec": {
   "display_name": "Python 3",
   "language": "python",
   "name": "python3"
  },
  "language_info": {
   "codemirror_mode": {
    "name": "ipython",
    "version": 3
   },
   "file_extension": ".py",
   "mimetype": "text/x-python",
   "name": "python",
   "nbconvert_exporter": "python",
   "pygments_lexer": "ipython3",
   "version": "3.7.4"
  }
 },
 "nbformat": 4,
 "nbformat_minor": 5
}
