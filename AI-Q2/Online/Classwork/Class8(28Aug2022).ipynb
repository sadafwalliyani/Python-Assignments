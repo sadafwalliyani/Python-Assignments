{
 "cells": [
  {
   "cell_type": "markdown",
   "id": "88677888",
   "metadata": {},
   "source": [
    "# Function Continue.."
   ]
  },
  {
   "cell_type": "markdown",
   "id": "267f6d86",
   "metadata": {},
   "source": [
    "- Define \n",
    "\n",
    "- Call\n",
    "\n",
    "- Parameters \n",
    "\n",
    "- Arguments\n",
    "\n",
    "- Return\n",
    "\n",
    "- Keyword Arguments\n",
    "\n",
    "- Default Parameters\n",
    "\n"
   ]
  },
  {
   "cell_type": "markdown",
   "id": "743c7c61",
   "metadata": {},
   "source": [
    "### Arbitrary number of arguments "
   ]
  },
  {
   "cell_type": "code",
   "execution_count": 3,
   "id": "d5541524",
   "metadata": {},
   "outputs": [],
   "source": [
    "def user_details(name, email, *other_details):\n",
    "    print(name)\n",
    "    print(email)\n",
    "    for val in other_details:\n",
    "        print(val)"
   ]
  },
  {
   "cell_type": "code",
   "execution_count": 4,
   "id": "77859ce8",
   "metadata": {},
   "outputs": [
    {
     "name": "stdout",
     "output_type": "stream",
     "text": [
      "John\n",
      "john@gmail.com\n",
      "fname\n",
      "contact\n",
      "designation\n"
     ]
    }
   ],
   "source": [
    "user_details(\"John\",\"john@gmail.com\", \"fname\",\"contact\", \"designation\")"
   ]
  },
  {
   "cell_type": "code",
   "execution_count": 5,
   "id": "af83d0e1",
   "metadata": {},
   "outputs": [
    {
     "name": "stdout",
     "output_type": "stream",
     "text": [
      "John\n",
      "john@gmail.com\n"
     ]
    }
   ],
   "source": [
    "user_details(\"John\",\"john@gmail.com\")"
   ]
  },
  {
   "cell_type": "markdown",
   "id": "85b0aca9",
   "metadata": {},
   "source": [
    "### If we are passing keyword-arguments"
   ]
  },
  {
   "cell_type": "code",
   "execution_count": 20,
   "id": "df8f8a0f",
   "metadata": {},
   "outputs": [],
   "source": [
    "def userprofile(first,last, **otherdetails):\n",
    "    print(first)\n",
    "    print(last)\n",
    "    for k,v in otherdetails.items():\n",
    "        print(k,v)"
   ]
  },
  {
   "cell_type": "code",
   "execution_count": 21,
   "id": "1a4e9317",
   "metadata": {},
   "outputs": [
    {
     "name": "stdout",
     "output_type": "stream",
     "text": [
      "Asad\n",
      "Khan\n",
      "city Karachi\n",
      "College UOk\n"
     ]
    }
   ],
   "source": [
    "userprofile(\"Asad\",\"Khan\", city=\"Karachi\", College=\"UOk\")"
   ]
  },
  {
   "cell_type": "markdown",
   "id": "b563d4d4",
   "metadata": {},
   "source": [
    "#### Returning a dictionary"
   ]
  },
  {
   "cell_type": "code",
   "execution_count": 22,
   "id": "5f90701b",
   "metadata": {},
   "outputs": [],
   "source": [
    "def userprofile(first,last,**otherdetails):\n",
    "    profile = {}\n",
    "    profile['first']=first\n",
    "    profile['last'] = last\n",
    "    profile['others'] = otherdetails\n",
    "    return profile"
   ]
  },
  {
   "cell_type": "code",
   "execution_count": 23,
   "id": "cb8c6c87",
   "metadata": {},
   "outputs": [
    {
     "data": {
      "text/plain": [
       "{'first': 'Nasir',\n",
       " 'last': 'Hussain',\n",
       " 'others': {'age': 30,\n",
       "  'location': 'Karachi',\n",
       "  'Subject': 'AI',\n",
       "  'Class': 'Sunday'}}"
      ]
     },
     "execution_count": 23,
     "metadata": {},
     "output_type": "execute_result"
    }
   ],
   "source": [
    "userprofile(first=\"Nasir\", last=\"Hussain\", age=30, location=\"Karachi\", Subject=\"AI\", Class=\"Sunday\")"
   ]
  },
  {
   "cell_type": "code",
   "execution_count": 26,
   "id": "2ea21a92",
   "metadata": {},
   "outputs": [],
   "source": [
    "def userprofile(first,last,**otherdetails):\n",
    "    profile = {}\n",
    "    profile['first']=first\n",
    "    profile['last'] = last\n",
    "    for key,val in otherdetails.items():\n",
    "        profile[key]=val\n",
    "    \n",
    "    return profile"
   ]
  },
  {
   "cell_type": "code",
   "execution_count": 27,
   "id": "17c59e21",
   "metadata": {},
   "outputs": [
    {
     "data": {
      "text/plain": [
       "{'first': 'Nasir',\n",
       " 'last': 'Hussain',\n",
       " 'age': 30,\n",
       " 'location': 'Karachi',\n",
       " 'Subject': 'AI',\n",
       " 'Class': 'Sunday'}"
      ]
     },
     "execution_count": 27,
     "metadata": {},
     "output_type": "execute_result"
    }
   ],
   "source": [
    "userprofile(first=\"Nasir\", last=\"Hussain\", age=30, location=\"Karachi\", Subject=\"AI\", Class=\"Sunday\")"
   ]
  },
  {
   "cell_type": "raw",
   "id": "b2ad231b",
   "metadata": {},
   "source": [
    "8-7. Album: Write a function called make_album() that builds a dictionary\n",
    "describing a music album The function should take in an artist name and an\n",
    "album title, and it should return a dictionary containing these two pieces of\n",
    "information Use the function to make three dictionaries representing different\n",
    "albums Print each return value to show that the dictionaries are storing the\n",
    "album information correctly\n",
    "Add an optional parameter to make_album() that allows you to store the\n",
    "number of tracks on an album If the calling line includes a value for the number of tracks, add that value to the album’s dictionary Make at least one new\n",
    "function call that includes the number of tracks on an album\n",
    "8-8. User Albums: Start with your program from Exercise 8-7 Write a while\n",
    "loop that allows users to enter an album’s artist and title Once you have that\n",
    "information, call make_album() with the user’s input and print the dictionary\n",
    "that’s created Be sure to include a quit value in the while loop"
   ]
  },
  {
   "cell_type": "code",
   "execution_count": 28,
   "id": "93f7b819",
   "metadata": {},
   "outputs": [],
   "source": [
    "def make_album(artistname, album_title):\n",
    "    album ={}\n",
    "    album['artist']=artistname\n",
    "    album['title'] = album_title\n",
    "    return album"
   ]
  },
  {
   "cell_type": "code",
   "execution_count": 29,
   "id": "dfb246e9",
   "metadata": {},
   "outputs": [
    {
     "data": {
      "text/plain": [
       "{'artist': 'artist1', 'title': 'album1'}"
      ]
     },
     "execution_count": 29,
     "metadata": {},
     "output_type": "execute_result"
    }
   ],
   "source": [
    "album1 = make_album(\"artist1\", \"album1\")\n",
    "print(album1)"
   ]
  },
  {
   "cell_type": "code",
   "execution_count": 32,
   "id": "919b31d7",
   "metadata": {},
   "outputs": [
    {
     "name": "stdout",
     "output_type": "stream",
     "text": [
      "{'artist': 'artist2', 'title': 'album2'}\n"
     ]
    }
   ],
   "source": [
    "album2 = make_album(\"artist2\", \"album2\")\n",
    "print(album2)"
   ]
  },
  {
   "cell_type": "code",
   "execution_count": 33,
   "id": "811be897",
   "metadata": {},
   "outputs": [
    {
     "name": "stdout",
     "output_type": "stream",
     "text": [
      "{'artist': 'artist3', 'title': 'album3'}\n"
     ]
    }
   ],
   "source": [
    "album3 = make_album(\"artist3\", \"album3\")\n",
    "print(album3)"
   ]
  },
  {
   "cell_type": "code",
   "execution_count": 46,
   "id": "575038e3",
   "metadata": {},
   "outputs": [
    {
     "name": "stdout",
     "output_type": "stream",
     "text": [
      "'Bye'\n"
     ]
    }
   ],
   "source": [
    "number = None\n",
    "if number:\n",
    "    print(\"HEllo\")\n",
    "else:\n",
    "    print(\"'Bye'\")"
   ]
  },
  {
   "cell_type": "code",
   "execution_count": 43,
   "id": "6074ed0a",
   "metadata": {},
   "outputs": [],
   "source": [
    "def make_album(artistname, album_title,number_of_tracks=None):\n",
    "    album ={}\n",
    "    album['artist']=artistname\n",
    "    album['title'] = album_title\n",
    "    if number_of_tracks:\n",
    "        album['tracks'] = number_of_tracks\n",
    "    return album"
   ]
  },
  {
   "cell_type": "code",
   "execution_count": 44,
   "id": "210fe1bf",
   "metadata": {},
   "outputs": [
    {
     "data": {
      "text/plain": [
       "{'artist': 'artist3', 'title': 'album3', 'tracks': 23}"
      ]
     },
     "execution_count": 44,
     "metadata": {},
     "output_type": "execute_result"
    }
   ],
   "source": [
    "album4 = make_album(\"artist3\", \"album3\",23)\n",
    "album4"
   ]
  },
  {
   "cell_type": "code",
   "execution_count": 45,
   "id": "1b612a08",
   "metadata": {},
   "outputs": [
    {
     "data": {
      "text/plain": [
       "{'artist': 'artist3', 'title': 'album3'}"
      ]
     },
     "execution_count": 45,
     "metadata": {},
     "output_type": "execute_result"
    }
   ],
   "source": [
    "album5 = make_album(\"artist3\", \"album3\")\n",
    "album5"
   ]
  },
  {
   "cell_type": "code",
   "execution_count": 52,
   "id": "32389d2c",
   "metadata": {},
   "outputs": [
    {
     "name": "stdout",
     "output_type": "stream",
     "text": [
      "Enter artist name or q to exitdfdfgd\n",
      "Enter album title or q to exitfgfgf\n",
      "Enter number of trackst\n"
     ]
    }
   ],
   "source": [
    "while True:\n",
    "    artist_name=input(\"Enter artist name or q to exit\")\n",
    "    if artist_name==\"q\":\n",
    "        break\n",
    "    album_title = input(\"Enter album title or q to exit\")\n",
    "    if album_title==\"q\":\n",
    "        break\n",
    "    number_of_tracks = input(\"Enter number of tracks\")\n",
    "    \n",
    "    if number_of_tracks.isdigit()==False or number_of_tracks==\"0\":\n",
    "        \n",
    "        break\n",
    "        \n",
    "    else:\n",
    "        number_of_tracks=int(number_of_tracks)\n",
    "    "
   ]
  },
  {
   "cell_type": "markdown",
   "id": "92374fd7",
   "metadata": {},
   "source": [
    "## What is git????"
   ]
  },
  {
   "cell_type": "markdown",
   "id": "1fb3792b",
   "metadata": {},
   "source": [
    "- Version Controlling System\n",
    "      \n",
    "-Cloud (google drive, \n",
    "\n",
    "\n",
    "git hub\n"
   ]
  },
  {
   "cell_type": "code",
   "execution_count": 53,
   "id": "4a7a4ec0",
   "metadata": {},
   "outputs": [
    {
     "name": "stdout",
     "output_type": "stream",
     "text": [
      "Enter artist name or q to exitdf\n",
      "Enter album title or q to exitdfg\n",
      "Enter number of tracks3\n",
      "Enter artist name or q to exitq\n"
     ]
    }
   ],
   "source": [
    "while True:\n",
    "    artist_name=input(\"Enter artist name or q to exit\")\n",
    "    if artist_name==\"q\":\n",
    "        break\n",
    "    album_title = input(\"Enter album title or q to exit\")\n",
    "    if album_title==\"q\":\n",
    "        break\n",
    "    number_of_tracks = input(\"Enter number of tracks\")\n",
    "    \n",
    "    if number_of_tracks.isdigit()==False or number_of_tracks==\"0\":\n",
    "        \n",
    "        break\n",
    "        \n",
    "    else:\n",
    "        number_of_tracks=int(number_of_tracks)\n",
    "    "
   ]
  },
  {
   "cell_type": "code",
   "execution_count": null,
   "id": "5553de2c",
   "metadata": {},
   "outputs": [],
   "source": []
  }
 ],
 "metadata": {
  "kernelspec": {
   "display_name": "Python 3",
   "language": "python",
   "name": "python3"
  },
  "language_info": {
   "codemirror_mode": {
    "name": "ipython",
    "version": 3
   },
   "file_extension": ".py",
   "mimetype": "text/x-python",
   "name": "python",
   "nbconvert_exporter": "python",
   "pygments_lexer": "ipython3",
   "version": "3.7.4"
  }
 },
 "nbformat": 4,
 "nbformat_minor": 5
}
