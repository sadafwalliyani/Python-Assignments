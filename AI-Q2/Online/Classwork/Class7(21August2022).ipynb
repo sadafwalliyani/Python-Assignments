{
 "cells": [
  {
   "cell_type": "markdown",
   "id": "fac56857",
   "metadata": {},
   "source": [
    "# Functions\n",
    "   -Buit in\n",
    "   \n",
    "   -User defined"
   ]
  },
  {
   "cell_type": "code",
   "execution_count": 1,
   "id": "703d5e56",
   "metadata": {},
   "outputs": [
    {
     "name": "stdout",
     "output_type": "stream",
     "text": [
      "Hello\n"
     ]
    }
   ],
   "source": [
    "print(\"Hello\")"
   ]
  },
  {
   "cell_type": "code",
   "execution_count": 2,
   "id": "f8c76000",
   "metadata": {},
   "outputs": [
    {
     "data": {
      "text/plain": [
       "5"
      ]
     },
     "execution_count": 2,
     "metadata": {},
     "output_type": "execute_result"
    }
   ],
   "source": [
    "len(\"Hello\")"
   ]
  },
  {
   "cell_type": "raw",
   "id": "f1d8518b",
   "metadata": {},
   "source": [
    "What is a function?\n",
    "  Advantage : code reuseablity\n",
    "              \n",
    "              code simplicity/readablity\n",
    "              bug resolving   "
   ]
  },
  {
   "cell_type": "code",
   "execution_count": 3,
   "id": "68396e2b",
   "metadata": {},
   "outputs": [],
   "source": [
    "#Function define\n",
    "# Function call\n",
    "# Result"
   ]
  },
  {
   "cell_type": "markdown",
   "id": "79b1ba36",
   "metadata": {},
   "source": [
    "##### Defining a function"
   ]
  },
  {
   "cell_type": "code",
   "execution_count": 5,
   "id": "29c187a7",
   "metadata": {},
   "outputs": [],
   "source": [
    "def function_name():\n",
    "    #     function_body\n",
    "    #     function_body\n",
    "    #     function_body\n",
    "    #     function_body\n",
    "    #     function_body\n",
    "    #     function_body\n",
    "    print(\"I am body of my function\")"
   ]
  },
  {
   "cell_type": "markdown",
   "id": "0529589f",
   "metadata": {},
   "source": [
    "#### Calling a function\n"
   ]
  },
  {
   "cell_type": "code",
   "execution_count": 7,
   "id": "fc774d04",
   "metadata": {},
   "outputs": [
    {
     "name": "stdout",
     "output_type": "stream",
     "text": [
      "I am body of my function\n"
     ]
    }
   ],
   "source": [
    "function_name()"
   ]
  },
  {
   "cell_type": "code",
   "execution_count": 8,
   "id": "8c8d45b2",
   "metadata": {},
   "outputs": [
    {
     "name": "stdout",
     "output_type": "stream",
     "text": [
      "I am body of my function\n",
      "I am body of my function\n",
      "I am body of my function\n",
      "I am body of my function\n",
      "I am body of my function\n",
      "I am body of my function\n",
      "I am body of my function\n"
     ]
    }
   ],
   "source": [
    "function_name()\n",
    "function_name()\n",
    "function_name()\n",
    "function_name()\n",
    "function_name()\n",
    "function_name()\n",
    "function_name()"
   ]
  },
  {
   "cell_type": "code",
   "execution_count": 9,
   "id": "0f790641",
   "metadata": {},
   "outputs": [],
   "source": [
    "# Parameterless function\n",
    "\n",
    "def greetUser():\n",
    "    print(\"Welcome\")"
   ]
  },
  {
   "cell_type": "code",
   "execution_count": 10,
   "id": "b2ba7511",
   "metadata": {},
   "outputs": [
    {
     "name": "stdout",
     "output_type": "stream",
     "text": [
      "Welcome\n"
     ]
    }
   ],
   "source": [
    "greetUser()"
   ]
  },
  {
   "cell_type": "markdown",
   "id": "4babcff1",
   "metadata": {},
   "source": [
    "Parameters & Arguments\n",
    "   - Parameters are expexted values given from user\n",
    "   - Arguments are values that user supplies to function"
   ]
  },
  {
   "cell_type": "code",
   "execution_count": 20,
   "id": "01146efb",
   "metadata": {},
   "outputs": [],
   "source": [
    "# parametrized function\n",
    "def greetUser(userName):#parameter\n",
    "    name = userName.upper()\n",
    "    print(f\"Welcome {name}\")"
   ]
  },
  {
   "cell_type": "code",
   "execution_count": 21,
   "id": "2dac29f8",
   "metadata": {},
   "outputs": [
    {
     "ename": "TypeError",
     "evalue": "greetUser() missing 1 required positional argument: 'userName'",
     "output_type": "error",
     "traceback": [
      "\u001b[1;31m---------------------------------------\u001b[0m",
      "\u001b[1;31mTypeError\u001b[0mTraceback (most recent call last)",
      "\u001b[1;32m<ipython-input-21-69567065efe0>\u001b[0m in \u001b[0;36m<module>\u001b[1;34m\u001b[0m\n\u001b[1;32m----> 1\u001b[1;33m \u001b[0mgreetUser\u001b[0m\u001b[1;33m(\u001b[0m\u001b[1;33m)\u001b[0m\u001b[1;33m\u001b[0m\u001b[1;33m\u001b[0m\u001b[0m\n\u001b[0m",
      "\u001b[1;31mTypeError\u001b[0m: greetUser() missing 1 required positional argument: 'userName'"
     ]
    }
   ],
   "source": [
    "greetUser()"
   ]
  },
  {
   "cell_type": "code",
   "execution_count": 22,
   "id": "96130000",
   "metadata": {},
   "outputs": [
    {
     "name": "stdout",
     "output_type": "stream",
     "text": [
      "Welcome MR. BEAN\n"
     ]
    }
   ],
   "source": [
    "greetUser(\"Mr. Bean\")#Argument"
   ]
  },
  {
   "cell_type": "code",
   "execution_count": 23,
   "id": "6aaed164",
   "metadata": {},
   "outputs": [],
   "source": [
    "\n",
    "\n",
    "def bio_data(name, age, gender,nationality, email, contact):\n",
    "    print(f\"\"\"\n",
    "            BIO DATA\n",
    "            ________\n",
    "            Name of Student: {name}\n",
    "            Age of Students:{age}\n",
    "            Gender : {gender}\n",
    "            Nationality: {nationality}\n",
    "            Email: {email}\n",
    "            Contact: {contact}\n",
    "            \"\"\")"
   ]
  },
  {
   "cell_type": "code",
   "execution_count": 30,
   "id": "556a19f3",
   "metadata": {},
   "outputs": [
    {
     "name": "stdout",
     "output_type": "stream",
     "text": [
      "\n",
      "            BIO DATA\n",
      "            ________\n",
      "            Name of Student: Ali\n",
      "            Age of Students:23\n",
      "            Gender : M\n",
      "            Nationality: Pak\n",
      "            Email: abc.com\n",
      "            Contact: 123456\n",
      "            \n"
     ]
    }
   ],
   "source": [
    "#positional arguments: are assigned according to positional in the parameters\n",
    "bio_data(\"Ali\",23, \"M\", 'Pak', 'abc.com', \"123456\")"
   ]
  },
  {
   "cell_type": "code",
   "execution_count": 31,
   "id": "ed416e78",
   "metadata": {},
   "outputs": [
    {
     "name": "stdout",
     "output_type": "stream",
     "text": [
      "\n",
      "            BIO DATA\n",
      "            ________\n",
      "            Name of Student: Hassan\n",
      "            Age of Students:23\n",
      "            Gender : M\n",
      "            Nationality: Pak\n",
      "            Email: abc.com\n",
      "            Contact: 123456\n",
      "            \n"
     ]
    }
   ],
   "source": [
    "bio_data(\"Hassan\",23, \"M\", 'Pak', 'abc.com', \"123456\")"
   ]
  },
  {
   "cell_type": "code",
   "execution_count": 32,
   "id": "92adff89",
   "metadata": {},
   "outputs": [],
   "source": [
    "def fullName(fname,lname,age):\n",
    "    print(f\"{fname} {lname}\")\n",
    "    print(f\"age is {age}\")"
   ]
  },
  {
   "cell_type": "code",
   "execution_count": 33,
   "id": "d0797691",
   "metadata": {},
   "outputs": [
    {
     "name": "stdout",
     "output_type": "stream",
     "text": [
      "Hussain 23\n",
      "age is Nasir\n"
     ]
    }
   ],
   "source": [
    "fullName(\"Hussain\", 23, \"Nasir\")"
   ]
  },
  {
   "cell_type": "code",
   "execution_count": 34,
   "id": "687f05d2",
   "metadata": {},
   "outputs": [
    {
     "name": "stdout",
     "output_type": "stream",
     "text": [
      "Nasir hussain\n",
      "age is 34\n"
     ]
    }
   ],
   "source": [
    "#Keywords Arguments\n",
    "fullName(age=34,lname=\"hussain\",fname=\"Nasir\")"
   ]
  },
  {
   "cell_type": "code",
   "execution_count": 35,
   "id": "96be86f3",
   "metadata": {},
   "outputs": [],
   "source": [
    "def area0fTriangle(l,b):\n",
    "    area = 0.5 * l * b\n",
    "    print(f\"Area of triangle is {area} sq.cm\")"
   ]
  },
  {
   "cell_type": "code",
   "execution_count": 36,
   "id": "3c101742",
   "metadata": {},
   "outputs": [
    {
     "name": "stdout",
     "output_type": "stream",
     "text": [
      "Area of triangle is 517.5 sq.cm\n"
     ]
    }
   ],
   "source": [
    "area0fTriangle(23,45)"
   ]
  },
  {
   "cell_type": "code",
   "execution_count": 37,
   "id": "3e639bb4",
   "metadata": {},
   "outputs": [
    {
     "name": "stdout",
     "output_type": "stream",
     "text": [
      "Area of triangle is 5.0 sq.cm\n"
     ]
    }
   ],
   "source": [
    "area0fTriangle(2,5)"
   ]
  },
  {
   "cell_type": "code",
   "execution_count": 44,
   "id": "dac3cac4",
   "metadata": {},
   "outputs": [],
   "source": [
    "def taxCalculator(income):    \n",
    "    tax_amount = 0    \n",
    "    if income >=1000000:        \n",
    "        tax_amount = income * .20        \n",
    "    elif income >=500000:        \n",
    "        tax_amount = income * .10\n",
    "    elif income >=250000:        \n",
    "        tax_amount = income * .05\n",
    "    else:\n",
    "        tax_amount = income  * 0        \n",
    "    return tax_amount\n"
   ]
  },
  {
   "cell_type": "code",
   "execution_count": 45,
   "id": "95307b08",
   "metadata": {},
   "outputs": [
    {
     "data": {
      "text/plain": [
       "400000.0"
      ]
     },
     "execution_count": 45,
     "metadata": {},
     "output_type": "execute_result"
    }
   ],
   "source": [
    "taxCalculator(2000000)"
   ]
  },
  {
   "cell_type": "code",
   "execution_count": 46,
   "id": "3eb24531",
   "metadata": {},
   "outputs": [
    {
     "data": {
      "text/plain": [
       "200000.0"
      ]
     },
     "execution_count": 46,
     "metadata": {},
     "output_type": "execute_result"
    }
   ],
   "source": [
    "taxCalculator(1000000)"
   ]
  },
  {
   "cell_type": "code",
   "execution_count": 47,
   "id": "dfe5fd4f",
   "metadata": {},
   "outputs": [
    {
     "data": {
      "text/plain": [
       "60000.0"
      ]
     },
     "execution_count": 47,
     "metadata": {},
     "output_type": "execute_result"
    }
   ],
   "source": [
    "taxCalculator(600000)"
   ]
  },
  {
   "cell_type": "code",
   "execution_count": 72,
   "id": "0e0e7792",
   "metadata": {},
   "outputs": [],
   "source": [
    "def grossSalary(salary,tax):\n",
    "    gross = salary - tax\n",
    "    print(f\"Gross salary is {gross}\")      "
   ]
  },
  {
   "cell_type": "code",
   "execution_count": 49,
   "id": "9bb5b708",
   "metadata": {},
   "outputs": [
    {
     "name": "stdout",
     "output_type": "stream",
     "text": [
      "Gross salary is 630000.0\n"
     ]
    }
   ],
   "source": [
    "grossSalary(700000,taxCalculator(700000))#None"
   ]
  },
  {
   "cell_type": "code",
   "execution_count": 42,
   "id": "5d1e20ed",
   "metadata": {},
   "outputs": [],
   "source": [
    "def abc():\n",
    "    print(\"iam abc\")\n",
    "    a  = 1000\n",
    "    print(a)"
   ]
  },
  {
   "cell_type": "markdown",
   "id": "e160ceed",
   "metadata": {},
   "source": [
    "### Local Variables and Global Variables\n",
    " - Local Variables: All the vairables defined inside a function body are local \n",
    "   and CAN Not be accessed out side the function\n",
    " - Global Variables: All the vairables defined outside a function body are gloabl and CAN be accessed outside as well as inside the function body"
   ]
  },
  {
   "cell_type": "code",
   "execution_count": 26,
   "id": "7888b5af",
   "metadata": {},
   "outputs": [
    {
     "name": "stdout",
     "output_type": "stream",
     "text": [
      "iam abc\n",
      "1000\n"
     ]
    }
   ],
   "source": [
    "abc()"
   ]
  },
  {
   "cell_type": "code",
   "execution_count": 27,
   "id": "27c86441",
   "metadata": {},
   "outputs": [
    {
     "ename": "NameError",
     "evalue": "name 'a' is not defined",
     "output_type": "error",
     "traceback": [
      "\u001b[1;31m---------------------------------------\u001b[0m",
      "\u001b[1;31mNameError\u001b[0mTraceback (most recent call last)",
      "\u001b[1;32m<ipython-input-27-bca0e2660b9f>\u001b[0m in \u001b[0;36m<module>\u001b[1;34m\u001b[0m\n\u001b[1;32m----> 1\u001b[1;33m \u001b[0mprint\u001b[0m\u001b[1;33m(\u001b[0m\u001b[0ma\u001b[0m\u001b[1;33m)\u001b[0m\u001b[1;33m\u001b[0m\u001b[1;33m\u001b[0m\u001b[0m\n\u001b[0m",
      "\u001b[1;31mNameError\u001b[0m: name 'a' is not defined"
     ]
    }
   ],
   "source": [
    "print(a)"
   ]
  },
  {
   "cell_type": "code",
   "execution_count": 37,
   "id": "50c08df4",
   "metadata": {},
   "outputs": [],
   "source": [
    "globalvariable = \"im global\"\n",
    "def abc():\n",
    "    print(\"iam abc\")\n",
    "    print(globalvariable)\n",
    "    a  = 1000   # local variable\n",
    "    print(a) # local vairable accessed inside the function body\n",
    "    return \"I m a returned value\""
   ]
  },
  {
   "cell_type": "code",
   "execution_count": 38,
   "id": "129cd0cb",
   "metadata": {},
   "outputs": [
    {
     "name": "stdout",
     "output_type": "stream",
     "text": [
      "iam abc\n",
      "im global\n",
      "1000\n"
     ]
    },
    {
     "data": {
      "text/plain": [
       "'I m a returned value'"
      ]
     },
     "execution_count": 38,
     "metadata": {},
     "output_type": "execute_result"
    }
   ],
   "source": [
    "abc()"
   ]
  },
  {
   "cell_type": "code",
   "execution_count": 34,
   "id": "64c9d193",
   "metadata": {},
   "outputs": [
    {
     "ename": "NameError",
     "evalue": "name 'a' is not defined",
     "output_type": "error",
     "traceback": [
      "\u001b[1;31m---------------------------------------\u001b[0m",
      "\u001b[1;31mNameError\u001b[0mTraceback (most recent call last)",
      "\u001b[1;32m<ipython-input-34-ec9a697eb6f2>\u001b[0m in \u001b[0;36m<module>\u001b[1;34m\u001b[0m\n\u001b[1;32m----> 1\u001b[1;33m \u001b[0mprint\u001b[0m\u001b[1;33m(\u001b[0m\u001b[0ma\u001b[0m\u001b[1;33m)\u001b[0m \u001b[1;31m# local vairable accessed out side the function body>> error\u001b[0m\u001b[1;33m\u001b[0m\u001b[1;33m\u001b[0m\u001b[0m\n\u001b[0m",
      "\u001b[1;31mNameError\u001b[0m: name 'a' is not defined"
     ]
    }
   ],
   "source": [
    "print(a) # local vairable accessed out side the function body>> error"
   ]
  },
  {
   "cell_type": "code",
   "execution_count": 35,
   "id": "477606f3",
   "metadata": {},
   "outputs": [
    {
     "name": "stdout",
     "output_type": "stream",
     "text": [
      "im global\n"
     ]
    }
   ],
   "source": [
    "print(globalvariable)"
   ]
  },
  {
   "cell_type": "code",
   "execution_count": 39,
   "id": "fe8a6a22",
   "metadata": {},
   "outputs": [
    {
     "name": "stdout",
     "output_type": "stream",
     "text": [
      "iam abc\n",
      "im global\n",
      "1000\n",
      "I m a returned value\n"
     ]
    }
   ],
   "source": [
    "print(abc())"
   ]
  },
  {
   "cell_type": "code",
   "execution_count": 59,
   "id": "50d5da83",
   "metadata": {},
   "outputs": [],
   "source": [
    "h = 10"
   ]
  },
  {
   "cell_type": "code",
   "execution_count": 70,
   "id": "2fb9dbe0",
   "metadata": {},
   "outputs": [],
   "source": [
    "hh = 20\n",
    "def xyz():\n",
    "    \n",
    "    print(hh)\n",
    "    h +=1\n",
    "    print(h)"
   ]
  },
  {
   "cell_type": "code",
   "execution_count": 71,
   "id": "7786b437",
   "metadata": {},
   "outputs": [
    {
     "name": "stdout",
     "output_type": "stream",
     "text": [
      "20\n"
     ]
    },
    {
     "ename": "UnboundLocalError",
     "evalue": "local variable 'h' referenced before assignment",
     "output_type": "error",
     "traceback": [
      "\u001b[1;31m---------------------------------------\u001b[0m",
      "\u001b[1;31mUnboundLocalError\u001b[0mTraceback (most recent call last)",
      "\u001b[1;32m<ipython-input-71-228a7b6e2e2b>\u001b[0m in \u001b[0;36m<module>\u001b[1;34m\u001b[0m\n\u001b[1;32m----> 1\u001b[1;33m \u001b[0mxyz\u001b[0m\u001b[1;33m(\u001b[0m\u001b[1;33m)\u001b[0m\u001b[1;33m\u001b[0m\u001b[1;33m\u001b[0m\u001b[0m\n\u001b[0m",
      "\u001b[1;32m<ipython-input-70-328faade97a2>\u001b[0m in \u001b[0;36mxyz\u001b[1;34m()\u001b[0m\n\u001b[0;32m      3\u001b[0m \u001b[1;33m\u001b[0m\u001b[0m\n\u001b[0;32m      4\u001b[0m     \u001b[0mprint\u001b[0m\u001b[1;33m(\u001b[0m\u001b[0mhh\u001b[0m\u001b[1;33m)\u001b[0m\u001b[1;33m\u001b[0m\u001b[1;33m\u001b[0m\u001b[0m\n\u001b[1;32m----> 5\u001b[1;33m     \u001b[0mh\u001b[0m \u001b[1;33m+=\u001b[0m\u001b[1;36m1\u001b[0m\u001b[1;33m\u001b[0m\u001b[1;33m\u001b[0m\u001b[0m\n\u001b[0m\u001b[0;32m      6\u001b[0m     \u001b[0mprint\u001b[0m\u001b[1;33m(\u001b[0m\u001b[0mh\u001b[0m\u001b[1;33m)\u001b[0m\u001b[1;33m\u001b[0m\u001b[1;33m\u001b[0m\u001b[0m\n",
      "\u001b[1;31mUnboundLocalError\u001b[0m: local variable 'h' referenced before assignment"
     ]
    }
   ],
   "source": [
    "xyz()"
   ]
  },
  {
   "cell_type": "code",
   "execution_count": 67,
   "id": "1154cfd0",
   "metadata": {},
   "outputs": [
    {
     "name": "stdout",
     "output_type": "stream",
     "text": [
      "11\n"
     ]
    }
   ],
   "source": [
    "print(h)"
   ]
  },
  {
   "cell_type": "code",
   "execution_count": 100,
   "id": "cdf0cf7b",
   "metadata": {},
   "outputs": [],
   "source": [
    "def add(num1,num2):\n",
    "    return num1+num2\n",
    "    print(\"I am after return\")"
   ]
  },
  {
   "cell_type": "code",
   "execution_count": 101,
   "id": "e66c87cf",
   "metadata": {},
   "outputs": [],
   "source": [
    "res = add(2,3)"
   ]
  },
  {
   "cell_type": "code",
   "execution_count": 102,
   "id": "628b543b",
   "metadata": {},
   "outputs": [
    {
     "data": {
      "text/plain": [
       "5"
      ]
     },
     "execution_count": 102,
     "metadata": {},
     "output_type": "execute_result"
    }
   ],
   "source": [
    "res"
   ]
  },
  {
   "cell_type": "code",
   "execution_count": 103,
   "id": "2ced905e",
   "metadata": {},
   "outputs": [
    {
     "name": "stdout",
     "output_type": "stream",
     "text": [
      " this is returned 5\n"
     ]
    }
   ],
   "source": [
    "print(f\" this is returned {add(2,3)}\")"
   ]
  },
  {
   "cell_type": "code",
   "execution_count": 194,
   "id": "a66def60",
   "metadata": {},
   "outputs": [
    {
     "name": "stdout",
     "output_type": "stream",
     "text": [
      "5\n"
     ]
    }
   ],
   "source": [
    "print((add([1,4,3,67,2].sort(), 3)))\n"
   ]
  },
  {
   "cell_type": "code",
   "execution_count": 104,
   "id": "84132b7e",
   "metadata": {},
   "outputs": [],
   "source": [
    "def squareCube(num):\n",
    "    s = num**2\n",
    "    c = num**3\n",
    "    return s,c "
   ]
  },
  {
   "cell_type": "code",
   "execution_count": 110,
   "id": "a2913b29",
   "metadata": {},
   "outputs": [],
   "source": [
    "square, cube = squareCube(5)"
   ]
  },
  {
   "cell_type": "code",
   "execution_count": 111,
   "id": "ff790183",
   "metadata": {},
   "outputs": [
    {
     "data": {
      "text/plain": [
       "25"
      ]
     },
     "execution_count": 111,
     "metadata": {},
     "output_type": "execute_result"
    }
   ],
   "source": [
    "square"
   ]
  },
  {
   "cell_type": "code",
   "execution_count": 112,
   "id": "7258678a",
   "metadata": {},
   "outputs": [
    {
     "data": {
      "text/plain": [
       "125"
      ]
     },
     "execution_count": 112,
     "metadata": {},
     "output_type": "execute_result"
    }
   ],
   "source": [
    "cube"
   ]
  },
  {
   "cell_type": "code",
   "execution_count": 106,
   "id": "2015e0cf",
   "metadata": {},
   "outputs": [],
   "source": [
    "a=(100,200) #packing"
   ]
  },
  {
   "cell_type": "code",
   "execution_count": null,
   "id": "61b5904e",
   "metadata": {},
   "outputs": [],
   "source": []
  },
  {
   "cell_type": "code",
   "execution_count": 107,
   "id": "d32bc42d",
   "metadata": {},
   "outputs": [],
   "source": [
    "me,you = a"
   ]
  },
  {
   "cell_type": "code",
   "execution_count": 108,
   "id": "bb676dd4",
   "metadata": {},
   "outputs": [
    {
     "data": {
      "text/plain": [
       "100"
      ]
     },
     "execution_count": 108,
     "metadata": {},
     "output_type": "execute_result"
    }
   ],
   "source": [
    "me "
   ]
  },
  {
   "cell_type": "code",
   "execution_count": 109,
   "id": "803aaa6d",
   "metadata": {},
   "outputs": [
    {
     "data": {
      "text/plain": [
       "200"
      ]
     },
     "execution_count": 109,
     "metadata": {},
     "output_type": "execute_result"
    }
   ],
   "source": [
    "you"
   ]
  },
  {
   "cell_type": "markdown",
   "id": "e50efdd8",
   "metadata": {},
   "source": [
    "# Default Values"
   ]
  },
  {
   "cell_type": "code",
   "execution_count": 113,
   "id": "698323e0",
   "metadata": {},
   "outputs": [
    {
     "name": "stdout",
     "output_type": "stream",
     "text": [
      "Nasir\n"
     ]
    }
   ],
   "source": [
    "print(\"Nasir\")"
   ]
  },
  {
   "cell_type": "code",
   "execution_count": 122,
   "id": "4e274fcb",
   "metadata": {},
   "outputs": [],
   "source": [
    "def salaryCalc(basic,bonus=0,commission=500):#default values must be last para\n",
    "    \"\"\"Hello i am a salary calc \"\"\"\n",
    "    total =  basic + commission\n",
    "    return total\n",
    "    "
   ]
  },
  {
   "cell_type": "code",
   "execution_count": 118,
   "id": "36299685",
   "metadata": {},
   "outputs": [
    {
     "data": {
      "text/plain": [
       "12000"
      ]
     },
     "execution_count": 118,
     "metadata": {},
     "output_type": "execute_result"
    }
   ],
   "source": [
    "salaryCalc(10000, 2000)\n"
   ]
  },
  {
   "cell_type": "code",
   "execution_count": 119,
   "id": "fecb2f67",
   "metadata": {},
   "outputs": [
    {
     "data": {
      "text/plain": [
       "1500"
      ]
     },
     "execution_count": 119,
     "metadata": {},
     "output_type": "execute_result"
    }
   ],
   "source": [
    "salaryCalc(1000)"
   ]
  },
  {
   "cell_type": "code",
   "execution_count": 123,
   "id": "90715faa",
   "metadata": {},
   "outputs": [],
   "source": [
    "def build_person(first_name, last_name):\n",
    "    person = {'first': first_name, 'last': last_name}\n",
    "    return person\n"
   ]
  },
  {
   "cell_type": "code",
   "execution_count": 124,
   "id": "0348b09a",
   "metadata": {},
   "outputs": [
    {
     "name": "stdout",
     "output_type": "stream",
     "text": [
      "{'first': 'jimi', 'last': 'hendrix'}\n"
     ]
    }
   ],
   "source": [
    "musician = build_person('jimi', 'hendrix')\n",
    "print(musician)"
   ]
  },
  {
   "cell_type": "code",
   "execution_count": 128,
   "id": "095f213d",
   "metadata": {},
   "outputs": [],
   "source": [
    "def build_person(first_name, last_name, age=''):\n",
    "\n",
    "    person = {'first': first_name, 'last': last_name}\n",
    "    if age:\n",
    "        person['age'] = age\n",
    "    return person\n",
    "    "
   ]
  },
  {
   "cell_type": "code",
   "execution_count": 129,
   "id": "93c3295a",
   "metadata": {},
   "outputs": [
    {
     "name": "stdout",
     "output_type": "stream",
     "text": [
      "{'first': 'jimi', 'last': 'hendrix', 'age': 27}\n"
     ]
    }
   ],
   "source": [
    "musician = build_person('jimi', 'hendrix', age=27)\n",
    "print(musician)"
   ]
  },
  {
   "cell_type": "code",
   "execution_count": 130,
   "id": "6988b335",
   "metadata": {},
   "outputs": [
    {
     "name": "stdout",
     "output_type": "stream",
     "text": [
      "{'first': 'jimi', 'last': 'hendrix'}\n"
     ]
    }
   ],
   "source": [
    "musician = build_person('jimi', 'hendrix')\n",
    "print(musician)"
   ]
  },
  {
   "cell_type": "code",
   "execution_count": 133,
   "id": "0ca96bbc",
   "metadata": {},
   "outputs": [],
   "source": [
    "def greet_users(names):\n",
    "\n",
    "    for name in names:\n",
    "        msg = \"Hello, \" + name.title() + \"!\"\n",
    "        print(msg)\n",
    "    "
   ]
  },
  {
   "cell_type": "code",
   "execution_count": 134,
   "id": "7ea56f8f",
   "metadata": {},
   "outputs": [
    {
     "name": "stdout",
     "output_type": "stream",
     "text": [
      "Hello, Hannah!\n",
      "Hello, Ty!\n",
      "Hello, Margot!\n"
     ]
    }
   ],
   "source": [
    "usernames = ['hannah', 'ty', 'margot']\n",
    "greet_users(usernames)"
   ]
  },
  {
   "cell_type": "code",
   "execution_count": 135,
   "id": "f3e59f7d",
   "metadata": {},
   "outputs": [
    {
     "name": "stdout",
     "output_type": "stream",
     "text": [
      "Hello, A!\n",
      "Hello, H!\n",
      "Hello, M!\n",
      "Hello, E!\n",
      "Hello, D!\n"
     ]
    }
   ],
   "source": [
    "greet_users(\"Ahmed\")"
   ]
  },
  {
   "cell_type": "code",
   "execution_count": 138,
   "id": "c3d43282",
   "metadata": {},
   "outputs": [],
   "source": [
    "unprinted_designs = ['iphone case', 'robot pendant', 'dodecahedron']\n",
    "completed_models = []"
   ]
  },
  {
   "cell_type": "code",
   "execution_count": 139,
   "id": "77d89a33",
   "metadata": {},
   "outputs": [
    {
     "name": "stdout",
     "output_type": "stream",
     "text": [
      "Printing model: dodecahedron\n",
      "Printing model: robot pendant\n",
      "Printing model: iphone case\n",
      "\n",
      "The following models have been printed:\n",
      "dodecahedron\n",
      "robot pendant\n",
      "iphone case\n"
     ]
    }
   ],
   "source": [
    "while unprinted_designs:\n",
    "    current_design = unprinted_designs.pop()\n",
    "    \n",
    "    print(\"Printing model: \" + current_design)\n",
    "    completed_models.append(current_design)\n",
    "    \n",
    "print(\"\\nThe following models have been printed:\")\n",
    "for completed_model in completed_models:\n",
    "    print(completed_model)"
   ]
  },
  {
   "cell_type": "code",
   "execution_count": 140,
   "id": "bf537b5a",
   "metadata": {},
   "outputs": [
    {
     "data": {
      "text/plain": [
       "[]"
      ]
     },
     "execution_count": 140,
     "metadata": {},
     "output_type": "execute_result"
    }
   ],
   "source": [
    "unprinted_designs"
   ]
  },
  {
   "cell_type": "code",
   "execution_count": 145,
   "id": "a7bd2777",
   "metadata": {},
   "outputs": [],
   "source": [
    "def print_models(unprinted_designs, completed_models):\n",
    "\n",
    "    while unprinted_designs:\n",
    "        current_design = unprinted_designs.pop()\n",
    "\n",
    "        print(\"Printing model: \" + current_design)\n",
    "        completed_models.append(current_design)"
   ]
  },
  {
   "cell_type": "code",
   "execution_count": 146,
   "id": "69cc9237",
   "metadata": {},
   "outputs": [],
   "source": [
    "def show_completed_models(completed_models):\n",
    "    \n",
    "    print(\"\\nThe following models have been printed:\")\n",
    "    for completed_model in completed_models:\n",
    "        print(completed_model)"
   ]
  },
  {
   "cell_type": "code",
   "execution_count": 147,
   "id": "357526bc",
   "metadata": {},
   "outputs": [],
   "source": [
    "unprinted_designs = ['iphone case', 'robot pendant', 'dodecahedron']\n",
    "completed_models = []"
   ]
  },
  {
   "cell_type": "code",
   "execution_count": 148,
   "id": "77f05e55",
   "metadata": {},
   "outputs": [
    {
     "name": "stdout",
     "output_type": "stream",
     "text": [
      "Printing model: dodecahedron\n",
      "Printing model: robot pendant\n",
      "Printing model: iphone case\n",
      "\n",
      "The following models have been printed:\n",
      "dodecahedron\n",
      "robot pendant\n",
      "iphone case\n"
     ]
    }
   ],
   "source": [
    "print_models(unprinted_designs, completed_models)\n",
    "show_completed_models(completed_models)"
   ]
  },
  {
   "cell_type": "code",
   "execution_count": 163,
   "id": "c4e48a9a",
   "metadata": {},
   "outputs": [],
   "source": [
    "print_models(unprinted_designs[:], completed_models)"
   ]
  },
  {
   "cell_type": "code",
   "execution_count": 149,
   "id": "8fdad9f1",
   "metadata": {},
   "outputs": [],
   "source": [
    "a = [1,2,3]"
   ]
  },
  {
   "cell_type": "code",
   "execution_count": 150,
   "id": "0e33bb92",
   "metadata": {},
   "outputs": [],
   "source": [
    "b = a  #reference "
   ]
  },
  {
   "cell_type": "code",
   "execution_count": 152,
   "id": "76b1553e",
   "metadata": {},
   "outputs": [
    {
     "data": {
      "text/plain": [
       "3"
      ]
     },
     "execution_count": 152,
     "metadata": {},
     "output_type": "execute_result"
    }
   ],
   "source": [
    "b.pop()"
   ]
  },
  {
   "cell_type": "code",
   "execution_count": 153,
   "id": "991b0a85",
   "metadata": {},
   "outputs": [
    {
     "data": {
      "text/plain": [
       "[1, 2]"
      ]
     },
     "execution_count": 153,
     "metadata": {},
     "output_type": "execute_result"
    }
   ],
   "source": [
    "a"
   ]
  },
  {
   "cell_type": "code",
   "execution_count": 154,
   "id": "c6ebf239",
   "metadata": {},
   "outputs": [],
   "source": [
    "b = a.copy() # by value"
   ]
  },
  {
   "cell_type": "code",
   "execution_count": 155,
   "id": "c3d1278f",
   "metadata": {},
   "outputs": [
    {
     "data": {
      "text/plain": [
       "[1, 2]"
      ]
     },
     "execution_count": 155,
     "metadata": {},
     "output_type": "execute_result"
    }
   ],
   "source": [
    "b"
   ]
  },
  {
   "cell_type": "code",
   "execution_count": 162,
   "id": "b25967df",
   "metadata": {},
   "outputs": [],
   "source": [
    "c = a[:] # by value"
   ]
  },
  {
   "cell_type": "code",
   "execution_count": 161,
   "id": "9588016b",
   "metadata": {},
   "outputs": [
    {
     "data": {
      "text/plain": [
       "[1, 2]"
      ]
     },
     "execution_count": 161,
     "metadata": {},
     "output_type": "execute_result"
    }
   ],
   "source": [
    "c"
   ]
  },
  {
   "cell_type": "markdown",
   "id": "116f4f96",
   "metadata": {},
   "source": [
    "#### Passing an arbitrary number of arguments"
   ]
  },
  {
   "cell_type": "code",
   "execution_count": 164,
   "id": "040c2c47",
   "metadata": {},
   "outputs": [],
   "source": [
    "def sumAll(num1,num2):\n",
    "    total = num1 + num "
   ]
  },
  {
   "cell_type": "code",
   "execution_count": 165,
   "id": "6b3d92f0",
   "metadata": {},
   "outputs": [
    {
     "ename": "TypeError",
     "evalue": "sumAll() missing 1 required positional argument: 'num2'",
     "output_type": "error",
     "traceback": [
      "\u001b[1;31m---------------------------------------\u001b[0m",
      "\u001b[1;31mTypeError\u001b[0mTraceback (most recent call last)",
      "\u001b[1;32m<ipython-input-165-67aa85be34f5>\u001b[0m in \u001b[0;36m<module>\u001b[1;34m\u001b[0m\n\u001b[0;32m      1\u001b[0m \u001b[1;31m# error due to 1 less parameter\u001b[0m\u001b[1;33m\u001b[0m\u001b[1;33m\u001b[0m\u001b[1;33m\u001b[0m\u001b[0m\n\u001b[1;32m----> 2\u001b[1;33m \u001b[0msumAll\u001b[0m\u001b[1;33m(\u001b[0m\u001b[1;36m12\u001b[0m\u001b[1;33m)\u001b[0m\u001b[1;33m\u001b[0m\u001b[1;33m\u001b[0m\u001b[0m\n\u001b[0m",
      "\u001b[1;31mTypeError\u001b[0m: sumAll() missing 1 required positional argument: 'num2'"
     ]
    }
   ],
   "source": [
    "# error due to 1 less parameter\n",
    "sumAll(12)"
   ]
  },
  {
   "cell_type": "code",
   "execution_count": 171,
   "id": "9420b0c7",
   "metadata": {},
   "outputs": [],
   "source": [
    "def sumAll(num1=0,num2=0):\n",
    "    return num1 + num2 "
   ]
  },
  {
   "cell_type": "code",
   "execution_count": 172,
   "id": "a8d3e6ed",
   "metadata": {},
   "outputs": [
    {
     "data": {
      "text/plain": [
       "14"
      ]
     },
     "execution_count": 172,
     "metadata": {},
     "output_type": "execute_result"
    }
   ],
   "source": [
    "sumAll(12,2)"
   ]
  },
  {
   "cell_type": "code",
   "execution_count": 173,
   "id": "0791249b",
   "metadata": {},
   "outputs": [
    {
     "data": {
      "text/plain": [
       "12"
      ]
     },
     "execution_count": 173,
     "metadata": {},
     "output_type": "execute_result"
    }
   ],
   "source": [
    "sumAll(12)"
   ]
  },
  {
   "cell_type": "code",
   "execution_count": 174,
   "id": "de16684c",
   "metadata": {},
   "outputs": [
    {
     "data": {
      "text/plain": [
       "0"
      ]
     },
     "execution_count": 174,
     "metadata": {},
     "output_type": "execute_result"
    }
   ],
   "source": [
    "sumAll()"
   ]
  },
  {
   "cell_type": "code",
   "execution_count": 175,
   "id": "82c9ffd5",
   "metadata": {},
   "outputs": [
    {
     "ename": "TypeError",
     "evalue": "sumAll() takes from 0 to 2 positional arguments but 3 were given",
     "output_type": "error",
     "traceback": [
      "\u001b[1;31m---------------------------------------\u001b[0m",
      "\u001b[1;31mTypeError\u001b[0mTraceback (most recent call last)",
      "\u001b[1;32m<ipython-input-175-a3aa4cc3e5e8>\u001b[0m in \u001b[0;36m<module>\u001b[1;34m\u001b[0m\n\u001b[1;32m----> 1\u001b[1;33m \u001b[0msumAll\u001b[0m\u001b[1;33m(\u001b[0m\u001b[1;36m12\u001b[0m\u001b[1;33m,\u001b[0m\u001b[1;36m23\u001b[0m\u001b[1;33m,\u001b[0m\u001b[1;36m34\u001b[0m\u001b[1;33m)\u001b[0m\u001b[1;33m\u001b[0m\u001b[1;33m\u001b[0m\u001b[0m\n\u001b[0m",
      "\u001b[1;31mTypeError\u001b[0m: sumAll() takes from 0 to 2 positional arguments but 3 were given"
     ]
    }
   ],
   "source": [
    "sumAll(12,23,34)"
   ]
  },
  {
   "cell_type": "code",
   "execution_count": 177,
   "id": "4f213ada",
   "metadata": {},
   "outputs": [],
   "source": [
    "def make_pizza(*toppings): # *topping is such type of parameter that can hold anynumber of values supplied to it.\n",
    "    print(toppings)\n",
    "    "
   ]
  },
  {
   "cell_type": "code",
   "execution_count": 178,
   "id": "124e18b1",
   "metadata": {},
   "outputs": [
    {
     "name": "stdout",
     "output_type": "stream",
     "text": [
      "('pepperoni',)\n"
     ]
    }
   ],
   "source": [
    "make_pizza('pepperoni')"
   ]
  },
  {
   "cell_type": "code",
   "execution_count": 179,
   "id": "660b3f1a",
   "metadata": {},
   "outputs": [
    {
     "name": "stdout",
     "output_type": "stream",
     "text": [
      "('mushrooms', 'green peppers', 'extra cheese')\n"
     ]
    }
   ],
   "source": [
    "make_pizza('mushrooms', 'green peppers', 'extra cheese')"
   ]
  },
  {
   "cell_type": "code",
   "execution_count": 181,
   "id": "65f7e9d3",
   "metadata": {},
   "outputs": [],
   "source": [
    "def make_pizza(*toppings):\n",
    "\n",
    "    print(\"\\nMaking a pizza with the following toppings:\")\n",
    "    for topping in toppings:\n",
    "        print(\"- \" + topping)\n"
   ]
  },
  {
   "cell_type": "code",
   "execution_count": 182,
   "id": "e79460af",
   "metadata": {},
   "outputs": [
    {
     "name": "stdout",
     "output_type": "stream",
     "text": [
      "\n",
      "Making a pizza with the following toppings:\n",
      "- pepperoni\n",
      "\n",
      "Making a pizza with the following toppings:\n",
      "- mushrooms\n",
      "- green peppers\n",
      "- extra cheese\n"
     ]
    }
   ],
   "source": [
    "make_pizza('pepperoni')\n",
    "make_pizza('mushrooms', 'green peppers', 'extra cheese')"
   ]
  },
  {
   "cell_type": "code",
   "execution_count": 185,
   "id": "3289371c",
   "metadata": {},
   "outputs": [],
   "source": [
    "def make_pizza(size, *toppings):\n",
    "\n",
    "    print(\"\\nMaking a \" + str(size) + \"-inch pizza with the following toppings:\")\n",
    "    for topping in toppings:\n",
    "        print(\"- \" + topping)\n",
    "    "
   ]
  },
  {
   "cell_type": "code",
   "execution_count": 186,
   "id": "8c034e41",
   "metadata": {},
   "outputs": [
    {
     "name": "stdout",
     "output_type": "stream",
     "text": [
      "\n",
      "Making a 16-inch pizza with the following toppings:\n",
      "- pepperoni\n",
      "\n",
      "Making a 12-inch pizza with the following toppings:\n",
      "- mushrooms\n",
      "- green peppers\n",
      "- extra cheese\n"
     ]
    }
   ],
   "source": [
    "make_pizza(16, 'pepperoni')\n",
    "make_pizza(12, 'mushrooms', 'green peppers', 'extra cheese')"
   ]
  },
  {
   "cell_type": "markdown",
   "id": "cb8cf889",
   "metadata": {},
   "source": [
    "# Using Arbitrary Keyword Arguments"
   ]
  },
  {
   "cell_type": "code",
   "execution_count": 187,
   "id": "26a66a64",
   "metadata": {},
   "outputs": [],
   "source": [
    "def build_profile(first, last, **user_info):\n",
    "\n",
    "    profile = {}\n",
    "    profile['first_name'] = first\n",
    "    profile['last_name'] = last\n",
    "    for key, value in user_info.items():\n",
    "        profile[key] = value\n",
    "    return profile\n"
   ]
  },
  {
   "cell_type": "code",
   "execution_count": 188,
   "id": "c4b61d9b",
   "metadata": {},
   "outputs": [],
   "source": [
    "user_profile = build_profile('albert', 'einstein',location='princeton',\n",
    "field='physics',contact = \"147852\")\n"
   ]
  },
  {
   "cell_type": "code",
   "execution_count": 189,
   "id": "9b28213f",
   "metadata": {},
   "outputs": [
    {
     "name": "stdout",
     "output_type": "stream",
     "text": [
      "{'first_name': 'albert', 'last_name': 'einstein', 'location': 'princeton', 'field': 'physics', 'contact': '147852'}\n"
     ]
    }
   ],
   "source": [
    "print(user_profile)"
   ]
  },
  {
   "cell_type": "code",
   "execution_count": 192,
   "id": "267da0ff",
   "metadata": {},
   "outputs": [],
   "source": [
    "import sqlite3"
   ]
  },
  {
   "cell_type": "code",
   "execution_count": null,
   "id": "28db384c",
   "metadata": {},
   "outputs": [],
   "source": []
  }
 ],
 "metadata": {
  "kernelspec": {
   "display_name": "Python 3",
   "language": "python",
   "name": "python3"
  },
  "language_info": {
   "codemirror_mode": {
    "name": "ipython",
    "version": 3
   },
   "file_extension": ".py",
   "mimetype": "text/x-python",
   "name": "python",
   "nbconvert_exporter": "python",
   "pygments_lexer": "ipython3",
   "version": "3.7.4"
  }
 },
 "nbformat": 4,
 "nbformat_minor": 5
}
