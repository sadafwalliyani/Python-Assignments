{
 "cells": [
  {
   "cell_type": "markdown",
   "id": "35b8f174",
   "metadata": {},
   "source": [
    "# combining_reshaping_data"
   ]
  },
  {
   "cell_type": "markdown",
   "id": "205ecb98",
   "metadata": {},
   "source": [
    "# Merging and joining Data Frames"
   ]
  },
  {
   "cell_type": "code",
   "execution_count": 7,
   "id": "664feb26",
   "metadata": {},
   "outputs": [
    {
     "data": {
      "text/html": [
       "<div>\n",
       "<style scoped>\n",
       "    .dataframe tbody tr th:only-of-type {\n",
       "        vertical-align: middle;\n",
       "    }\n",
       "\n",
       "    .dataframe tbody tr th {\n",
       "        vertical-align: top;\n",
       "    }\n",
       "\n",
       "    .dataframe thead th {\n",
       "        text-align: right;\n",
       "    }\n",
       "</style>\n",
       "<table border=\"1\" class=\"dataframe\">\n",
       "  <thead>\n",
       "    <tr style=\"text-align: right;\">\n",
       "      <th></th>\n",
       "      <th>customer_id</th>\n",
       "      <th>Name</th>\n",
       "      <th>Address</th>\n",
       "    </tr>\n",
       "  </thead>\n",
       "  <tbody>\n",
       "    <tr>\n",
       "      <th>0</th>\n",
       "      <td>1234</td>\n",
       "      <td>Mike</td>\n",
       "      <td>abc23-1</td>\n",
       "    </tr>\n",
       "    <tr>\n",
       "      <th>1</th>\n",
       "      <td>1235</td>\n",
       "      <td>Maria</td>\n",
       "      <td>xyz-3</td>\n",
       "    </tr>\n",
       "    <tr>\n",
       "      <th>2</th>\n",
       "      <td>1111</td>\n",
       "      <td>Nasir</td>\n",
       "      <td>abc23-2</td>\n",
       "    </tr>\n",
       "    <tr>\n",
       "      <th>3</th>\n",
       "      <td>2222</td>\n",
       "      <td>Ali</td>\n",
       "      <td>xyz-5</td>\n",
       "    </tr>\n",
       "    <tr>\n",
       "      <th>4</th>\n",
       "      <td>3334</td>\n",
       "      <td>Ahmed</td>\n",
       "      <td>abc23-6</td>\n",
       "    </tr>\n",
       "    <tr>\n",
       "      <th>5</th>\n",
       "      <td>3333</td>\n",
       "      <td>Saad</td>\n",
       "      <td>xyz-0</td>\n",
       "    </tr>\n",
       "    <tr>\n",
       "      <th>6</th>\n",
       "      <td>4444</td>\n",
       "      <td>Hamid</td>\n",
       "      <td>abc23-11</td>\n",
       "    </tr>\n",
       "    <tr>\n",
       "      <th>7</th>\n",
       "      <td>5555</td>\n",
       "      <td>Kami</td>\n",
       "      <td>xyz-301</td>\n",
       "    </tr>\n",
       "  </tbody>\n",
       "</table>\n",
       "</div>"
      ],
      "text/plain": [
       "   customer_id   Name   Address\n",
       "0         1234   Mike   abc23-1\n",
       "1         1235  Maria     xyz-3\n",
       "2         1111  Nasir   abc23-2\n",
       "3         2222    Ali     xyz-5\n",
       "4         3334  Ahmed   abc23-6\n",
       "5         3333   Saad     xyz-0\n",
       "6         4444  Hamid  abc23-11\n",
       "7         5555   Kami   xyz-301"
      ]
     },
     "execution_count": 7,
     "metadata": {},
     "output_type": "execute_result"
    }
   ],
   "source": [
    "import pandas as pd\n",
    "import numpy as np\n",
    "import datetime \n",
    "customers={'customer_id':[1234,1235,1111,2222,3334,3333,4444,5555],\n",
    "             'Name':['Mike', 'Maria', 'Nasir', 'Ali',\"Ahmed\", 'Saad',\"Hamid\", \"Kami\"],\n",
    "             'Address':['abc23-1', 'xyz-3','abc23-2', 'xyz-5','abc23-6', 'xyz-0','abc23-11', 'xyz-301'],\n",
    "             }\n",
    "customers=pd.DataFrame(customers)\n",
    "customers"
   ]
  },
  {
   "cell_type": "code",
   "execution_count": null,
   "id": "83a96177",
   "metadata": {},
   "outputs": [],
   "source": []
  }
 ],
 "metadata": {
  "kernelspec": {
   "display_name": "Python 3 (ipykernel)",
   "language": "python",
   "name": "python3"
  },
  "language_info": {
   "codemirror_mode": {
    "name": "ipython",
    "version": 3
   },
   "file_extension": ".py",
   "mimetype": "text/x-python",
   "name": "python",
   "nbconvert_exporter": "python",
   "pygments_lexer": "ipython3",
   "version": "3.9.13"
  }
 },
 "nbformat": 4,
 "nbformat_minor": 5
}
